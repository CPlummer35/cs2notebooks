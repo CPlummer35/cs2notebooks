{
 "cells": [
  {
   "cell_type": "markdown",
   "metadata": {},
   "source": [
    "# CS2: Data Structures & Applications\n",
    "\n",
    "## Table of Contents\n",
    "\n",
    "### [0 CS1 Review](./CS1-Review.ipynb)\n",
    "### [1 Kattis demos & Automated testing](https://github.com/rambasnet/kattisdemos)\n",
    "### [2 Struct](./Struct.ipynb)\n",
    "### [3 Memory segments & Pointers](./Pointers.ipynb)\n",
    "- ["
   ]
  },
  {
   "cell_type": "code",
   "execution_count": null,
   "metadata": {},
   "outputs": [],
   "source": []
  }
 ],
 "metadata": {
  "kernelspec": {
   "display_name": "C++14",
   "language": "C++14",
   "name": "xeus-cling-cpp14"
  },
  "language_info": {
   "codemirror_mode": "text/x-c++src",
   "file_extension": ".cpp",
   "mimetype": "text/x-c++src",
   "name": "c++",
   "version": "-std=c++14"
  }
 },
 "nbformat": 4,
 "nbformat_minor": 2
}
