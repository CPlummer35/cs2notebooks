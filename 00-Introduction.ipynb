{
 "cells": [
  {
   "cell_type": "markdown",
   "metadata": {},
   "source": [
    "# CS2: Data Structures\n",
    "\n",
    "## Table of Contents\n",
    "- [CS1 Review](./CS1-Review.ipynb)\n",
    "- [Kattis Demos](https://github.com/rambasnet/kattisdemos)\n",
    "- [Struct](./Struct.ipynb)\n",
    "- [Pointers](./Pointers.ipynb)\n",
    "- ["
   ]
  }
 ],
 "metadata": {
  "kernelspec": {
   "display_name": "C++14",
   "language": "C++14",
   "name": "xeus-cling-cpp14"
  },
  "language_info": {
   "codemirror_mode": "text/x-c++src",
   "file_extension": ".cpp",
   "mimetype": "text/x-c++src",
   "name": "c++",
   "version": "-std=c++14"
  }
 },
 "nbformat": 4,
 "nbformat_minor": 2
}
