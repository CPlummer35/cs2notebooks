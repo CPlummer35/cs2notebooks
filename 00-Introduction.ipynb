{
 "cells": [
  {
   "cell_type": "markdown",
   "metadata": {},
   "source": [
    "# CS2: Data Structures & Applications\n",
    "\n",
    "## Table of Contents\n",
    "\n",
    "**[CS1 Review](./CS1-Review.ipynb)** <br>\n",
    "**[Kattis demos & Automated testing](https://github.com/rambasnet/kattisdemos)** <br>\n",
    "**[Struct](./Struct.ipynb)** <br>\n",
    "**[Memory segments](./MemorySegments.ipynb)** <br>\n",
    "**[Static variables](./StaticVariables.ipynb)** <br>\n",
    "**[Function templates](./FunctionTemplates.ipynb)** <br>\n",
    "**[Pointers](./Pointers.ipynb)** <br>\n",
    "\n"
   ]
  },
  {
   "cell_type": "markdown",
   "metadata": {},
   "source": [
    "## Introduction\n",
    "in-depth: https://opendsa-server.cs.vt.edu/ODSA/Books/CS2/html/IntroDSA.html\n"
   ]
  },
  {
   "cell_type": "code",
   "execution_count": null,
   "metadata": {},
   "outputs": [],
   "source": []
  }
 ],
 "metadata": {
  "kernelspec": {
   "display_name": "C++14",
   "language": "C++14",
   "name": "xeus-cling-cpp14"
  },
  "language_info": {
   "codemirror_mode": "text/x-c++src",
   "file_extension": ".cpp",
   "mimetype": "text/x-c++src",
   "name": "c++",
   "version": "-std=c++14"
  }
 },
 "nbformat": 4,
 "nbformat_minor": 2
}
