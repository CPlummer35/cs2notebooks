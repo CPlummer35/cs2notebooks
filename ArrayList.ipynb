{
 "cells": [
  {
   "cell_type": "markdown",
   "metadata": {},
   "source": [
    "# Array-based List\n",
    "https://opendsa-server.cs.vt.edu/ODSA/Books/CS2/html/ListADT.html\n",
    "\n",
    "## Table of Contents\n",
    "- **[List Definition](#intro)** <br>\n",
    "- **[Defining List ADT](#adt)** <br>\n",
    "- **[Using List ADT](#app)**<br>"
   ]
  },
  {
   "cell_type": "markdown",
   "metadata": {},
   "source": [
    "<a id=\"intro\"></a>"
   ]
  },
  {
   "cell_type": "markdown",
   "metadata": {},
   "source": [
    "## List\n",
    "- C++ STL provides several data structures/containers; often we need to design our own\n",
    "- we'll build **list** Abstract Data Type (ADT) in this chapter\n",
    "- **list**: finite, sequence of data items/elements\n",
    "- some terminologies and definitions:\n",
    "- a list is said to be **empty** when it contains no elements\n",
    "- number of elements currently stored is called the **length**\n",
    "- the beginning of the list is called **head**\n",
    "- the end of the list is called **tail**"
   ]
  },
  {
   "cell_type": "markdown",
   "metadata": {},
   "source": [
    "<a id=\"adt\"></a>"
   ]
  },
  {
   "cell_type": "markdown",
   "metadata": {},
   "source": [
    "## Defining List ADT\n",
    "- how do we store elements? C-Array is one of the easier options!\n",
    "- what basic operations do we want our list to support?\n",
    "- some intuition and experience in using STL container says, we want our list to be able to:\n",
    "    1. add more elements\n",
    "    2. delete elements\n",
    "    3. clear elements\n",
    "    4. access elements\n",
    "    5. know the length and many more...\n",
    "- operations similar to STL Vector\n",
    "- Tricky Operations:\n",
    "    - insert element in the middle\n",
    "    - remove element from the middle"
   ]
  },
  {
   "cell_type": "code",
   "execution_count": 1,
   "metadata": {},
   "outputs": [],
   "source": [
    "#pragma once\n",
    "\n",
    "#include <iostream>\n",
    "#include <cassert>\n",
    "#include <stdexcept>\n",
    "\n",
    "using namespace std;"
   ]
  },
  {
   "cell_type": "code",
   "execution_count": 2,
   "metadata": {
    "code_folding": [
     65,
     72,
     81,
     87,
     93,
     99,
     105,
     111,
     119,
     125,
     132,
     140,
     151,
     158,
     176,
     189,
     195,
     205,
     224
    ]
   },
   "outputs": [],
   "source": [
    "/*\n",
    "Class interface and definition for dynamic array-based ListType template.\n",
    "\n",
    "Class template definition can't be in separate file because\n",
    "the compiler needs to know all the implementation details of the class\n",
    "so it can instantiate different versions of the code, depending on the \n",
    "actual types provided for each template parameters.\n",
    "\n",
    "Remember that a template doesn't represent code directly, but a\n",
    "template for several versions of that code.\n",
    "*/\n",
    "\n",
    "template <class T>\n",
    "class ListType\n",
    "{\n",
    "private:\n",
    "    T *list;\n",
    "    int length;\n",
    "    int maxSize;\n",
    "public:\n",
    "    ListType(size_t max = 10000); // constructor\n",
    "    ListType(const ListType<T> &other); // copy constructor\n",
    "    ~ListType(); // destructor\n",
    "    \n",
    "    // **** LIST META-DATA AND CAPACITY INFO ****\n",
    "    // return true if list is empty\n",
    "    bool isEmpty() const;\n",
    "    // return true if list is full\n",
    "    bool isFull() const;\n",
    "    // get the length/size of the list\n",
    "    int listSize() const;\n",
    "    // get the max list size\n",
    "    int listMaxSize() const;\n",
    "    \n",
    "    // **** ELEMENT ACCESS ****\n",
    "    // retrieve the element at given index\n",
    "    T at(size_t index) const;\n",
    "    // access the last/back element\n",
    "    T back();\n",
    "    // access the first element\n",
    "    T front();\n",
    "    // overload operator[] as member function\n",
    "    T operator[](int index) const;\n",
    "    \n",
    "    // **** MODIFIERS ***\n",
    "    // insert at the end of the list\n",
    "    void pushBack(const T &item);\n",
    "    // delete the last element\n",
    "    void popBack();\n",
    "    // insert given item at the given index\n",
    "    void insertAt(size_t index, const T &item);\n",
    "    // deletes all the elements in the list and resets the list\n",
    "    void clear();\n",
    "    // replace element at index with new item\n",
    "    void replaceAt(size_t index, const T &item);\n",
    "    // remove the element at given index\n",
    "    void removeAt(size_t index);\n",
    "    \n",
    "    // do a linear search on given searchItem and return index if found -1 otherwise\n",
    "    int search(const T &searchItem);\n",
    "    // find the item in the container and remove it\n",
    "    void remove(const T &item);\n",
    "};\n",
    "\n",
    "template <class T>\n",
    "ListType<T>::ListType(size_t max) {\n",
    "    this->maxSize = max;\n",
    "    this->length = 0;\n",
    "    this->list = new T[maxSize]; // dynamic array!\n",
    "}\n",
    "\n",
    "template <class T>\n",
    "ListType<T>::ListType(const ListType<T> &other) {\n",
    "    this->length = other.length;\n",
    "    this->maxSize = other.maxSize;\n",
    "    this->list = new T[maxSize];\n",
    "    for (int i = 0; i<other.length; i++)\n",
    "        this->list[i] = other.list[i];\n",
    "}\n",
    "\n",
    "template <class T>\n",
    "ListType<T>::~ListType() {\n",
    "    delete[] list;\n",
    "}\n",
    "\n",
    "// return true if list is empty\n",
    "template <class T>\n",
    "bool ListType<T>::isEmpty() const {\n",
    "    return (length == 0);\n",
    "}\n",
    "\n",
    "// return true if list is full\n",
    "template <class T>\n",
    "bool ListType<T>::isFull() const {\n",
    "    return (length == maxSize);\n",
    "}\n",
    "\n",
    "// return size/length of the list\n",
    "template <class T>\n",
    "int ListType<T>::listSize() const {\n",
    "    return this->length;\n",
    "}\n",
    "\n",
    "// return the max size of list\n",
    "template <class T>\n",
    "int ListType<T>::listMaxSize() const {\n",
    "    return this->maxSize;\n",
    "}\n",
    "\n",
    "// retrieve the element at given index\n",
    "template <class T>\n",
    "T ListType<T>::at(size_t index) const {\n",
    "    if (index < 0 || index >= length || isFull())\n",
    "       throw out_of_range(\"Index out of range.\");\n",
    "    \n",
    "    return list[index];\n",
    "}\n",
    "\n",
    "template<class T>\n",
    "T ListType<T>::back() {\n",
    "    // doesn't check if the list is empty!\n",
    "    return list[length-1];\n",
    "}\n",
    "\n",
    "template<class T>\n",
    "T ListType<T>::front() {\n",
    "    // doesn't check if the list is empty!\n",
    "    return list[0];\n",
    "}\n",
    "\n",
    "//return the reference to the value at given index\n",
    "template <class T>\n",
    "T ListType<T>::operator[](int index) const {\n",
    "    if (index < 0 || index >= length)\n",
    "        throw out_of_range(\"Index out of range.\");\n",
    "    return list[index];\n",
    "}\n",
    "\n",
    "// insert at the end of the list\n",
    "template <class T>\n",
    "void ListType<T>::pushBack(const T &item) {\n",
    "    if (isFull())\n",
    "        throw overflow_error(\"List is full.\");\n",
    "    else {\n",
    "        list[length] = item;\n",
    "        length++;\n",
    "    }\n",
    "}\n",
    "\n",
    "// delete the last element\n",
    "template <class T>\n",
    "void ListType<T>::popBack() {\n",
    "    removeAt(length-1);\n",
    "}\n",
    "\n",
    "// insert item at the index\n",
    "// Exception: out_of_range thrown when list it full or index is out of bounds\n",
    "template <class T>\n",
    "void ListType<T>::insertAt(size_t index, const T &item) {\n",
    "    if (index < 0 || index >= length)\n",
    "       throw out_of_range(\"Index out of range.\");\n",
    "    else if (isFull()) {\n",
    "        throw overflow_error(\"List is full.\");\n",
    "    }\n",
    "    else {\n",
    "        // move the elements down from the index\n",
    "        // starting from the end\n",
    "        for (int i = length; i > index; i--)\n",
    "            list[i] = list[i - 1];\n",
    "        list[index] = item; // insert the item at the specified index\n",
    "        length++; // increment the length\n",
    "    }\n",
    "}\n",
    "\n",
    "// remove the element at given index\n",
    "template <class T>\n",
    "void ListType<T>::removeAt(size_t index) {\n",
    "    if (index < 0 || index >= length)\n",
    "       throw out_of_range(\"Index out of range.\");\n",
    "    else {\n",
    "        // move elements up one position one at a time \n",
    "        for (int i = index; i < length - 1; i++)\n",
    "            list[i] = list[i + 1];\n",
    "        length--; // decrease list length by 1\n",
    "    }\n",
    "}\n",
    "\n",
    "// deletes all the elements in the list and resets the list\n",
    "template <class T>\n",
    "void ListType<T>::clear() {\n",
    "    length = 0;\n",
    "}\n",
    "\n",
    "// replace element at index with new item\n",
    "template <class T>\n",
    "void ListType<T>::replaceAt(size_t index, const T &item) {\n",
    "    if (index < 0 || index >= length)\n",
    "        throw out_of_range(\"Index out of range.\");\n",
    "    else\n",
    "        list[index] = item;\n",
    "}\n",
    "\n",
    "\n",
    "// do a linear search on given searchItem and return index if found, -1 otherwise\n",
    "template <class T>\n",
    "int ListType<T>::search(const T &searchItem) {\n",
    "    int index = 0;\n",
    "    bool found = false;\n",
    "    while (index < length && !found)\n",
    "    {\n",
    "        if (list[index] == searchItem)\n",
    "            found = true;\n",
    "        else\n",
    "            index++;\n",
    "    }\n",
    "    if (found)\n",
    "        return index;\n",
    "    else\n",
    "        return -1;\n",
    "}\n",
    "\n",
    "// find the item in the container and remove it\n",
    "template <class T>\n",
    "void ListType<T>::remove(const T &item)\n",
    "{\n",
    "    int index = -1;\n",
    "    if (isEmpty())\n",
    "        throw underflow_error(\"List is empty.\");\n",
    "    else\n",
    "    {\n",
    "        index = seqSearch(item);\n",
    "        if (index != -1)\n",
    "            removeAt(index);\n",
    "    }\n",
    "}"
   ]
  },
  {
   "cell_type": "code",
   "execution_count": 3,
   "metadata": {
    "code_folding": [
     3
    ]
   },
   "outputs": [],
   "source": [
    "// print all the elements in the list\n",
    "// overload operator<<\n",
    "template<class T>\n",
    "ostream& operator<<(ostream& out, const ListType<T>& alist){\n",
    "    out << \"max size = \" << alist.listMaxSize() << endl;\n",
    "    out << \"length = \" << alist.listSize() << endl;\n",
    "    out << \"list contents: \" << endl;\n",
    "    for (int i = 0; i<alist.listSize(); i++)\n",
    "        out << alist[i] << \" \";\n",
    "    out << endl;\n",
    "    return out;\n",
    "}"
   ]
  },
  {
   "cell_type": "markdown",
   "metadata": {},
   "source": [
    "<a id=\"app\"></a>"
   ]
  },
  {
   "cell_type": "markdown",
   "metadata": {},
   "source": [
    "## Using ListType ADT"
   ]
  },
  {
   "cell_type": "code",
   "execution_count": 4,
   "metadata": {},
   "outputs": [],
   "source": [
    "// Test ListType\n",
    "ListType<int> ilist(100);"
   ]
  },
  {
   "cell_type": "code",
   "execution_count": 5,
   "metadata": {},
   "outputs": [
    {
     "name": "stdout",
     "output_type": "stream",
     "text": [
      "max size = 100\n",
      "length = 1\n",
      "list contents: \n",
      "10 \n"
     ]
    }
   ],
   "source": [
    "ilist.pushBack(10);\n",
    "cout << ilist;"
   ]
  },
  {
   "cell_type": "code",
   "execution_count": 6,
   "metadata": {},
   "outputs": [
    {
     "name": "stdout",
     "output_type": "stream",
     "text": [
      "max size = 100\n",
      "length = 2\n",
      "list contents: \n",
      "20 10 \n"
     ]
    }
   ],
   "source": [
    "ilist.insertAt(0, 20);\n",
    "cout << ilist;"
   ]
  },
  {
   "cell_type": "code",
   "execution_count": 7,
   "metadata": {},
   "outputs": [
    {
     "name": "stdout",
     "output_type": "stream",
     "text": [
      "max size = 100\n",
      "length = 0\n",
      "list contents: \n",
      "\n"
     ]
    }
   ],
   "source": [
    "ilist.clear();\n",
    "cout << ilist;"
   ]
  },
  {
   "cell_type": "code",
   "execution_count": 8,
   "metadata": {},
   "outputs": [
    {
     "ename": "Error",
     "evalue": "",
     "output_type": "error",
     "traceback": [
      "Error: "
     ]
    }
   ],
   "source": [
    "ilist.replaceAt(0, 200);\n",
    "cout << ilist;"
   ]
  },
  {
   "cell_type": "code",
   "execution_count": 9,
   "metadata": {},
   "outputs": [],
   "source": [
    "int i;"
   ]
  },
  {
   "cell_type": "code",
   "execution_count": 10,
   "metadata": {},
   "outputs": [
    {
     "name": "stdout",
     "output_type": "stream",
     "text": [
      "element not found..."
     ]
    }
   ],
   "source": [
    "i = ilist.search(10);\n",
    "if (i < 0)\n",
    "    cout << \"element not found...\";\n",
    "else\n",
    "    cout << \"element found at index: \" << i << endl;"
   ]
  },
  {
   "cell_type": "code",
   "execution_count": null,
   "metadata": {},
   "outputs": [],
   "source": []
  }
 ],
 "metadata": {
  "kernelspec": {
   "display_name": "C++14",
   "language": "C++14",
   "name": "xeus-cling-cpp14"
  },
  "language_info": {
   "codemirror_mode": "text/x-c++src",
   "file_extension": ".cpp",
   "mimetype": "text/x-c++src",
   "name": "c++",
   "version": "-std=c++14"
  }
 },
 "nbformat": 4,
 "nbformat_minor": 2
}
