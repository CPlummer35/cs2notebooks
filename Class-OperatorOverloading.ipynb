{
 "cells": [
  {
   "cell_type": "markdown",
   "metadata": {},
   "source": [
    "# Overloading Operators\n",
    "http://www.cplusplus.com/doc/tutorial/templates/\n",
    "\n",
    "## Table of Contents\n",
    "- [Overloading operators](#overloading)\n",
    "- [Overloading operators as non-member functions](#non-member)\n",
    "- [Friend functions & application](#friend)\n",
    "- [Overloading with member functions](#member)\n",
    "- [Constant objects and methods](#const)"
   ]
  },
  {
   "cell_type": "markdown",
   "metadata": {},
   "source": [
    "## header includes used in this notebook"
   ]
  },
  {
   "cell_type": "code",
   "execution_count": 1,
   "metadata": {},
   "outputs": [],
   "source": [
    "#include <iostream>\n",
    "#include <string>\n",
    "\n",
    "using namespace std;"
   ]
  },
  {
   "cell_type": "markdown",
   "metadata": {},
   "source": [
    "<a id=\"overloading\"></a>"
   ]
  },
  {
   "cell_type": "markdown",
   "metadata": {},
   "source": [
    "## Overloading operators\n",
    "- classes, essentially, define new types to be used in C++ code\n",
    "- for fundamental type such as int, float, certain operations have been defined using various operators\n",
    "    - such operators such as (+, -, ==, >, etc.) have unambiguous meaning\n",
    "    - c++ basic string class template has most of these operators overloaded. see: https://en.cppreference.com/w/cpp/string/basic_string\n",
    "- classes (user defined types) on the other hand doesn't support these operators out-of-the box\n",
    "- C++ allows most operators to be overloaded so that their behavior can be defined for just about any type...\n",
    "\n",
    "### Overloadable operators\n",
    "-  +,  -, %,  \\*, /, =, +=,  \\*=, /=, %=\n",
    "- <<, >>, <<=, >>=, \n",
    "- <, >, ==, != <=, >=, \n",
    "- ++, --\n",
    "- &, ^, !, |\n",
    "- ~, &=, ^=, |=\n",
    "- &&, ||\n",
    "- [ ], ( ), ->, ->\\*\n",
    "- new, delete, new[], delete[]\n",
    "\n",
    "- Syntax to overload operators:\n",
    "```c++\n",
    "type operator sign (parameters) {\n",
    "    // sign is the operator symbol being overloaded\n",
    "    // function body\n",
    "}\n",
    "```\n",
    "- operators may be overloaded in two forms: \n",
    "    - either as **member function** or as a **non-member function**\n",
    "    "
   ]
  },
  {
   "cell_type": "markdown",
   "metadata": {},
   "source": [
    "<a id=\"non-member\"></a>"
   ]
  },
  {
   "cell_type": "markdown",
   "metadata": {},
   "source": [
    "## Overloading operators with non-member functions\n",
    "- simply define functions that overload operator for some class type!\n",
    "- some operators can NOT be overloaded as non-member functions\n",
    "    - e.g., =, +=, [ ], -=, ( ), ->, etc.\n",
    "- some operators can be ONLY overloaded as non-member functions\n",
    "    - e.g., input insertion (>>) and output extraction operator (<<)\n",
    "\n",
    "<font color=\"red\"><strong>**NOTE**: if you see error in notebook, see complete code provided in demo-programs/operator-overloading/Rectangle.cpp</strong></font>"
   ]
  },
  {
   "cell_type": "markdown",
   "metadata": {},
   "source": [
    "<a id=\"friend\"></a>"
   ]
  },
  {
   "cell_type": "markdown",
   "metadata": {},
   "source": [
    "## Friend functions\n",
    "- friend functions can access private members of a class\n",
    "- class can declare functions as friends, but functions can't declare themselves as a friend to class\n",
    "- friend functions are not member of a class\n",
    "- application of friend function:\n",
    "    - if members are private (they typically are), friend functions can help overload operators as non-member functions\n",
    "- use keyword `friend` in front of function name while marking a function as friend inside any class definition\n",
    "\n",
    "<font color=\"red\"><strong>For example see: demo-programs/operator-overloading/RectangleFriend.cpp</strong></font>"
   ]
  },
  {
   "cell_type": "code",
   "execution_count": 2,
   "metadata": {},
   "outputs": [],
   "source": [
    "// non-member function overload example\n",
    "class Rectangle {\n",
    "    friend void printRectangleFriend(const Rectangle& r);\n",
    "    private:\n",
    "        float length, width;\n",
    "    public: \n",
    "        // default and overloaded constructor\n",
    "        Rectangle(float length=0, float width=0) { \n",
    "            if (length < 0)\n",
    "                length = 0;\n",
    "            if (width == 0)\n",
    "                width = 0;\n",
    "            this->length = length;\n",
    "            this->width = width;\n",
    "        } \n",
    "    \n",
    "        float findArea() const {\n",
    "            return this->length*this->width;\n",
    "        }\n",
    "    \n",
    "        float findPerimeter() const {\n",
    "            return 2*(this->length + this->width);\n",
    "        }\n",
    "};"
   ]
  },
  {
   "cell_type": "code",
   "execution_count": 3,
   "metadata": {},
   "outputs": [],
   "source": [
    "void printRectangle(const Rectangle& r) {\n",
    "    //cout << \"length = \" << r.length << endl; // can't do this!!\n",
    "    //cout << \"width = \" << r.width << endl; // can't do this too!!\n",
    "    cout << \"area = \" << r.findArea() << endl; // can do this!\n",
    "    cout << \"perimeter = \" << r.findPerimeter() << endl; // can do this!!\n",
    "}"
   ]
  },
  {
   "cell_type": "code",
   "execution_count": 4,
   "metadata": {},
   "outputs": [],
   "source": [
    "void printRectangleFriend(const Rectangle& r) {\n",
    "    cout << \"length = \" << r.length << endl; // can't do this!!\n",
    "    cout << \"width = \" << r.width << endl; // can't do this too!!\n",
    "    cout << \"area = \" << r.findArea() << endl; // can do this!\n",
    "    cout << \"perimeter = \" << r.findPerimeter() << endl; // can do this!!\n",
    "}"
   ]
  },
  {
   "cell_type": "code",
   "execution_count": 5,
   "metadata": {},
   "outputs": [],
   "source": [
    "Rectangle smallRect = {4, 2};"
   ]
  },
  {
   "cell_type": "code",
   "execution_count": 6,
   "metadata": {},
   "outputs": [
    {
     "name": "stdout",
     "output_type": "stream",
     "text": [
      "length = 4\n",
      "width = 2\n",
      "area = 8\n",
      "perimeter = 12\n"
     ]
    }
   ],
   "source": [
    "printRectangleFriend(smallRect);"
   ]
  },
  {
   "cell_type": "markdown",
   "metadata": {},
   "source": [
    "<a id=\"member\"></a>"
   ]
  },
  {
   "cell_type": "markdown",
   "metadata": {},
   "source": [
    "## Overloading operator with member functions\n",
    "- some operators may be loaded in two forms: either as a member or as a non-member\n",
    "    - e.g., +, -, \\*, /, >, <, ==, etc.\n",
    "- some operators can be overloaded only as member functions\n",
    "    - e.g., =, +=, [ ], -=, ( ), ->, etc.\n",
    "    \n",
    "<font color=\"red\"><strong>NOTE: See demo-programs/operator-overloading/RectangleMember.cpp for working fully example!</strong></font>"
   ]
  },
  {
   "cell_type": "code",
   "execution_count": 7,
   "metadata": {
    "code_folding": []
   },
   "outputs": [],
   "source": [
    "// overloading with member functions example\n",
    "class Rectangle1 {\n",
    "    private:\n",
    "        float length, width;\n",
    "    \n",
    "    public:\n",
    "        // default and overloaded constructor\n",
    "        Rectangle1(float length=0, float width=0) { \n",
    "            if (length < 0)\n",
    "                length = 0;\n",
    "            if (width == 0)\n",
    "                width = 0;\n",
    "            this->length = length;\n",
    "            this->width = width;\n",
    "        }; \n",
    "    \n",
    "        float findArea() const {\n",
    "            return this->length*this->width;\n",
    "        }\n",
    "    \n",
    "        float findPerimeter() const {\n",
    "            return 2*(this->length + this->width);\n",
    "        }\n",
    "    \n",
    "        // overload + operator\n",
    "        Rectangle1 operator+(const Rectangle1& rhs) {\n",
    "            Rectangle1 temp;\n",
    "            temp.length = this->length + rhs.length;\n",
    "            temp.width = this->width + rhs.width;\n",
    "            return temp;\n",
    "        }\n",
    "        \n",
    "        // overload [] operator\n",
    "        float operator[](unsigned int index) {\n",
    "            if (index == 0)\n",
    "                return this->length;\n",
    "            else\n",
    "                return this->width;\n",
    "        }\n",
    "};"
   ]
  },
  {
   "cell_type": "code",
   "execution_count": 8,
   "metadata": {},
   "outputs": [],
   "source": [
    "Rectangle1 r1 = {20, 10};\n",
    "Rectangle1 r2 = {10, 5};"
   ]
  },
  {
   "cell_type": "code",
   "execution_count": 9,
   "metadata": {},
   "outputs": [],
   "source": [
    "Rectangle1 r = r1 + r2;"
   ]
  },
  {
   "cell_type": "code",
   "execution_count": 10,
   "metadata": {},
   "outputs": [
    {
     "name": "stdout",
     "output_type": "stream",
     "text": [
      "length = 30 width = 15\n"
     ]
    }
   ],
   "source": [
    "cout << \"length = \" << r[0] << \" width = \" << r[1] << endl;"
   ]
  },
  {
   "cell_type": "markdown",
   "metadata": {},
   "source": [
    "<a id=\"const\"></a>"
   ]
  },
  {
   "cell_type": "markdown",
   "metadata": {},
   "source": [
    "## Constant objects and methods\n",
    "- when an object of a class is qualified as a const object:\n",
    "```c++\n",
    "const SomeClass someObject;\n",
    "```\n",
    "    - the access to its data members from outside the class is restricted to read-only, as if all its data members were const for those accessing them from outside the class\n",
    "    - Note: constructor is still called and is allowed to initialize and modify these data members"
   ]
  },
  {
   "cell_type": "code",
   "execution_count": null,
   "metadata": {},
   "outputs": [],
   "source": [
    "class SomeClass {\n",
    "  public:\n",
    "    int x;\n",
    "    SomeClass(int val=0) { this->x = val;}\n",
    "    int getX() { return x; }\n",
    "};"
   ]
  },
  {
   "cell_type": "code",
   "execution_count": null,
   "metadata": {},
   "outputs": [],
   "source": [
    "const SomeClass someObj(10);"
   ]
  },
  {
   "cell_type": "code",
   "execution_count": null,
   "metadata": {},
   "outputs": [],
   "source": [
    "someObj.x = 100; // not allowed becuase someObj is const"
   ]
  },
  {
   "cell_type": "code",
   "execution_count": null,
   "metadata": {},
   "outputs": [],
   "source": [
    "cout << \"x = \" << someObj.x << endl; // x is public member"
   ]
  },
  {
   "cell_type": "code",
   "execution_count": null,
   "metadata": {},
   "outputs": [],
   "source": [
    "cout << \"x = \" << someObj.getX() << endl; // getX is not marked constant!"
   ]
  },
  {
   "cell_type": "code",
   "execution_count": null,
   "metadata": {},
   "outputs": [],
   "source": [
    "class MyClass {\n",
    "  public:\n",
    "    int x;\n",
    "    MyClass(int val=0) { this->x = val;}\n",
    "    int getX() const { return x; }\n",
    "};"
   ]
  },
  {
   "cell_type": "code",
   "execution_count": null,
   "metadata": {},
   "outputs": [],
   "source": [
    "const MyClass myObj(20);"
   ]
  },
  {
   "cell_type": "code",
   "execution_count": null,
   "metadata": {},
   "outputs": [],
   "source": [
    "cout << \"x = \" << myObj.getX() << endl;"
   ]
  },
  {
   "cell_type": "code",
   "execution_count": null,
   "metadata": {},
   "outputs": [],
   "source": [
    "// passing const class objects to function is very common\n",
    "void myPrint(const MyClass& obj) {\n",
    "    cout << \"x = \" << obj.getX() << endl;\n",
    "}"
   ]
  },
  {
   "cell_type": "code",
   "execution_count": null,
   "metadata": {},
   "outputs": [],
   "source": [
    "// myObj is passed by const ref\n",
    "myPrint(myObj);"
   ]
  },
  {
   "cell_type": "markdown",
   "metadata": {},
   "source": [
    "<a id=\"templates\"></a>"
   ]
  },
  {
   "cell_type": "markdown",
   "metadata": {},
   "source": [
    "#### See /demo-programs/operator-overloading/ComplexNumber/ for complete example working with complex numbers and operator overloading"
   ]
  },
  {
   "cell_type": "code",
   "execution_count": null,
   "metadata": {},
   "outputs": [],
   "source": []
  }
 ],
 "metadata": {
  "kernelspec": {
   "display_name": "C++14",
   "language": "C++14",
   "name": "xeus-cling-cpp14"
  },
  "language_info": {
   "codemirror_mode": "text/x-c++src",
   "file_extension": ".cpp",
   "mimetype": "text/x-c++src",
   "name": "c++",
   "version": "-std=c++14"
  }
 },
 "nbformat": 4,
 "nbformat_minor": 2
}
