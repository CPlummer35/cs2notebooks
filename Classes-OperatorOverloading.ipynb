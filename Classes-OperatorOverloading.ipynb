{
 "cells": [
  {
   "cell_type": "markdown",
   "metadata": {},
   "source": [
    "# Overloading Operators & Class Templates\n",
    "http://www.cplusplus.com/doc/tutorial/templates/\n",
    "\n",
    "## Table of Contents\n",
    "- [Overloading operators](#overloading)\n",
    "- [Overloading operators as non-member functions](#non-member)\n",
    "- [Friend functions & overloading application](#friend)\n",
    "- [Overloading with member functions](#member)\n",
    "- [Constant objects and methods](#const)\n",
    "- [Class Templates](#templates)"
   ]
  },
  {
   "cell_type": "markdown",
   "metadata": {},
   "source": [
    "## header includes used in this notebook"
   ]
  },
  {
   "cell_type": "code",
   "execution_count": 1,
   "metadata": {},
   "outputs": [],
   "source": [
    "#include <iostream>\n",
    "#include <string>\n",
    "\n",
    "using namespace std;"
   ]
  },
  {
   "cell_type": "markdown",
   "metadata": {},
   "source": [
    "<a id=\"overloading\"></a>"
   ]
  },
  {
   "cell_type": "markdown",
   "metadata": {},
   "source": [
    "## Overloading operators\n",
    "- classes, essentially, define new types to be used in C++ code\n",
    "- for fundamental type such as int, float, certain operations have been defined using various operators\n",
    "    - such operators such as (+, -, ==, >, etc.) have unambiguous meaning\n",
    "    - c++ basic string class template has most of these operators overloaded. see: https://en.cppreference.com/w/cpp/string/basic_string\n",
    "- classes (user defined types) on the other hand doesn't support these operators out-of-the box\n",
    "- C++ allows most operators to be overloaded so that their behavior can be defined for just about any type...\n",
    "\n",
    "### Overloadable operators\n",
    "-  +,  -, %,  \\*, /, =, +=,  \\*=, /=, %=\n",
    "- <<, >>, <<=, >>=, \n",
    "- <, >, ==, != <=, >=, \n",
    "- ++, --\n",
    "- &, ^, !, |\n",
    "- ~, &=, ^=, |=\n",
    "- &&, ||\n",
    "- [ ], ( ), ->, ->\\*\n",
    "- new, delete, new[], delete[]\n",
    "\n",
    "- Syntax to overload operators:\n",
    "```c++\n",
    "type operator sign (parameters) {\n",
    "    //body\n",
    "}\n",
    "```\n",
    "- operators may be overloaded in two forms: \n",
    "    - either as **member function** or as a **non-member function**\n",
    "    "
   ]
  },
  {
   "cell_type": "markdown",
   "metadata": {},
   "source": [
    "<a id=\"non-member\"></a>"
   ]
  },
  {
   "cell_type": "markdown",
   "metadata": {},
   "source": [
    "## Overloading operators with non-member functions\n",
    "- simply define functions that overload operator for some class type!\n",
    "- some operators can NOT be overloaded as non-member functions\n",
    "    - e.g., =, +=, [ ], -=, ( ), ->, etc.\n",
    "- some operators can be ONLY overloaded as non-member functions\n",
    "    - e.g., input insertion (>>) and output extraction operator (<<)\n",
    "\n",
    "<font color=\"red\"><strong>**NOTE**: if you see error in notebook, see complete code provided in demo-programs/operator-overloading/Rectangle.cpp</strong></font>"
   ]
  },
  {
   "cell_type": "markdown",
   "metadata": {},
   "source": [
    "<a id=\"friend\"></a>"
   ]
  },
  {
   "cell_type": "markdown",
   "metadata": {},
   "source": [
    "## Friend functions\n",
    "- friend functions can access private members of a class\n",
    "- class can declare functions as friends, but functions can't declare themselves as a friend to class\n",
    "- friend functions are not member of a class\n",
    "- application of friend function:\n",
    "    - if members are private (they typically are), friend functions can help overload operators as non-member functions\n",
    "- use keyword `friend` in front of function name while marking a function as friend inside any class definition\n",
    "\n",
    "<font color=\"red\"><strong>For example see: demo-programs/operator-overloading/RectangleFriend.cpp</strong></font>"
   ]
  },
  {
   "cell_type": "code",
   "execution_count": 2,
   "metadata": {},
   "outputs": [],
   "source": [
    "// non-member function overload example\n",
    "class Rectangle {\n",
    "    friend void printRectangleFriend(const Rectangle& r);\n",
    "    private:\n",
    "        float length, width;\n",
    "    public: \n",
    "        // default and overloaded constructor\n",
    "        Rectangle(float length=0, float width=0) { \n",
    "            if (length < 0)\n",
    "                length = 0;\n",
    "            if (width == 0)\n",
    "                width = 0;\n",
    "            this->length = length;\n",
    "            this->width = width;\n",
    "        } \n",
    "    \n",
    "        float getArea() const {\n",
    "            return this->length*this->width;\n",
    "        }\n",
    "    \n",
    "        float getPerimeter() const {\n",
    "            return 2*(this->length + this->width);\n",
    "        }\n",
    "};"
   ]
  },
  {
   "cell_type": "code",
   "execution_count": 3,
   "metadata": {},
   "outputs": [],
   "source": [
    "void printRectangle(const Rectangle& r) {\n",
    "    //cout << \"length = \" << r.length << endl; // can't do this!!\n",
    "    //cout << \"width = \" << r.width << endl; // can't do this too!!\n",
    "    cout << \"area = \" << r.getArea() << endl; // can do this!\n",
    "    cout << \"perimeter = \" << r.getPerimeter() << endl; // can do this!!\n",
    "}"
   ]
  },
  {
   "cell_type": "code",
   "execution_count": 4,
   "metadata": {},
   "outputs": [],
   "source": [
    "void printRectangleFriend(const Rectangle& r) {\n",
    "    cout << \"length = \" << r.length << endl; // can't do this!!\n",
    "    cout << \"width = \" << r.width << endl; // can't do this too!!\n",
    "    cout << \"area = \" << r.getArea() << endl; // can do this!\n",
    "    cout << \"perimeter = \" << r.getPerimeter() << endl; // can do this!!\n",
    "}"
   ]
  },
  {
   "cell_type": "code",
   "execution_count": 5,
   "metadata": {},
   "outputs": [],
   "source": [
    "Rectangle smallRect = {4, 2};"
   ]
  },
  {
   "cell_type": "code",
   "execution_count": 6,
   "metadata": {},
   "outputs": [
    {
     "name": "stdout",
     "output_type": "stream",
     "text": [
      "length = 4\n",
      "width = 2\n",
      "area = 8\n",
      "perimeter = 12\n"
     ]
    }
   ],
   "source": [
    "printRectangleFriend(smallRect);"
   ]
  },
  {
   "cell_type": "markdown",
   "metadata": {},
   "source": [
    "<a id=\"member\"></a>"
   ]
  },
  {
   "cell_type": "markdown",
   "metadata": {},
   "source": [
    "## Overloading operator with member functions\n",
    "- some operators may be loaded in two forms: either as a member or as a non-member\n",
    "    - e.g., +, -, \\*, /, >, <, ==, etc.\n",
    "- some operators can be overloaded only as member functions\n",
    "    - e.g., =, +=, [ ], -=, ( ), ->, etc.\n",
    "    \n",
    "<font color=\"red\"><strong>NOTE: See demo-programs/operator-overloading/RectangleMember.cpp for working fully example!</strong></font>"
   ]
  },
  {
   "cell_type": "code",
   "execution_count": 7,
   "metadata": {},
   "outputs": [],
   "source": [
    "// overloading with member functions example\n",
    "class Rectangle1 {\n",
    "    private:\n",
    "        float length, width;\n",
    "    \n",
    "    public:\n",
    "        // default and overloaded constructor\n",
    "        Rectangle1(float length=0, float width=0) { \n",
    "            if (length < 0)\n",
    "                length = 0;\n",
    "            if (width == 0)\n",
    "                width = 0;\n",
    "            this->length = length;\n",
    "            this->width = width;\n",
    "        }; \n",
    "    \n",
    "        float getArea() const {\n",
    "            return this->length*this->width;\n",
    "        }\n",
    "    \n",
    "        float getPerimeter() const {\n",
    "            return 2*(this->length + this->width);\n",
    "        }\n",
    "    \n",
    "        // overload + operator\n",
    "        Rectangle1 operator+(const Rectangle1& rhs) {\n",
    "            Rectangle1 temp;\n",
    "            temp.length = this->length + rhs.length;\n",
    "            temp.width = this->width + rhs.width;\n",
    "            return temp;\n",
    "        }\n",
    "        \n",
    "        // overload [] operator\n",
    "        float operator[](unsigned int index) {\n",
    "            if (index == 0)\n",
    "                return this->length;\n",
    "            else\n",
    "                return this->width;\n",
    "        }\n",
    "};"
   ]
  },
  {
   "cell_type": "code",
   "execution_count": 8,
   "metadata": {},
   "outputs": [],
   "source": [
    "Rectangle1 r1 = {20, 10};\n",
    "Rectangle1 r2 = {10, 5};"
   ]
  },
  {
   "cell_type": "code",
   "execution_count": 9,
   "metadata": {},
   "outputs": [],
   "source": [
    "Rectangle1 r = r1 + r2;"
   ]
  },
  {
   "cell_type": "code",
   "execution_count": 10,
   "metadata": {},
   "outputs": [
    {
     "name": "stdout",
     "output_type": "stream",
     "text": [
      "length = 30 width = 15\n"
     ]
    }
   ],
   "source": [
    "cout << \"length = \" << r[0] << \" width = \" << r[1] << endl;"
   ]
  },
  {
   "cell_type": "markdown",
   "metadata": {},
   "source": [
    "<a id=\"const\"></a>"
   ]
  },
  {
   "cell_type": "markdown",
   "metadata": {},
   "source": [
    "## Constant objects and methods\n",
    "- when an object of a class is qualified as a const object:\n",
    "```c++\n",
    "const SomeClass someObject;\n",
    "```\n",
    "    - the access to its data members from outside the class is restricted to read-only, as if all its data members were const for those accessing them from outside the class\n",
    "    - Note: constructor is still called and is allowed to initialize and modify these data members"
   ]
  },
  {
   "cell_type": "code",
   "execution_count": 11,
   "metadata": {},
   "outputs": [],
   "source": [
    "class SomeClass {\n",
    "  public:\n",
    "    int x;\n",
    "    SomeClass(int val=0) { this->x = val;}\n",
    "    int getX() { return x; }\n",
    "};"
   ]
  },
  {
   "cell_type": "code",
   "execution_count": 14,
   "metadata": {},
   "outputs": [
    {
     "name": "stderr",
     "output_type": "stream",
     "text": [
      "\u001b[1minput_line_21:2:18: \u001b[0m\u001b[0;1;31merror: \u001b[0m\u001b[1mredefinition of 'someObj'\u001b[0m\n",
      " const SomeClass someObj(10);\n",
      "\u001b[0;1;32m                 ^\n",
      "\u001b[0m\u001b[1minput_line_19:2:18: \u001b[0m\u001b[0;1;30mnote: \u001b[0mprevious definition is here\u001b[0m\n",
      " const SomeClass someObj(10);\n",
      "\u001b[0;1;32m                 ^\n",
      "\u001b[0m"
     ]
    },
    {
     "ename": "Interpreter Error",
     "evalue": "",
     "output_type": "error",
     "traceback": [
      "Interpreter Error: "
     ]
    }
   ],
   "source": [
    "const SomeClass someObj(10);"
   ]
  },
  {
   "cell_type": "code",
   "execution_count": 13,
   "metadata": {},
   "outputs": [
    {
     "name": "stderr",
     "output_type": "stream",
     "text": [
      "\u001b[1minput_line_20:2:12: \u001b[0m\u001b[0;1;31merror: \u001b[0m\u001b[1mcannot assign to variable 'someObj' with const-qualified type 'const SomeClass'\u001b[0m\n",
      " someObj.x = 100; // not allowed becuase someObj is const\n",
      "\u001b[0;1;32m ~~~~~~~~~ ^\n",
      "\u001b[0m\u001b[1minput_line_19:2:18: \u001b[0m\u001b[0;1;30mnote: \u001b[0mvariable 'someObj' declared const here\u001b[0m\n",
      " const SomeClass someObj(10);\n",
      "\u001b[0;1;32m ~~~~~~~~~~~~~~~~^~~~~~~~~~~\n",
      "\u001b[0m"
     ]
    },
    {
     "ename": "Interpreter Error",
     "evalue": "",
     "output_type": "error",
     "traceback": [
      "Interpreter Error: "
     ]
    }
   ],
   "source": [
    "someObj.x = 100; // not allowed becuase someObj is const"
   ]
  },
  {
   "cell_type": "code",
   "execution_count": 15,
   "metadata": {},
   "outputs": [
    {
     "name": "stdout",
     "output_type": "stream",
     "text": [
      "x = 10\n"
     ]
    },
    {
     "data": {
      "text/plain": [
       "@0x104c5a010"
      ]
     },
     "execution_count": 15,
     "metadata": {},
     "output_type": "execute_result"
    }
   ],
   "source": [
    "cout << \"x = \" << someObj.x << endl; // x is public member"
   ]
  },
  {
   "cell_type": "code",
   "execution_count": 16,
   "metadata": {},
   "outputs": [
    {
     "name": "stderr",
     "output_type": "stream",
     "text": [
      "\u001b[1minput_line_26:2:20: \u001b[0m\u001b[0;1;31merror: \u001b[0m\u001b[1mmember function 'getX' not viable: 'this' argument has type 'const SomeClass', but function is\n",
      "      not marked const\u001b[0m\n",
      " cout << \"x = \" << someObj.getX() << endl; // getX is not marked constant!\n",
      "\u001b[0;1;32m                   ^~~~~~~\n",
      "\u001b[0m\u001b[1minput_line_18:5:9: \u001b[0m\u001b[0;1;30mnote: \u001b[0m'getX' declared here\u001b[0m\n",
      "    int getX() { return x; }\n",
      "\u001b[0;1;32m        ^\n",
      "\u001b[0m"
     ]
    },
    {
     "ename": "Interpreter Error",
     "evalue": "",
     "output_type": "error",
     "traceback": [
      "Interpreter Error: "
     ]
    }
   ],
   "source": [
    "cout << \"x = \" << someObj.getX() << endl; // getX is not marked constant!"
   ]
  },
  {
   "cell_type": "code",
   "execution_count": 17,
   "metadata": {},
   "outputs": [],
   "source": [
    "class MyClass {\n",
    "  public:\n",
    "    int x;\n",
    "    MyClass(int val=0) { this->x = val;}\n",
    "    int getX() const { return x; }\n",
    "};"
   ]
  },
  {
   "cell_type": "code",
   "execution_count": 18,
   "metadata": {},
   "outputs": [],
   "source": [
    "const MyClass myObj(20);"
   ]
  },
  {
   "cell_type": "code",
   "execution_count": 19,
   "metadata": {},
   "outputs": [
    {
     "name": "stdout",
     "output_type": "stream",
     "text": [
      "x = 20\n"
     ]
    }
   ],
   "source": [
    "cout << \"x = \" << myObj.getX() << endl;"
   ]
  },
  {
   "cell_type": "code",
   "execution_count": 20,
   "metadata": {},
   "outputs": [],
   "source": [
    "// passing const class objects to function is very common\n",
    "void myPrint(const MyClass& obj) {\n",
    "    cout << \"x = \" << obj.getX() << endl;\n",
    "}"
   ]
  },
  {
   "cell_type": "code",
   "execution_count": 22,
   "metadata": {},
   "outputs": [
    {
     "name": "stdout",
     "output_type": "stream",
     "text": [
      "x = 20\n"
     ]
    }
   ],
   "source": [
    "// myObj is passed by const ref\n",
    "myPrint(myObj);"
   ]
  },
  {
   "cell_type": "markdown",
   "metadata": {},
   "source": [
    "<a id=\"templates\"></a>"
   ]
  },
  {
   "cell_type": "markdown",
   "metadata": {},
   "source": [
    "## See /demo-programs/operator-overloading/ComplexNumber/ for complete example working with complex numbers and operator overloading"
   ]
  },
  {
   "cell_type": "markdown",
   "metadata": {},
   "source": [
    "## Class Templates\n",
    "- just like function templates, we can also create class templates\n",
    "    - class templates allow to have members that use template parameters as types"
   ]
  },
  {
   "cell_type": "code",
   "execution_count": 1,
   "metadata": {},
   "outputs": [],
   "source": [
    "#include <iostream>\n",
    "using namespace std;"
   ]
  },
  {
   "cell_type": "code",
   "execution_count": 2,
   "metadata": {},
   "outputs": [],
   "source": [
    "template<class T>\n",
    "class MyPair {\n",
    "    T values[2];\n",
    "    public:\n",
    "        MyPair(T first, T second) {\n",
    "            values[0] = first;\n",
    "            values[1] = second;\n",
    "        }\n",
    "        void print() {\n",
    "            cout << \"first: \" << values[0] << \" second: \" << values[1] << endl;\n",
    "        }\n",
    "};"
   ]
  },
  {
   "cell_type": "code",
   "execution_count": 3,
   "metadata": {},
   "outputs": [],
   "source": [
    "MyPair<int> p1(10, 100);\n",
    "MyPair<float> p2(10, 100.99);\n",
    "MyPair<string> p3(\"hello\", \"john\");\n",
    "MyPair<char>p4('A', 'a');"
   ]
  },
  {
   "cell_type": "code",
   "execution_count": 4,
   "metadata": {},
   "outputs": [
    {
     "name": "stdout",
     "output_type": "stream",
     "text": [
      "first: 10 second: 100\n",
      "first: 10 second: 100.99\n",
      "first: hello second: john\n",
      "first: A second: a\n"
     ]
    }
   ],
   "source": [
    "p1.print();\n",
    "p2.print();\n",
    "p3.print();\n",
    "p4.print();"
   ]
  },
  {
   "cell_type": "code",
   "execution_count": 5,
   "metadata": {},
   "outputs": [],
   "source": [
    "template<class T1, class T2>\n",
    "class Pair {\n",
    "    T1 first;\n",
    "    T2 second;\n",
    "    public:\n",
    "        Pair(T1 first, T2 second) {\n",
    "            this->first = first;\n",
    "            this->second = second;\n",
    "        }\n",
    "        void print() {\n",
    "            cout << \"first: \" << this->first << \" second: \" << this->second << endl;\n",
    "        }\n",
    "};"
   ]
  },
  {
   "cell_type": "code",
   "execution_count": 6,
   "metadata": {},
   "outputs": [],
   "source": [
    "Pair<int, int> p5(10, 100);\n",
    "Pair<int, float> p6(10, 100.99);\n",
    "Pair<string, double> p7(\"hello\", 4.5);\n",
    "Pair<char, unsigned int>p8('A', 200);"
   ]
  },
  {
   "cell_type": "code",
   "execution_count": 7,
   "metadata": {},
   "outputs": [
    {
     "name": "stdout",
     "output_type": "stream",
     "text": [
      "first: 10 second: 100\n",
      "first: 10 second: 100.99\n",
      "first: hello second: 4.5\n",
      "first: A second: 200\n"
     ]
    }
   ],
   "source": [
    "p5.print();\n",
    "p6.print();\n",
    "p7.print();\n",
    "p8.print();"
   ]
  },
  {
   "cell_type": "code",
   "execution_count": null,
   "metadata": {},
   "outputs": [],
   "source": []
  }
 ],
 "metadata": {
  "kernelspec": {
   "display_name": "C++14",
   "language": "C++14",
   "name": "xeus-cling-cpp14"
  },
  "language_info": {
   "codemirror_mode": "text/x-c++src",
   "file_extension": ".cpp",
   "mimetype": "text/x-c++src",
   "name": "c++",
   "version": "-std=c++14"
  }
 },
 "nbformat": 4,
 "nbformat_minor": 2
}
