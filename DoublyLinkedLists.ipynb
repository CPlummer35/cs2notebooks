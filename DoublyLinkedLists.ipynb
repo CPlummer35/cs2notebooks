{
 "cells": [
  {
   "cell_type": "markdown",
   "metadata": {},
   "source": [
    "# Doubly Linked Lists\n",
    "- https://opendsa-server.cs.vt.edu/ODSA/Books/CS2/html/ListDouble.html\n",
    "- https://en.cppreference.com/w/cpp/container/list\n",
    "\n",
    "### Table of Contents\n",
    "- **[Introduction](#intro)**<br>\n",
    "- **[Implementation of Node](#node)**<br>\n",
    "- **[Operations on Doubly Linked List](#operations)**<br>\n",
    "- **[Doubly Linked List as ADT](#adt)**<br>\n",
    "\n",
    "## Introduction\n",
    "- **Singly Linked List** allows for direct access from a list node only to the next node in forward direction\n",
    "- **Doubly Linked List** allows access in both direction (next node and previous node)"
   ]
  },
  {
   "cell_type": "markdown",
   "metadata": {},
   "source": [
    "## Doubly Linked List\n",
    "- also called two-way list\n",
    "- each node is depicted with three boxes (members) each holding:\n",
    "    1. data (middle box)\n",
    "    2. address/pointer to the next node (right box)\n",
    "    3. address/pointer to the previous node (left box)\n",
    "    \n",
    "<img src=\"./resources/DoublyLinkedList1.png\">\n",
    "\n",
    "- diagonal slash (see last and first node) represents NULL pointer meaning it's not pointing to another node\n",
    "- head or first is a special pointer pointing to the first (header) node\n",
    "- tail or last is a special pointer pointing to the last (trailer) node\n",
    "- use pointer to traverse through the linked list (unlike index in array-based list)\n",
    "\n",
    "\n",
    "## Common Operations\n",
    "- inserting and deleting nodes are common operations but need to deal with many cases.\n",
    "- if header and trailer nodes are used without actually storing the data, simplifies many special cases\n",
    "    - see visualization at: https://opendsa-server.cs.vt.edu/ODSA/Books/CS2/html/ListDouble.html"
   ]
  },
  {
   "cell_type": "markdown",
   "metadata": {},
   "source": [
    "## Implemenation of Node\n",
    "- since a node is a complex type with data (of various type) and pointers, we use struct or class to implement it"
   ]
  },
  {
   "cell_type": "code",
   "execution_count": 1,
   "metadata": {},
   "outputs": [],
   "source": [
    "struct Int_Node {\n",
    "    int data; // int data\n",
    "    Int_Node * next; // address of the next node\n",
    "    Int_Node * prev; // address of the previous node\n",
    "};"
   ]
  },
  {
   "cell_type": "code",
   "execution_count": 2,
   "metadata": {},
   "outputs": [],
   "source": [
    "// better implementation\n",
    "template <class T>\n",
    "struct Node {\n",
    "    T data; // data of some type T\n",
    "    Node<T> * next;\n",
    "    Node<T> * prev;\n",
    "};"
   ]
  },
  {
   "cell_type": "code",
   "execution_count": 3,
   "metadata": {},
   "outputs": [],
   "source": [
    "#include <iostream>\n",
    "using namespace std;"
   ]
  },
  {
   "cell_type": "markdown",
   "metadata": {},
   "source": [
    "## Creating a Doubly Linked List\n",
    "- add elements 10, 20, 30, etc.\n",
    "- doubly linked list of: 10 <-> 20 <-> 30"
   ]
  },
  {
   "cell_type": "code",
   "execution_count": 4,
   "metadata": {},
   "outputs": [],
   "source": [
    "Int_Node *head, *tail, *temp;"
   ]
  },
  {
   "cell_type": "code",
   "execution_count": 5,
   "metadata": {},
   "outputs": [
    {
     "data": {
      "text/plain": [
       "@0x7fff5893f3a8"
      ]
     },
     "execution_count": 5,
     "metadata": {},
     "output_type": "execute_result"
    }
   ],
   "source": [
    "// create empty header and trailer nodes as shown in figure above\n",
    "temp = new Int_Node;\n",
    "temp->data = 0;\n",
    "temp->prev = NULL;\n",
    "temp->next = NULL;\n",
    "head = temp; // head points to header node\n",
    "\n",
    "temp = new Int_Node;\n",
    "temp->data = 0;\n",
    "temp->prev = head; // trailer points to header\n",
    "temp->next = NULL;\n",
    "tail = temp;\n",
    "\n",
    "head->next = tail; // header points to trailer"
   ]
  },
  {
   "cell_type": "markdown",
   "metadata": {},
   "source": [
    "## Push Back Element\n",
    "- inserting element at the end of the doubly linked list\n",
    "- algorithm steps:\n",
    "    1. create a new node with data\n",
    "    - make new node's next point to trailer node\n",
    "    - make new node's prev point to trailer's prev node\n",
    "    - make trailer node's prev point to the new node\n",
    "    - make trailer node's prev prev next point to the new node"
   ]
  },
  {
   "cell_type": "code",
   "execution_count": 6,
   "metadata": {},
   "outputs": [],
   "source": [
    "// create and add the new node with 10 at the end\n",
    "temp = new Int_Node;\n",
    "temp->data = 10;\n",
    "temp->next = tail;\n",
    "temp->prev = tail->prev;\n",
    "tail->prev = temp;\n",
    "tail->prev->prev->next = temp;"
   ]
  },
  {
   "cell_type": "code",
   "execution_count": 7,
   "metadata": {},
   "outputs": [],
   "source": [
    "// create and add the new node with 20 at the end\n",
    "temp = new Int_Node;\n",
    "temp->data = 20;\n",
    "temp->next = tail;\n",
    "temp->prev = tail->prev;\n",
    "tail->prev = temp;\n",
    "tail->prev->prev->next = temp;"
   ]
  },
  {
   "cell_type": "code",
   "execution_count": 11,
   "metadata": {},
   "outputs": [],
   "source": [
    "// create and add the new node with 20 at the end\n",
    "temp = new Int_Node;\n",
    "temp->data = 30;\n",
    "temp->next = tail;\n",
    "temp->prev = tail->prev;\n",
    "tail->prev = temp;\n",
    "tail->prev->prev->next = temp;"
   ]
  },
  {
   "cell_type": "markdown",
   "metadata": {},
   "source": [
    "## Traversing Doubly Linked List\n",
    "- visiting every node of the linked list\n",
    "    - access data, check and or update data\n",
    "- can be traversed both in forward and backward directions"
   ]
  },
  {
   "cell_type": "code",
   "execution_count": 9,
   "metadata": {},
   "outputs": [],
   "source": [
    "void traverseForward(Int_Node *head) { \n",
    "    // start from header's next and go through every node\n",
    "    // stop before trailer\n",
    "    Int_Node * curr = head->next;\n",
    "    cout << \"[\";\n",
    "    while (curr->next->next != NULL) {\n",
    "        cout << \" \" << curr->data;\n",
    "        curr = curr->next;\n",
    "    }\n",
    "    cout << \" ]\";\n",
    "}"
   ]
  },
  {
   "cell_type": "code",
   "execution_count": 12,
   "metadata": {},
   "outputs": [
    {
     "name": "stdout",
     "output_type": "stream",
     "text": [
      "[ 10 20 30 ]"
     ]
    }
   ],
   "source": [
    "traverseForward(head);"
   ]
  },
  {
   "cell_type": "markdown",
   "metadata": {},
   "source": [
    "## Push Front Element\n",
    "- inserting element at the beginning of the doubly linked list\n",
    "- similar to push back operation\n",
    "- algorithm steps:\n",
    "    1. create a new node with data\n",
    "    - make new node->next point to the head->next\n",
    "    - make new node->prev point to the head\n",
    "    - make head->next point to the new node\n",
    "    - make new node->next->prev point to the new node"
   ]
  },
  {
   "cell_type": "code",
   "execution_count": 13,
   "metadata": {},
   "outputs": [],
   "source": [
    "// insert a new node at the beginning (push_front)\n",
    "temp = new Int_Node;\n",
    "temp->data = 100;\n",
    "temp->next = head->next;\n",
    "temp->prev = head;\n",
    "head->next = temp;\n",
    "temp->next->prev = temp;"
   ]
  },
  {
   "cell_type": "code",
   "execution_count": 15,
   "metadata": {},
   "outputs": [
    {
     "name": "stdout",
     "output_type": "stream",
     "text": [
      "[ 100 10 20 30 ]"
     ]
    }
   ],
   "source": [
    "traverseForward(head);"
   ]
  },
  {
   "cell_type": "code",
   "execution_count": 18,
   "metadata": {},
   "outputs": [],
   "source": [
    "// insert a new node at the beginning (push_front)\n",
    "temp = new Int_Node;\n",
    "temp->data = 200;\n",
    "temp->next = head->next;\n",
    "temp->prev = head;\n",
    "head->next = temp;\n",
    "temp->next->prev = temp;"
   ]
  },
  {
   "cell_type": "code",
   "execution_count": 19,
   "metadata": {},
   "outputs": [
    {
     "name": "stdout",
     "output_type": "stream",
     "text": [
      "[ 200 100 100 10 20 30 ]"
     ]
    }
   ],
   "source": [
    "traverseForward(head);"
   ]
  },
  {
   "cell_type": "markdown",
   "metadata": {},
   "source": [
    "## Doubly Linked List Remove\n",
    "- remove an element/node from the linked list\n",
    "- algorithm steps:\n",
    "    1. use a pointer, current\n",
    "        - current is the node that needs to be deleted if found\n",
    "    2. if node is found delete it\n",
    "        - update the doubly linked list"
   ]
  },
  {
   "cell_type": "code",
   "execution_count": 21,
   "metadata": {},
   "outputs": [],
   "source": [
    "Int_Node * curr;"
   ]
  },
  {
   "cell_type": "code",
   "execution_count": 34,
   "metadata": {},
   "outputs": [],
   "source": [
    "// delete 2nd node from the list\n",
    "// NOTE: header is not an actual node!\n",
    "curr = head->next->next;\n",
    "curr->prev->next = curr->next;\n",
    "curr->next->prev = curr->prev;\n",
    "delete curr;"
   ]
  },
  {
   "cell_type": "code",
   "execution_count": 35,
   "metadata": {},
   "outputs": [
    {
     "name": "stdout",
     "output_type": "stream",
     "text": [
      "[ 200 10 20 30 ]"
     ]
    }
   ],
   "source": [
    "traverseForward(head);"
   ]
  },
  {
   "cell_type": "markdown",
   "metadata": {},
   "source": [
    "## Doubly Linked List Insert\n",
    "- insert an element/node after certain node in the linked list\n",
    "- similar to push front operation\n",
    "- algorithm steps:\n",
    "    1. create a new node with the data\n",
    "    - find the location where the new node needs to be inserted after, say curr\n",
    "    - insert the new node at that location\n",
    "    - update doubly linked list"
   ]
  },
  {
   "cell_type": "code",
   "execution_count": 36,
   "metadata": {},
   "outputs": [],
   "source": [
    "// insert element as the 2nd node (after the first node) with key value 100\n",
    "// NOTE: header node is not an actual node!\n",
    "curr = head->next;\n",
    "temp = new Int_Node;\n",
    "temp->data = 100;\n",
    "temp->next = curr->next;\n",
    "temp->prev = curr;\n",
    "curr->next = temp;\n",
    "temp->next->prev = temp;"
   ]
  },
  {
   "cell_type": "code",
   "execution_count": 37,
   "metadata": {},
   "outputs": [
    {
     "name": "stdout",
     "output_type": "stream",
     "text": [
      "[ 200 100 10 20 30 ]"
     ]
    }
   ],
   "source": [
    "traverseForward(head);"
   ]
  },
  {
   "cell_type": "markdown",
   "metadata": {},
   "source": [
    "## Doubly Linked List Implementation as ADT\n",
    "- following Doulby Linked list as ADT works for integer data\n",
    "- it can be easily converted into a template class\n",
    "    - this is left as an exercise"
   ]
  },
  {
   "cell_type": "code",
   "execution_count": 2,
   "metadata": {},
   "outputs": [],
   "source": [
    "#include <iostream>\n",
    "using namespace std;"
   ]
  },
  {
   "cell_type": "code",
   "execution_count": 3,
   "metadata": {},
   "outputs": [],
   "source": [
    "class IntDoublyList {\n",
    "    private:\n",
    "        Int_Node * head;\n",
    "        Int_Node * tail;\n",
    "        size_t count;\n",
    "        // removes curr node\n",
    "        void remove(Int_Node* curr) {\n",
    "            curr->prev->next = curr->next;\n",
    "            curr->next->prev = curr->prev;\n",
    "            delete curr;\n",
    "            this->count--;\n",
    "        }\n",
    "        \n",
    "    public:\n",
    "        IntDoublyList() {\n",
    "            this->count = 0;\n",
    "            // create empty header and trailer nodes as shown in figure above\n",
    "            Int_Node * temp = new Int_Node; //create header node\n",
    "            temp->data = 0;\n",
    "            temp->prev = NULL;\n",
    "            temp->next = NULL;\n",
    "            head = temp; // head points to header node\n",
    "\n",
    "            temp = new Int_Node; // create trailer node\n",
    "            temp->data = 0;\n",
    "            temp->prev = head; // trailer points to header\n",
    "            temp->next = NULL;\n",
    "            tail = temp;\n",
    "\n",
    "            head->next = tail; // header points to trailer\n",
    "        }\n",
    "    \n",
    "        bool empty() const {\n",
    "            return this->count == 0;\n",
    "        }\n",
    "    \n",
    "        // adds an element to the end\n",
    "        void push_back(int data) {\n",
    "            Int_Node * node = new Int_Node;\n",
    "            node->data = data;\n",
    "            node->next = tail;\n",
    "            node->prev = tail->prev;\n",
    "            tail->prev = node;\n",
    "            node->prev->next = node;\n",
    "            this->count++;\n",
    "        }\n",
    "        // inserts an element to the beginning\n",
    "        void push_front(int data) {\n",
    "            // FIXME\n",
    "        }\n",
    "        // access the last element\n",
    "        int back() {\n",
    "            return tail->prev->data;\n",
    "        }\n",
    "        \n",
    "        // return the size of the list\n",
    "        size_t size() {\n",
    "            return this->count;\n",
    "        }\n",
    "    \n",
    "        // access the first element\n",
    "        // FIXME - implement method to access the data in first node\n",
    "        \n",
    "        // removes the last element\n",
    "        void pop_back() {\n",
    "            // nothing to do in an empty list\n",
    "            if (empty()) return;\n",
    "            this->remove(tail->prev);\n",
    "        }\n",
    "    \n",
    "        // removes the first element\n",
    "        // FIXME - implement a method to remove the first node\n",
    "    \n",
    "        // visits every node and prints the data\n",
    "        // traverse in forward direction\n",
    "        void traverseForward() {\n",
    "            cout << \"[\";\n",
    "            Int_Node * curr = head->next;\n",
    "            while (curr != tail) {\n",
    "                cout << \" \" << curr->data;\n",
    "                curr = curr->next;\n",
    "            }\n",
    "            cout << \" ]\";\n",
    "        }\n",
    "    \n",
    "        // traverseBackward\n",
    "        // visits every node and prints the data in backward direction\n",
    "        void traverseBackward() {\n",
    "            // FIXME...\n",
    "        }\n",
    "        \n",
    "        // insert a node with a given data after the node with the after_key value\n",
    "        // if the element with after_key not found, insert data at the end\n",
    "        void insert_after(int after_key, int data) {\n",
    "            // FIXME: \n",
    "        }\n",
    "    \n",
    "        // clears the linked list deleting all the nodes \n",
    "        // except for the header and trailer nodes\n",
    "        void clear() {\n",
    "            // FIXME...\n",
    "        }\n",
    "};"
   ]
  },
  {
   "cell_type": "code",
   "execution_count": 4,
   "metadata": {},
   "outputs": [],
   "source": [
    "// test IntLinkList with some data\n",
    "IntDoublyList ilist;"
   ]
  },
  {
   "cell_type": "code",
   "execution_count": 5,
   "metadata": {},
   "outputs": [
    {
     "name": "stdout",
     "output_type": "stream",
     "text": [
      "[ ]"
     ]
    }
   ],
   "source": [
    "ilist.traverseForward();"
   ]
  },
  {
   "cell_type": "code",
   "execution_count": 6,
   "metadata": {},
   "outputs": [
    {
     "name": "stdout",
     "output_type": "stream",
     "text": [
      "[ 10 ]"
     ]
    }
   ],
   "source": [
    "ilist.push_back(10);\n",
    "ilist.traverseForward();"
   ]
  },
  {
   "cell_type": "code",
   "execution_count": 7,
   "metadata": {},
   "outputs": [
    {
     "name": "stdout",
     "output_type": "stream",
     "text": [
      "[ 10 20 30 ]"
     ]
    }
   ],
   "source": [
    "ilist.push_back(20);\n",
    "ilist.push_back(30);\n",
    "ilist.traverseForward();"
   ]
  },
  {
   "cell_type": "code",
   "execution_count": 9,
   "metadata": {},
   "outputs": [
    {
     "name": "stdout",
     "output_type": "stream",
     "text": [
      "[ 10 20 ]"
     ]
    }
   ],
   "source": [
    "ilist.pop_back();\n",
    "ilist.traverseForward();"
   ]
  },
  {
   "cell_type": "markdown",
   "metadata": {},
   "source": [
    "### Exercises\n",
    "1. Linked lists are better than array-based lists when the final size of the list is known in advance:\n",
    "    1. True\n",
    "    - False\n",
    "\n",
    "2. Fix all the FIXMEs and test the fixes of doubly linked list ADT.\n",
    "3. Convert Doubly Linked List ADT as a template class to store data of any type in the node"
   ]
  },
  {
   "cell_type": "code",
   "execution_count": null,
   "metadata": {},
   "outputs": [],
   "source": []
  }
 ],
 "metadata": {
  "kernelspec": {
   "display_name": "C++14",
   "language": "C++14",
   "name": "xeus-cling-cpp14"
  },
  "language_info": {
   "codemirror_mode": "text/x-c++src",
   "file_extension": ".cpp",
   "mimetype": "text/x-c++src",
   "name": "c++",
   "version": "-std=c++14"
  }
 },
 "nbformat": 4,
 "nbformat_minor": 2
}
