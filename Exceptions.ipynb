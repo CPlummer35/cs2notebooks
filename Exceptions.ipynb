{
 "cells": [
  {
   "cell_type": "markdown",
   "metadata": {},
   "source": [
    "# Errors & Exceptions\n",
    "http://www.cplusplus.com/doc/tutorial/exceptions/\n",
    "http://openbookproject.net/thinkcs/python/english3e/exceptions.html\n",
    "\n",
    "## Table of Contents\n",
    "- **[Errors](#errors)**<br>\n",
    "- **[Exceptions](#exceptions)**<br>\n",
    "- **[Define Exceptions](#defineexception)**<br>\n"
   ]
  },
  {
   "cell_type": "markdown",
   "metadata": {},
   "source": [
    "<a id=\"errors\"></a>"
   ]
  },
  {
   "cell_type": "markdown",
   "metadata": {},
   "source": [
    "## Errors\n",
    "- errors are also called bugs in computer programs\n",
    "- as long as humans will write computer programs, there will always be some bugs in programs\n",
    "- the process of finding and getting rid of bugs is called debugging and is an integral part of programming\n",
    "- three types of errors:\n",
    "    1. **Syntax Errors**\n",
    "        - errors in the grammar dictated by the programming language\n",
    "        - programs will not run if there is a syntax error\n",
    "        - compiler usually provides feedback on syntax errors\n",
    "        - annoying in the beginning but one will get better as they become more proficient and experienced with the language\n",
    "        - e.g., forgetting a colon or } or ] where they need to be\n",
    "    - **Semantic Errors**\n",
    "        - semantic errors are errors in programs that produce wrong answers\n",
    "        - program will run successfully without generating any error messages\n",
    "        - program will not do the right thing (does what you tell it to do!)\n",
    "        - essentially, the problem is that the program you wrote is not the program you wanted to write\n",
    "            - the meaning of the program (its semantics) is wrong\n",
    "        - testing your program with lots of input samples will help you reveal semantic errors\n",
    "        - identifying semantic errors can be tricky and requires you to work backward (traceback) by looking at the output and figure out what it is doing\n",
    "    - **Exceptions**\n",
    "        - run-time errors that may manifest at certain circumstances\n",
    "        \n",
    "### Exercise\n",
    "Which of the following is a semantic error?\n",
    "1. Attempting to divide by 0\n",
    "- Forgetting a semicolon at the end of a statement where one is required\n",
    "- Forgetting to divide by 100 when printing a percentage amount"
   ]
  },
  {
   "cell_type": "markdown",
   "metadata": {},
   "source": [
    "<a id=\"exceptions\"></a>"
   ]
  },
  {
   "cell_type": "markdown",
   "metadata": {},
   "source": [
    "## Exceptions\n",
    "- exceptions are runtime errors that may occur in exceptional circumstances\n",
    "- unlike syntax error and logical/semantic errors, exceptions may or may not manifest while the program is being executed\n",
    "- when exception is thrown, program will halt if the exception is not handled!\n",
    "    - can be catastrophic if the OS of Satellites, Mars Rovers, Airplanes halts (crashes)\n",
    "- C++ provides a mechanism to react to exceptional circumstances (runtime errors) in programs by transferring control to special functions called **handlers**\n",
    "- to catch exceptions, a portion of code is placed under exception inspection block called a **try-block**\n",
    "- when the exceptional circumstance arises within that block, an exception is thrown that transfers the control to the exception handler called **catch-block**\n",
    "- $3$ options to handle exceptions\n",
    "    1. if possible try to recover or correct error\n",
    "    - if not possible to recover, log the error and continue\n",
    "    - if option 1 or 2 is not possible, halt the program\n",
    "- if no exception is thrown, the code continues normally and all handlers (catch-blocks) are ignored\n",
    "- syntax:\n",
    "```c++\n",
    "try {\n",
    "    // try code that may throw exceptions \n",
    "}\n",
    "catch(type1 name1) {\n",
    "    // first handler that throws exception of type1\n",
    "}\n",
    "catch(type2 name2) {\n",
    "    // second handler that throws exception of type2\n",
    "}\n",
    "... // other handlers\n",
    "    // more generic handlers should be written towards the end\n",
    "catch(...) { // ellipsis\n",
    "    // catch all exceptions if previous handler couldn't catch\n",
    "}\n",
    "```\n",
    "- various exception types\n",
    "    - https://en.cppreference.com/w/cpp/error/exception"
   ]
  },
  {
   "cell_type": "code",
   "execution_count": 2,
   "metadata": {},
   "outputs": [],
   "source": [
    "#include <iostream>\n",
    "#include <string>\n",
    "#include <vector>\n",
    "#include <exception>\n",
    "#include <cstdio>\n",
    "\n",
    "using namespace std;"
   ]
  },
  {
   "cell_type": "code",
   "execution_count": 2,
   "metadata": {},
   "outputs": [
    {
     "name": "stdout",
     "output_type": "stream",
     "text": [
      "Exception occured. #: 20\n"
     ]
    }
   ],
   "source": [
    "try {\n",
    "    throw 20; //throw an integer exception\n",
    "}\n",
    "catch (int ex) {\n",
    "    cout << \"Exception occured. #: \" << ex << endl;\n",
    "}"
   ]
  },
  {
   "cell_type": "markdown",
   "metadata": {},
   "source": [
    "## Example 1 - string.at() and string.substr() may throw out_of_range exception"
   ]
  },
  {
   "cell_type": "code",
   "execution_count": 3,
   "metadata": {},
   "outputs": [
    {
     "name": "stdout",
     "output_type": "stream",
     "text": [
      "J\n"
     ]
    }
   ],
   "source": [
    "// at method of string class throws std::out_of_range if pos >= size().\n",
    "string name = \"John Doe\";\n",
    "cout << name.at(0) << endl;"
   ]
  },
  {
   "cell_type": "code",
   "execution_count": 16,
   "metadata": {},
   "outputs": [
    {
     "ename": "Error",
     "evalue": "",
     "output_type": "error",
     "traceback": [
      "Error: "
     ]
    }
   ],
   "source": [
    "cout << name.at(20) << endl;\n",
    "cout << \"continue with the rest...\" << endl; // never executes"
   ]
  },
  {
   "cell_type": "code",
   "execution_count": 17,
   "metadata": {},
   "outputs": [
    {
     "name": "stdout",
     "output_type": "stream",
     "text": [
      "exception occured: basic_string\n",
      "continue with the rest...\n"
     ]
    },
    {
     "data": {
      "text/plain": [
       "@0x10e0fa010"
      ]
     },
     "execution_count": 17,
     "metadata": {},
     "output_type": "execute_result"
    }
   ],
   "source": [
    "// handle the exception\n",
    "try {\n",
    "    cout << name.at(20) << endl;\n",
    "}\n",
    "catch(const out_of_range& e) {\n",
    "    cout << \"exception occured: \" << e.what() << endl;\n",
    "}\n",
    "cout << \"continue with the rest...\" << endl; // will continue from here"
   ]
  },
  {
   "cell_type": "code",
   "execution_count": 5,
   "metadata": {},
   "outputs": [
    {
     "name": "stdout",
     "output_type": "stream",
     "text": [
      "Doe\n",
      "continue with other code...\n"
     ]
    }
   ],
   "source": [
    "// substr() method throws out_of_range exception\n",
    "cout << name.substr(5) << endl;\n",
    "cout << \"continue with other code...\" << endl;"
   ]
  },
  {
   "cell_type": "code",
   "execution_count": 18,
   "metadata": {},
   "outputs": [
    {
     "ename": "Error",
     "evalue": "",
     "output_type": "error",
     "traceback": [
      "Error: "
     ]
    }
   ],
   "source": [
    "try {\n",
    "    cout << name.substr(20) << endl;\n",
    "}\n",
    "catch(int e1) {\n",
    "    cout << \"Interger exception occured: exception #: \" << e1 << endl;\n",
    "}\n",
    "cout << \"continue with other code...\" << endl;"
   ]
  },
  {
   "cell_type": "code",
   "execution_count": 19,
   "metadata": {},
   "outputs": [
    {
     "name": "stdout",
     "output_type": "stream",
     "text": [
      "some exception flew by...\n",
      "continue with other code...\n"
     ]
    }
   ],
   "source": [
    "// substr() method throws out_of_range exception\n",
    "try {\n",
    "    cout << name.substr(20) << endl;\n",
    "}\n",
    "catch(int e1) {\n",
    "    cout << \"Interger exception occured: exception #: \" << e1 << endl;\n",
    "}\n",
    "// can catch out_of_range exception to know exactly what exception was thrown\n",
    "catch(...) { \n",
    "    cout << \"some exception flew by...\" << endl;\n",
    "}\n",
    "cout << \"continue with other code...\" << endl;"
   ]
  },
  {
   "cell_type": "markdown",
   "metadata": {},
   "source": [
    "## Example 2 - bad_alloc exception\n",
    "https://en.cppreference.com/w/cpp/memory/new/bad_alloc"
   ]
  },
  {
   "cell_type": "code",
   "execution_count": 2,
   "metadata": {},
   "outputs": [],
   "source": [
    "unsigned long long int n;\n",
    "int *nums;"
   ]
  },
  {
   "cell_type": "code",
   "execution_count": 4,
   "metadata": {},
   "outputs": [
    {
     "name": "stdout",
     "output_type": "stream",
     "text": [
      "Enter how many integers would you like to store?100000000000000000000000\n"
     ]
    },
    {
     "ename": "Standard Exception",
     "evalue": "std::bad_alloc",
     "output_type": "error",
     "traceback": [
      "Standard Exception: std::bad_alloc"
     ]
    }
   ],
   "source": [
    "cout << \"Enter how many integers would you like to store?\";\n",
    "cin >> n;\n",
    "nums = new int[n]; // try 10000000000000\n",
    "cout << \"successfully allocated memory to store \" << n << \" integers\\n\";"
   ]
  },
  {
   "cell_type": "code",
   "execution_count": 5,
   "metadata": {},
   "outputs": [
    {
     "name": "stdout",
     "output_type": "stream",
     "text": [
      "Enter how many integers would you like to store?1000000000\n",
      "successfully allocated memory to store 1000000000 integers\n",
      "continue...\n"
     ]
    }
   ],
   "source": [
    "n = 0;\n",
    "cout << \"Enter how many integers would you like to store?\";\n",
    "cin >> n;\n",
    "try {\n",
    "    nums = new int[n]; // try 10000000000000\n",
    "    cout << \"successfully allocated memory to store \" << n << \" integers\\n\";\n",
    "}\n",
    "catch(const bad_alloc & e) {\n",
    "    cout << \"Exception occured: \" << e.what() << endl;\n",
    "}\n",
    "cout << \"continue...\" << endl;"
   ]
  },
  {
   "cell_type": "code",
   "execution_count": 8,
   "metadata": {},
   "outputs": [
    {
     "name": "stdout",
     "output_type": "stream",
     "text": [
      "Exception occured: std::bad_alloc\n",
      "size of nums = 10\n"
     ]
    }
   ],
   "source": [
    "vector<int> v(10);\n",
    "try {\n",
    "    // try resizing vector to a large value\n",
    "    v.resize(1000000000000000000);\n",
    "}\n",
    "catch(const bad_alloc & e) {\n",
    "    cout << \"Exception occured: \" << e.what() << endl;\n",
    "}\n",
    "cout << \"size of nums = \" << v.size() << endl;"
   ]
  },
  {
   "cell_type": "markdown",
   "metadata": {},
   "source": [
    "## Example 3 - input validation"
   ]
  },
  {
   "cell_type": "code",
   "execution_count": 3,
   "metadata": {},
   "outputs": [],
   "source": [
    "int decimalNum;\n",
    "bool valid;"
   ]
  },
  {
   "cell_type": "code",
   "execution_count": 4,
   "metadata": {},
   "outputs": [
    {
     "name": "stdout",
     "output_type": "stream",
     "text": [
      "Enter a number in decimal: 0 50\n",
      "Thank you for entering a number: 0\n"
     ]
    }
   ],
   "source": [
    "// User input with validation\n",
    "valid = false;\n",
    "do\n",
    "{\n",
    "    cout << \"Enter a number in decimal: \";\n",
    "    try\n",
    "    {\n",
    "        cin >> decimalNum;\n",
    "        if (cin.fail())\n",
    "        {\n",
    "            throw \"Invalid input. Tray again!\";\n",
    "        }\n",
    "        valid = true;\n",
    "    }\n",
    "    catch (const char *error)\n",
    "    {\n",
    "        cin.clear(); // clear the cin failure state\n",
    "        cin.ignore(100, '\\n'); // ignore next 100 characters or up to \\n char\n",
    "        printf(\"%s\\n\", error);\n",
    "    }\n",
    "} while (!valid);\n",
    "\n",
    "cout << \"Thank you for entering a number: \" << decimalNum << endl;"
   ]
  },
  {
   "cell_type": "markdown",
   "metadata": {},
   "source": [
    "<a id=\"defineexception\"></a>"
   ]
  },
  {
   "cell_type": "markdown",
   "metadata": {},
   "source": [
    "## Division by zero\n",
    "- in C++ division by zero is not an exception!\n",
    "- typically program crashes without throwing an exception"
   ]
  },
  {
   "cell_type": "code",
   "execution_count": 5,
   "metadata": {},
   "outputs": [
    {
     "name": "stderr",
     "output_type": "stream",
     "text": [
      "\u001b[1minput_line_12:2:11: \u001b[0m\u001b[0;1;35mwarning: \u001b[0m\u001b[1mdivision by zero is undefined [-Wdivision-by-zero]\u001b[0m\n",
      " cout << 3/0 << endl;\n",
      "\u001b[0;1;32m          ^~\n",
      "\u001b[0m"
     ]
    },
    {
     "name": "stdout",
     "output_type": "stream",
     "text": [
      "21\n"
     ]
    }
   ],
   "source": [
    "cout << 3/0 << endl;"
   ]
  },
  {
   "cell_type": "markdown",
   "metadata": {},
   "source": [
    "## Create your own exception class"
   ]
  },
  {
   "cell_type": "code",
   "execution_count": 2,
   "metadata": {},
   "outputs": [],
   "source": [
    "// DivisionByZero class inherits from base exception class\n",
    "class DivisionByZero {\n",
    "  private:\n",
    "    string description;\n",
    "  public:\n",
    "    DivisionByZero(const string& des=\"Zero Division Error\") {\n",
    "        this->description = des;\n",
    "    }\n",
    "    string what() const {\n",
    "        return this->description;\n",
    "    }  \n",
    "};"
   ]
  },
  {
   "cell_type": "code",
   "execution_count": 3,
   "metadata": {},
   "outputs": [],
   "source": [
    "int divisor, dividend;\n",
    "int quotient;"
   ]
  },
  {
   "cell_type": "code",
   "execution_count": 10,
   "metadata": {},
   "outputs": [
    {
     "name": "stdout",
     "output_type": "stream",
     "text": [
      "Enter divisor and dividend separated by space: 0 100\n",
      "Exception: Zero Division Error\n"
     ]
    }
   ],
   "source": [
    "cout << \"Enter divisor and dividend separated by space: \";\n",
    "cin >> divisor >> dividend;\n",
    "//assert divisor != 0; // can do this\n",
    "try {\n",
    "    \n",
    "    if (divisor == 0)\n",
    "        throw DivisionByZero();\n",
    "    quotient = dividend/divisor;\n",
    "    cout << dividend << \" / \" << divisor << \" = \" << quotient << endl;\n",
    "}\n",
    "catch(const DivisionByZero& e) {\n",
    "    cout << \"Exception: \" << e.what() << endl;\n",
    "}\n"
   ]
  },
  {
   "cell_type": "code",
   "execution_count": null,
   "metadata": {},
   "outputs": [],
   "source": []
  }
 ],
 "metadata": {
  "kernelspec": {
   "display_name": "C++14",
   "language": "C++14",
   "name": "xeus-cling-cpp14"
  },
  "language_info": {
   "codemirror_mode": "text/x-c++src",
   "file_extension": ".cpp",
   "mimetype": "text/x-c++src",
   "name": "c++",
   "version": "-std=c++14"
  }
 },
 "nbformat": 4,
 "nbformat_minor": 2
}
