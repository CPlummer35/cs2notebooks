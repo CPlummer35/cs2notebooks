{
 "cells": [
  {
   "cell_type": "markdown",
   "metadata": {},
   "source": [
    "# Memory segments & Pointers\n",
    "http://www.cplusplus.com/doc/tutorial/pointers/\n",
    "\n",
    "## Table of Contents\n",
    "- [Memory segments](#segments)\n",
    "- [Pointers](#pointers)\n",
    "- [Address of operator](#addoperator)\n",
    "- [Dereference operator](#dereference)\n",
    "- [Declaring pointers](#pointers)\n",
    "- [Pointers and arrays](#arrays)\n",
    "- [Invalid pointers and null pointers](#invalid)\n",
    "- [Pointers to functions](#functions)\n",
    "- [Dynamic memory](#dynamic)\n",
    "- [Pointers to struct types](#pstruct)\n",
    "- [Exercises](#exercises)\n",
    "- [Passing pointers to functions](#passingptrs)\n",
    "- [Passing struct pointers to functions](#passingstructptrtofunc)\n"
   ]
  },
  {
   "cell_type": "markdown",
   "metadata": {},
   "source": [
    "<a id=\"segments\"></a>\n",
    "## Memory segments in C/C++ programs\n",
    "- memory a program uses is typically divided into 2 main spaces:\n",
    "    1. kernel space - reserved for running the kernel (OS background processes, device drivers, etc.)\n",
    "    2. user space - user-mode applications are loaded\n",
    "    \n",
    "- in C/C++ programs, user space is dividied into 5 different areas, called segments:\n",
    "\n",
    "<img src=\"./resources/c_memorysegments.png\" align=\"left\"/>\n",
    "\n",
    "1. **Stack segment**, also called scratch pad\n",
    "    - function parameters, local variables, and other function-related register varialbes are stored\n",
    "    - grows and shrinks based on program needs\n",
    "2. **Heap segment**\n",
    "    - dynamically allocated variables (using pointers) are allocated from this segment\n",
    "    - Heap size is normally much larger compared to stack size\n",
    "    - size (acutal) grows and shrinks based on program needs\n",
    "3. **BSS segment** (Block Started by Symbol, also called the uninitialized data segment)\n",
    "    - zero-initialized or uninitialized global and static variables are stored\n",
    "4. **Data segment** (also called the initialized data segment)\n",
    "    - initialized global and static variables are stored\n",
    "5. **Text segment** (also called a code segment)\n",
    "    - compiled program/code is loaded\n",
    "    - code segment is typically read-only.\n",
    "\n",
    "Programmers primarily focus on the heap and the stack, as that is where most of the interesting stuff takes place."
   ]
  },
  {
   "cell_type": "markdown",
   "metadata": {},
   "source": [
    "### memory_segments.cpp\n",
    "    - compile and run memory_segments.cpp inside demo-programs folder to see various memory segements in use by a program"
   ]
  },
  {
   "cell_type": "markdown",
   "metadata": {},
   "source": [
    "<a id=\"pointers\"></a>\n",
    "## Pointers\n",
    "- special variables that store physical memory addresses of data or other variables\n",
    "- like any variable you must declare a pointer before you can work with it"
   ]
  },
  {
   "cell_type": "markdown",
   "metadata": {},
   "source": [
    "<a id=\"addoperator\"></a>\n",
    "## address-of operator (&)\n",
    "- the address of a variable can be obtained by *address-of-operator (&)* infront of a variable name"
   ]
  },
  {
   "cell_type": "code",
   "execution_count": 1,
   "metadata": {},
   "outputs": [],
   "source": [
    "// include headers\n",
    "#include <iostream>\n",
    "#include <string>\n",
    "\n",
    "using namespace std;"
   ]
  },
  {
   "cell_type": "code",
   "execution_count": 2,
   "metadata": {},
   "outputs": [],
   "source": [
    "int num = 100;"
   ]
  },
  {
   "cell_type": "code",
   "execution_count": 3,
   "metadata": {},
   "outputs": [
    {
     "name": "stdout",
     "output_type": "stream",
     "text": [
      "value of num = 100\n",
      "address of num = 0x113196830\n"
     ]
    }
   ],
   "source": [
    "cout << \"value of num = \" << num << endl;\n",
    "cout << \"address of num = \" << &num << endl;"
   ]
  },
  {
   "cell_type": "markdown",
   "metadata": {},
   "source": [
    "<a id=\"dereferece\"></a>\n",
    "## dereference operator (\\*)\n",
    "- `dereference operator (\\*)` can be used to read the \"value pointed to by\" some memory address"
   ]
  },
  {
   "cell_type": "code",
   "execution_count": 4,
   "metadata": {},
   "outputs": [
    {
     "name": "stdout",
     "output_type": "stream",
     "text": [
      "value pointed to by &num = 100\n"
     ]
    }
   ],
   "source": [
    "cout << \"value pointed to by &num = \" << *&num << endl;"
   ]
  },
  {
   "cell_type": "markdown",
   "metadata": {},
   "source": [
    "<a id=\"pointers\"></a>\n",
    "## declaring pointers\n",
    "- pointers can be declared using \\* de-reference/pointer operator\n",
    "- syntax:\n",
    "```c++\n",
    "    type * pointerVarName;\n",
    "```"
   ]
  },
  {
   "cell_type": "code",
   "execution_count": 5,
   "metadata": {},
   "outputs": [],
   "source": [
    "// declare pointers\n",
    "int num1; // variable NOT a pointer\n",
    "int * pNum1; // declare pNum1 of type int or pointer to int\n",
    "// declare and initialize pointers\n",
    "float * fltPtr = nullptr; // initialize with nullptr (pointing to no address)\n",
    "int * somePtr = &num1; // initialize somePtr with the address of num1"
   ]
  },
  {
   "cell_type": "code",
   "execution_count": 6,
   "metadata": {},
   "outputs": [
    {
     "name": "stdout",
     "output_type": "stream",
     "text": [
      "*pNum1 = 200\n",
      "pNum = 0x113196df8\n",
      "num1 = 200\n",
      "&num1 = 0x113196df8\n"
     ]
    }
   ],
   "source": [
    "pNum1 = &num1; // assiging value to a pointer\n",
    "*pNum1 = 200;\n",
    "cout << \"*pNum1 = \" << *pNum1 << endl;\n",
    "cout << \"pNum = \" << pNum1 << endl;\n",
    "cout << \"num1 = \" << num1 << endl;\n",
    "cout << \"&num1 = \" << &num1 << endl;"
   ]
  },
  {
   "cell_type": "markdown",
   "metadata": {},
   "source": [
    "<a id=\"arrays\"></a>\n",
    "## pointers and arrays\n",
    "- concept of arrays is related to that of pointers\n",
    "- arrays work very much like pointers where index is used to deference the address of each cell"
   ]
  },
  {
   "cell_type": "code",
   "execution_count": 7,
   "metadata": {
    "code_folding": []
   },
   "outputs": [],
   "source": [
    "// printArray helper function\n",
    "template<class T>\n",
    "void printArray(T v[], int len) {\n",
    "    char comma[3] = {'\\0', ' ', '\\0'};\n",
    "    cout << '[';\n",
    "    for (int i=0; i<len; i++) {\n",
    "        cout << comma << v[i];\n",
    "        comma[0] = ',';\n",
    "    }\n",
    "    cout << ']';\n",
    "}"
   ]
  },
  {
   "cell_type": "code",
   "execution_count": 8,
   "metadata": {},
   "outputs": [],
   "source": [
    "int intarray[5];\n",
    "int * ptr;\n",
    "int i;"
   ]
  },
  {
   "cell_type": "code",
   "execution_count": 9,
   "metadata": {},
   "outputs": [
    {
     "name": "stdout",
     "output_type": "stream",
     "text": [
      "[0, 0, 0, 0, 0]"
     ]
    }
   ],
   "source": [
    "printArray(intarray, 5);"
   ]
  },
  {
   "cell_type": "code",
   "execution_count": 10,
   "metadata": {},
   "outputs": [
    {
     "name": "stdout",
     "output_type": "stream",
     "text": [
      "0x113196e20 == 0x113196e20\n",
      "10 == 10\n"
     ]
    }
   ],
   "source": [
    "ptr = intarray; // copy base address of intarray to ptr\n",
    "i = 0;\n",
    "*ptr = 10; // same as intarray[i] = 10;\n",
    "cout << ptr << \" == \" << intarray << endl; \n",
    "cout << *ptr << \" == \" << intarray[i] << endl;"
   ]
  },
  {
   "cell_type": "code",
   "execution_count": 11,
   "metadata": {},
   "outputs": [
    {
     "name": "stdout",
     "output_type": "stream",
     "text": [
      "0x113196e24 == 0x113196e24\n",
      "20 == 20 == 20\n"
     ]
    }
   ],
   "source": [
    "// pointer arithmetic + and - (adds/subtracts size of pointer type)\n",
    "ptr++;\n",
    "i++;\n",
    "*ptr = 20; // same as intarray[i] = 20;\n",
    "cout << ptr << \" == \" << intarray+i << endl; \n",
    "cout << *ptr << \" == \" << intarray[i] << \" == \" << *(intarray+i) << endl;"
   ]
  },
  {
   "cell_type": "code",
   "execution_count": 12,
   "metadata": {},
   "outputs": [
    {
     "name": "stdout",
     "output_type": "stream",
     "text": [
      "0x113196e28 == 0x113196e28\n",
      "30 == 30 == 30\n"
     ]
    }
   ],
   "source": [
    "ptr++;\n",
    "i++;\n",
    "*ptr = 30; // same as intarray[i] = 30;\n",
    "cout << ptr << \" == \" << intarray+i << endl; \n",
    "cout << *ptr << \" == \" << intarray[i] << \" == \" << *(intarray+i) << endl;"
   ]
  },
  {
   "cell_type": "code",
   "execution_count": 13,
   "metadata": {},
   "outputs": [
    {
     "name": "stdout",
     "output_type": "stream",
     "text": [
      "0x113196e2c == 0x113196e2c\n",
      "40 == 40 == 40\n"
     ]
    }
   ],
   "source": [
    "ptr++;\n",
    "i++;\n",
    "*ptr = 40; // same as intarray[i] = 40;\n",
    "cout << ptr << \" == \" << intarray+i << endl; \n",
    "cout << *ptr << \" == \" << intarray[i] << \" == \" << *(intarray+i) << endl;"
   ]
  },
  {
   "cell_type": "code",
   "execution_count": 14,
   "metadata": {},
   "outputs": [
    {
     "name": "stdout",
     "output_type": "stream",
     "text": [
      "0x113196e30 == 0x113196e30\n",
      "50 == 50 == 50\n"
     ]
    }
   ],
   "source": [
    "ptr++;\n",
    "i++;\n",
    "*ptr = 50; // same as intarray[i] = 50;\n",
    "cout << ptr << \" == \" << intarray+i << endl; \n",
    "cout << *ptr << \" == \" << intarray[i] << \" == \" << *(intarray+i) << endl;"
   ]
  },
  {
   "cell_type": "code",
   "execution_count": 15,
   "metadata": {},
   "outputs": [
    {
     "name": "stdout",
     "output_type": "stream",
     "text": [
      "[10, 20, 30, 40, 50]"
     ]
    }
   ],
   "source": [
    "// look at all the elements of intarray\n",
    "printArray(intarray, 5)"
   ]
  },
  {
   "cell_type": "markdown",
   "metadata": {},
   "source": [
    "<a id=\"invalid\"></a>\n",
    "## invalid pointers and null pointers\n",
    "- pointers are meant to point to valid addresses, in principle\n",
    "- pointers can also point to any any address, including addresses that do not refer to any valid element\n",
    "    - e.g., uninitialized pointers and pointers to non-existent elements of an array\n",
    "- neighter p nor q point to addresses known to contain a value in the following cell\n",
    "- they do not cause error while declaring...\n",
    "- but can cause error/problem if dereferenced such pointers\n",
    "    - may crash program or point to a random data in memory"
   ]
  },
  {
   "cell_type": "code",
   "execution_count": 16,
   "metadata": {},
   "outputs": [],
   "source": [
    "// invalid pointers\n",
    "int * p; // uninitialized pointer\n",
    "int myarray[10];\n",
    "int * q = myarray+20; //element out of bounds"
   ]
  },
  {
   "cell_type": "code",
   "execution_count": 17,
   "metadata": {},
   "outputs": [
    {
     "name": "stderr",
     "output_type": "stream",
     "text": [
      "\u001b[1minput_line_25:2:11: \u001b[0m\u001b[0;1;35mwarning: \u001b[0m\u001b[1mnull passed to a callee that requires a non-null argument [-Wnonnull]\u001b[0m\n",
      " cout << *p << endl;\n",
      "\u001b[0;1;32m          ^\n",
      "\u001b[0m"
     ]
    },
    {
     "ename": "Interpreter Exception",
     "evalue": "",
     "output_type": "error",
     "traceback": [
      "Interpreter Exception: "
     ]
    }
   ],
   "source": [
    "cout << *p << endl;"
   ]
  },
  {
   "cell_type": "code",
   "execution_count": 18,
   "metadata": {},
   "outputs": [
    {
     "name": "stdout",
     "output_type": "stream",
     "text": [
      "0\n"
     ]
    }
   ],
   "source": [
    "cout << *q << endl;"
   ]
  },
  {
   "cell_type": "markdown",
   "metadata": {},
   "source": [
    "<a id=\"functions\"></a>\n",
    "## Pointer to functions\n",
    "- pointers can store addresses of functions as well; called function pointers\n",
    "- used for passing a function as an argument to another function\n",
    "- declaring function pointer is very similar to declaring variable pointers\n",
    "- parenthesis around function ptr name is required!\n",
    "```c++\n",
    "    type (* functionPtrName) ( parameter list... );\n",
    "```"
   ]
  },
  {
   "cell_type": "code",
   "execution_count": 19,
   "metadata": {
    "code_folding": []
   },
   "outputs": [],
   "source": [
    "int addition (int a, int b) { \n",
    "    return (a + b); \n",
    "}"
   ]
  },
  {
   "cell_type": "code",
   "execution_count": 20,
   "metadata": {},
   "outputs": [],
   "source": [
    "\n",
    "int subtraction (int a, int b) {\n",
    "    return (a - b); \n",
    "}"
   ]
  },
  {
   "cell_type": "code",
   "execution_count": 21,
   "metadata": {},
   "outputs": [],
   "source": [
    "int operation (int x, int y, int (*func)(int, int)) {\n",
    "  int g;\n",
    "  g = (*func)(x, y); // dereferece func\n",
    "  return g;\n",
    "}"
   ]
  },
  {
   "cell_type": "code",
   "execution_count": 22,
   "metadata": {},
   "outputs": [],
   "source": [
    "int m, n;\n",
    "// function pointer\n",
    "int (*sub)(int, int) = subtraction;"
   ]
  },
  {
   "cell_type": "code",
   "execution_count": 23,
   "metadata": {},
   "outputs": [
    {
     "name": "stdout",
     "output_type": "stream",
     "text": [
      "n = 70\n"
     ]
    }
   ],
   "source": [
    "m = operation(10, 20, addition);\n",
    "n = operation(100, m, sub);\n",
    "cout << \"n = \" << n << endl;"
   ]
  },
  {
   "cell_type": "markdown",
   "metadata": {},
   "source": [
    "<a id=\"dynamic\"></a>\n",
    "## Dynamic memory\n",
    "- memory needs from auto/local variables are determined before program executes\n",
    "- at times memory needs of a program can only be determined during runtime\n",
    "    - e.g., when memory needed depends on user input\n",
    "- on these cases, programs needs to dynamically allocate memory\n",
    "- pointers are used along with other keywords new and delete to allocate and deallocate dynamic memory\n",
    "- dynamic memory is allocated in heap segment\n",
    "- dynamic memory must be deallocated to prevent memory leak in the program\n",
    "- syntax to allocate and deallocate dynamic memory\n",
    "\n",
    "```c++\n",
    "// allocate memory\n",
    "type * pointer = new type;\n",
    "type * arr = new type[num_of_elements]; // num_of_elements can be a variable\n",
    "\n",
    "//deallocate memory\n",
    "delete pointer;\n",
    "delete[] arr;\n",
    "```"
   ]
  },
  {
   "cell_type": "code",
   "execution_count": 24,
   "metadata": {},
   "outputs": [],
   "source": [
    "// include headers\n",
    "#include <iostream>\n",
    "#include <string>\n",
    "\n",
    "using namespace std;"
   ]
  },
  {
   "cell_type": "code",
   "execution_count": 26,
   "metadata": {},
   "outputs": [],
   "source": [
    "// allocate dynamic memory\n",
    "int * numb1 = new int;\n",
    "int * numb2 = new int;"
   ]
  },
  {
   "cell_type": "code",
   "execution_count": 27,
   "metadata": {},
   "outputs": [
    {
     "name": "stdout",
     "output_type": "stream",
     "text": [
      "100 + 50 = 150\n",
      "100 - 50 = 50\n",
      "100 * 50 = 5000\n"
     ]
    }
   ],
   "source": [
    "// use dynamic memory\n",
    "*numb1 = 100;\n",
    "*numb2 = 50;\n",
    "cout << *numb1 << \" + \" << *numb2 << \" = \" << *numb1 + *numb2 << endl;\n",
    "cout << *numb1 << \" - \" << *numb2 << \" = \" << *numb1 - *numb2 << endl;\n",
    "cout << *numb1 << \" * \" << *numb2 << \" = \" << *numb1 * *numb2 << endl;"
   ]
  },
  {
   "cell_type": "code",
   "execution_count": 29,
   "metadata": {},
   "outputs": [],
   "source": [
    "// delete dynamic memory\n",
    "// intialize them to nullptr just incase garbage collector has not deallocated numb1 and numb2 yet!\n",
    "numb1 = nullptr;\n",
    "numb2 = nullptr;\n",
    "delete numb1;\n",
    "delete numb2;"
   ]
  },
  {
   "cell_type": "code",
   "execution_count": 30,
   "metadata": {},
   "outputs": [],
   "source": [
    "// array example\n",
    "size_t size = 5; // this value can be determined during program execution from user input e.g.\n",
    "float * tests = new float[size];"
   ]
  },
  {
   "cell_type": "code",
   "execution_count": 31,
   "metadata": {},
   "outputs": [],
   "source": [
    "// dynamic array is no different from static array\n",
    "tests[0] = 100;\n",
    "tests[1] = 95;\n",
    "tests[2] = 0;\n",
    "tests[3] = 89;\n",
    "tests[4] = 79;"
   ]
  },
  {
   "cell_type": "code",
   "execution_count": 32,
   "metadata": {},
   "outputs": [
    {
     "name": "stdout",
     "output_type": "stream",
     "text": [
      "[100, 95, 0, 89, 79]"
     ]
    }
   ],
   "source": [
    "printArray(tests, size);"
   ]
  },
  {
   "cell_type": "markdown",
   "metadata": {},
   "source": [
    "<a id=\"passingptrs\"></a>\n",
    "## Passing pointers to functions\n",
    "- pointers can be passed to functions\n",
    "- similar to passed-by-reference \n",
    "    - if value pointed to by formal pointer parameter is changed, the value pointed to by actual pointer parameter will also be changed!\n",
    "- pass pointers as constants (read-only) to prevent side effect"
   ]
  },
  {
   "cell_type": "code",
   "execution_count": 33,
   "metadata": {},
   "outputs": [],
   "source": [
    "int addInts(int * p1, int * p2) {\n",
    "    return *p1 + *p2;\n",
    "}"
   ]
  },
  {
   "cell_type": "code",
   "execution_count": 34,
   "metadata": {},
   "outputs": [],
   "source": [
    "// example 1: pass address of regular variables\n",
    "int n1, n2 = 0;"
   ]
  },
  {
   "cell_type": "code",
   "execution_count": 35,
   "metadata": {},
   "outputs": [
    {
     "name": "stdout",
     "output_type": "stream",
     "text": [
      "10 + 15 = 25\n"
     ]
    }
   ],
   "source": [
    "n1 = 10; n2 = 15;\n",
    "cout << n1 << \" + \" << n2 << \" = \" << addInts(&n1, &n2) << endl;"
   ]
  },
  {
   "cell_type": "code",
   "execution_count": 36,
   "metadata": {},
   "outputs": [],
   "source": [
    "// example 2: pass ptr/dynamic variables\n",
    "int * ptr1 = new int;\n",
    "int * ptr2 = new int;"
   ]
  },
  {
   "cell_type": "code",
   "execution_count": 37,
   "metadata": {},
   "outputs": [
    {
     "name": "stdout",
     "output_type": "stream",
     "text": [
      "100 + 200 = 300\n"
     ]
    }
   ],
   "source": [
    "*ptr1 = 100;\n",
    "*ptr2 = 200;\n",
    "cout << *ptr1 << \" + \" << *ptr2 << \" = \" << addInts(ptr1, ptr2) << endl;"
   ]
  },
  {
   "cell_type": "code",
   "execution_count": 38,
   "metadata": {},
   "outputs": [],
   "source": [
    "// side effect example!\n",
    "int myAdd(int * p1, int * p2) {\n",
    "    *p1 = 1000;\n",
    "    *p2 = 2000;\n",
    "    return *p1 + *p2;\n",
    "}"
   ]
  },
  {
   "cell_type": "code",
   "execution_count": 39,
   "metadata": {},
   "outputs": [
    {
     "name": "stdout",
     "output_type": "stream",
     "text": [
      "100 + 200 = 3000\n",
      "1000 + 2000\n"
     ]
    },
    {
     "data": {
      "text/plain": [
       "@0x112ec2010"
      ]
     },
     "execution_count": 39,
     "metadata": {},
     "output_type": "execute_result"
    }
   ],
   "source": [
    "cout << *ptr1 << \" + \" << *ptr2 << \" = \" << myAdd(ptr1, ptr2) << endl;\n",
    "cout << *ptr1 << \" + \" << *ptr2 << endl; // values of *ptr1 and *ptr2 have been changed by myAdd!"
   ]
  },
  {
   "cell_type": "code",
   "execution_count": 40,
   "metadata": {},
   "outputs": [
    {
     "name": "stderr",
     "output_type": "stream",
     "text": [
      "\u001b[1minput_line_53:3:9: \u001b[0m\u001b[0;1;31merror: \u001b[0m\u001b[1mread-only variable is not assignable\u001b[0m\n",
      "    *p1 = 1000; // not allowed as compiler will throw error!\n",
      "\u001b[0;1;32m    ~~~ ^\n",
      "\u001b[0m\u001b[1minput_line_53:4:9: \u001b[0m\u001b[0;1;31merror: \u001b[0m\u001b[1mread-only variable is not assignable\u001b[0m\n",
      "    *p2 = 2000; // not allowed!\n",
      "\u001b[0;1;32m    ~~~ ^\n",
      "\u001b[0m"
     ]
    },
    {
     "ename": "Interpreter Error",
     "evalue": "",
     "output_type": "error",
     "traceback": [
      "Interpreter Error: "
     ]
    }
   ],
   "source": [
    "// prevent side effect by passing pointers as const (read-only)\n",
    "int myAddBetter(const int * p1, const int * p2) {\n",
    "    *p1 = 1000; // not allowed as compiler will throw error!\n",
    "    *p2 = 2000; // not allowed!\n",
    "    return *p1 + *p2;\n",
    "}"
   ]
  },
  {
   "cell_type": "code",
   "execution_count": 41,
   "metadata": {},
   "outputs": [],
   "source": [
    "// prevent side effect by passing pointers as const (read-only)\n",
    "int myAddBetter(const int * p1, const int * p2) {\n",
    "    return *p1 + *p2;\n",
    "}"
   ]
  },
  {
   "cell_type": "code",
   "execution_count": 42,
   "metadata": {},
   "outputs": [
    {
     "name": "stdout",
     "output_type": "stream",
     "text": [
      "100 + 200 = 300\n",
      "100 + 200\n"
     ]
    },
    {
     "data": {
      "text/plain": [
       "@0x112ec2010"
      ]
     },
     "execution_count": 42,
     "metadata": {},
     "output_type": "execute_result"
    }
   ],
   "source": [
    "*ptr1 = 100;\n",
    "*ptr2 = 200;\n",
    "cout << *ptr1 << \" + \" << *ptr2 << \" = \" << myAddBetter(ptr1, ptr2) << endl;\n",
    "cout << *ptr1 << \" + \" << *ptr2 << endl; // values of *ptr1 and *ptr2 guaranteed to stay the same!"
   ]
  },
  {
   "cell_type": "markdown",
   "metadata": {},
   "source": [
    "<a id=\"exercises\"></a>\n",
    "## Exercises\n",
    "1. Write a program using dynamic memory that determines area and circumference of a circle.\n",
    "    - must use functions to find the required answers\n",
    "    - Note: Since user input (cin >>) is not supported in Jupyter Notebook, you can hard-code the value for radius"
   ]
  },
  {
   "cell_type": "code",
   "execution_count": 43,
   "metadata": {},
   "outputs": [],
   "source": [
    "// Solution to exercise 1\n",
    "#include <iostream>\n",
    "#include <cmath>\n",
    "\n",
    "using namespace std;"
   ]
  },
  {
   "cell_type": "code",
   "execution_count": 44,
   "metadata": {},
   "outputs": [],
   "source": [
    "float areaOfCircle(float * radius) {\n",
    "    return M_PI * pow(*radius, 2);\n",
    "}"
   ]
  },
  {
   "cell_type": "code",
   "execution_count": 45,
   "metadata": {},
   "outputs": [],
   "source": [
    "float circumference(float * radius) {\n",
    "    return 2 * M_PI * (*radius);\n",
    "}"
   ]
  },
  {
   "cell_type": "code",
   "execution_count": 46,
   "metadata": {},
   "outputs": [],
   "source": [
    "void solve() {\n",
    "    float * radius = new float;\n",
    "    *radius = 10.5;\n",
    "    cout << \"radius of circle: \" << *radius << endl;\n",
    "    cout << \"area of circle: \" << areaOfCircle(radius) << endl;\n",
    "    cout << \"circumference of circle: \" << circumference(radius) << endl;\n",
    "}"
   ]
  },
  {
   "cell_type": "code",
   "execution_count": 47,
   "metadata": {},
   "outputs": [
    {
     "name": "stdout",
     "output_type": "stream",
     "text": [
      "radius of circle: 10.5\n",
      "area of circle: 346.361\n",
      "circumference of circle: 65.9734\n"
     ]
    }
   ],
   "source": [
    "// you'd call this function in main() in a program file\n",
    "solve();"
   ]
  },
  {
   "cell_type": "markdown",
   "metadata": {},
   "source": [
    "2. Write a program using dynamic memory that determines area and perimeter of a rectangle.\n",
    "    - must use functions to find area and perimeter\n",
    "    - Note: Since user input (cin >>) is not supported in Jupyter Notebook, you can hard-code the value for length and width."
   ]
  },
  {
   "cell_type": "markdown",
   "metadata": {},
   "source": [
    "<a id=\"pstruct\"></a>\n",
    "## Pointers to struct types\n",
    "- pointers can also store memory addresses of user-defined struct types\n",
    "- pointers user -> arrow operator to access members of struct types"
   ]
  },
  {
   "cell_type": "code",
   "execution_count": 48,
   "metadata": {},
   "outputs": [],
   "source": [
    "// Student struct type\n",
    "struct Student {\n",
    "    int id;\n",
    "    string name;\n",
    "    float tests[3];\n",
    "};"
   ]
  },
  {
   "cell_type": "code",
   "execution_count": 49,
   "metadata": {},
   "outputs": [],
   "source": [
    "// declare dynamic variable / allocate memory dynamically\n",
    "Student * st = new Student{100, \"John S. Smith\", {100, 0, 95}};"
   ]
  },
  {
   "cell_type": "code",
   "execution_count": 50,
   "metadata": {},
   "outputs": [
    {
     "name": "stdout",
     "output_type": "stream",
     "text": [
      "name = John S. Smith\n"
     ]
    }
   ],
   "source": [
    "cout << \"name = \" << st->name << endl;"
   ]
  },
  {
   "cell_type": "markdown",
   "metadata": {},
   "source": [
    "<a id=\"passingstructptrtofunc\"></a>\n",
    "## Passing struct pointers to functions"
   ]
  },
  {
   "cell_type": "code",
   "execution_count": 51,
   "metadata": {},
   "outputs": [],
   "source": [
    "// passing pointer-type to a function\n",
    "void printStudent(Student * s) {\n",
    "    cout << \"id: \" << s->id << \" name: \" << st->name << endl;\n",
    "    cout << \"test scores: \";\n",
    "    printArray(s->tests, 3);\n",
    "}"
   ]
  },
  {
   "cell_type": "code",
   "execution_count": 52,
   "metadata": {},
   "outputs": [
    {
     "name": "stdout",
     "output_type": "stream",
     "text": [
      "id: 100 name: John S. Smith\n",
      "test scores: [100, 0, 95]"
     ]
    }
   ],
   "source": [
    "printStudent(st);"
   ]
  },
  {
   "cell_type": "code",
   "execution_count": 53,
   "metadata": {},
   "outputs": [
    {
     "name": "stdout",
     "output_type": "stream",
     "text": [
      "id: 200 name: John S. Smith\n",
      "test scores: [100, 100, 100]"
     ]
    }
   ],
   "source": [
    "Student s1 = {200, \"Jane Doe\", {100, 100, 100}};\n",
    "Student *sptr = &s1; // sptr is an alias to s1\n",
    "printStudent(sptr);"
   ]
  },
  {
   "cell_type": "code",
   "execution_count": 55,
   "metadata": {},
   "outputs": [
    {
     "name": "stderr",
     "output_type": "stream",
     "text": [
      "\u001b[1minput_line_71:4:6: \u001b[0m\u001b[0;1;31merror: \u001b[0m\u001b[1mredefinition of 'printStudent1'\u001b[0m\n",
      "void printStudent1(Student * s) {\n",
      "\u001b[0;1;32m     ^\n",
      "\u001b[0m\u001b[1minput_line_70:4:6: \u001b[0m\u001b[0;1;30mnote: \u001b[0mprevious definition is here\u001b[0m\n",
      "void printStudent1(Student * s) {\n",
      "\u001b[0;1;32m     ^\n",
      "\u001b[0m"
     ]
    },
    {
     "ename": "Interpreter Error",
     "evalue": "",
     "output_type": "error",
     "traceback": [
      "Interpreter Error: "
     ]
    }
   ],
   "source": [
    "// passing pointer-type to a function\n",
    "// a value pointed to by formal parameter is modified!\n",
    "// may produce unintended side effect!!\n",
    "void printStudent1(Student * s) {\n",
    "    s->id = 999;\n",
    "    cout << \"id: \" << s->id << \" name: \" << st->name << endl;\n",
    "    cout << \"test scores: \";\n",
    "    printArray(s->tests, 3);\n",
    "}"
   ]
  },
  {
   "cell_type": "code",
   "execution_count": 56,
   "metadata": {},
   "outputs": [
    {
     "name": "stdout",
     "output_type": "stream",
     "text": [
      "id: 999 name: John S. Smith\n",
      "test scores: [100, 0, 95]"
     ]
    }
   ],
   "source": [
    "printStudent1(st);"
   ]
  },
  {
   "cell_type": "code",
   "execution_count": 57,
   "metadata": {},
   "outputs": [
    {
     "name": "stdout",
     "output_type": "stream",
     "text": [
      "id: 999 name: John S. Smith\n",
      "test scores: [100, 0, 95]"
     ]
    }
   ],
   "source": [
    "// check the value of st; it should be changed to 999!\n",
    "printStudent(st);"
   ]
  },
  {
   "cell_type": "code",
   "execution_count": 58,
   "metadata": {},
   "outputs": [
    {
     "name": "stdout",
     "output_type": "stream",
     "text": [
      "999\n"
     ]
    }
   ],
   "source": [
    "cout << st->id << endl;"
   ]
  },
  {
   "cell_type": "code",
   "execution_count": 59,
   "metadata": {},
   "outputs": [
    {
     "name": "stderr",
     "output_type": "stream",
     "text": [
      "\u001b[1minput_line_75:3:11: \u001b[0m\u001b[0;1;31merror: \u001b[0m\u001b[1mcannot assign to variable 's' with const-qualified type 'const Student *'\u001b[0m\n",
      "    s->id = 999; // not allowed!\n",
      "\u001b[0;1;32m    ~~~~~ ^\n",
      "\u001b[0m\u001b[1minput_line_75:2:36: \u001b[0m\u001b[0;1;30mnote: \u001b[0mvariable 's' declared const here\u001b[0m\n",
      "void printStudent2(const Student * s) {\n",
      "\u001b[0;1;32m                   ~~~~~~~~~~~~~~~~^\n",
      "\u001b[0m"
     ]
    },
    {
     "ename": "Interpreter Error",
     "evalue": "",
     "output_type": "error",
     "traceback": [
      "Interpreter Error: "
     ]
    }
   ],
   "source": [
    "// pass as a constant to prevent unintended side effect when passing pointer type \n",
    "void printStudent2(const Student * s) {\n",
    "    s->id = 999; // not allowed!\n",
    "    cout << \"id: \" << s->id << \" name: \" << st->name << endl;\n",
    "    cout << \"test scores: \";\n",
    "    printArray(s->tests, 3);\n",
    "}"
   ]
  },
  {
   "cell_type": "code",
   "execution_count": 60,
   "metadata": {},
   "outputs": [],
   "source": [
    "// pass as a constant to prevent unintended side effect when passing pointer type \n",
    "// const makes the parameter read-only!!\n",
    "void printStudent3(const Student * s) {\n",
    "    cout << \"id: \" << s->id << \" name: \" << st->name << endl;\n",
    "    cout << \"test scores: \";\n",
    "    printArray(s->tests, 3);\n",
    "}"
   ]
  },
  {
   "cell_type": "code",
   "execution_count": 61,
   "metadata": {},
   "outputs": [
    {
     "name": "stdout",
     "output_type": "stream",
     "text": [
      "id: 999 name: John S. Smith\n",
      "test scores: [100, 0, 95]"
     ]
    }
   ],
   "source": [
    "printStudent3(st);"
   ]
  },
  {
   "cell_type": "code",
   "execution_count": null,
   "metadata": {},
   "outputs": [],
   "source": []
  }
 ],
 "metadata": {
  "kernelspec": {
   "display_name": "C++14",
   "language": "C++14",
   "name": "xeus-cling-cpp14"
  },
  "language_info": {
   "codemirror_mode": "text/x-c++src",
   "file_extension": ".cpp",
   "mimetype": "text/x-c++src",
   "name": "c++",
   "version": "-std=c++14"
  }
 },
 "nbformat": 4,
 "nbformat_minor": 2
}
