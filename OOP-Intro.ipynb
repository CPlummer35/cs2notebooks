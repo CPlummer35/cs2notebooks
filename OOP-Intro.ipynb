{
 "cells": [
  {
   "cell_type": "markdown",
   "metadata": {},
   "source": [
    "# Object Oriented Programming (OOP) Introduction\n",
    "\n",
    "## Table of Contents\n",
    "- [OOP Introduction](#intro)\n",
    "- [Principles of OOP](#principles)\n",
    "- [Define and use class](#define)\n",
    "- [Constructors](#constructors)\n",
    "- [Getters and Setters](#getters)\n",
    "- [Pointers to classes](#pointers)\n",
    "- [Arrays of classes](#arrays)\n",
    "- [Aggregate operations](#aggregate)\n",
    "- [Passing classes to functions](#passing)\n",
    "- [Return classes from functions](#return)"
   ]
  },
  {
   "cell_type": "markdown",
   "metadata": {},
   "source": [
    "### all header includes requried for this notebook"
   ]
  },
  {
   "cell_type": "code",
   "execution_count": 1,
   "metadata": {},
   "outputs": [],
   "source": [
    "#include <iostream>\n",
    "#include <string>\n",
    "#include <cassert>\n",
    "\n",
    "using namespace std;"
   ]
  },
  {
   "cell_type": "markdown",
   "metadata": {},
   "source": [
    "<a id=\"intro\"></a>"
   ]
  },
  {
   "cell_type": "markdown",
   "metadata": {},
   "source": [
    "## Procedural programming\n",
    "- most of CS1 is procedural programming\n",
    "- derived from structured programming, based on the concept of the procedure call\n",
    "- procedures, also called routines, subroutines, or methods define the computational steps to be carried out\n",
    "- the focus of procedural programming is to break down a programming task into a collection of variables, data structures, and subroutines\n",
    "- no concept of ownership of data\n",
    "- functions or procedures passively operate on data\n",
    "\n",
    "## Object oriented programming\n",
    "- programming paradigm based on the concept of `objects`, which are **data structures** and **operations**\n",
    "    - `data structures`: contain data in the form of fields or attributes\n",
    "    - `operations` : code in the form of methods, procedures, functions\n",
    "- objects are the core of the problems\n",
    "    - the focus of OOP is to break down a programming task into `objects` that expose behavior (methods) and data (fields) using interfaces\n",
    "    - OOP bundles data and methods, so an `object`, actively operates on its \"own\" data\n",
    "- objects are instances/variables of some user-defined class types\n",
    "\n",
    "### OOP in C++\n",
    "- keywords `class` or `struct` can be used to define some class type\n",
    "- very similar to `struct`\n",
    "- two-step process:\n",
    "    - define class and use class via objects"
   ]
  },
  {
   "cell_type": "markdown",
   "metadata": {},
   "source": [
    "<a id=\"principles\"></a>"
   ]
  },
  {
   "cell_type": "markdown",
   "metadata": {},
   "source": [
    "## Principles of OOP\n",
    "- 4 principles of OOP\n",
    "\n",
    "### Encapsulation\n",
    "- refers to creation of self-contained modules (classes) that bind data and methods/functions that operate on data\n",
    "- data within each class is kept private\n",
    "- class defines rules for what is publicly visible and what modifications are allowed\n",
    "\n",
    "### Abstraction\n",
    "- denotes a model, a view or some other focused representation or metaphors for real-world objects\n",
    "- `Encapsulation` hides the details of that implementation\n",
    "\n",
    "### Inheritance\n",
    "- classes may be created in hiearchies\n",
    "- inheritance lets the attributes and methods in one class (parent) pass down to the `class hierarchy` (children)\n",
    "- allows for reuse of code in a parent class (major benefit)\n",
    "\n",
    "### Polymorphism\n",
    "- allows for a way to determine type of an object during runtime\n",
    "- E.g., a screen \"cursor\" may change its shape from an `arrow` to a `line` depending on the program mode\n",
    "    - polymorphism makes right routine to be called when \"cursor\" is moved\n"
   ]
  },
  {
   "cell_type": "markdown",
   "metadata": {},
   "source": [
    "<a id=\"define\"></a>"
   ]
  },
  {
   "cell_type": "markdown",
   "metadata": {},
   "source": [
    "### Syntax to define class\n",
    "```c++\n",
    "class className {\n",
    "  accessSpecifier1: // can be private, public, or protected\n",
    "    data members; // variables/attributes\n",
    "    function members; // methods to access/operate on data\n",
    "  accessSpecifier2:\n",
    "     // data and function members\n",
    "  ...\n",
    "}; // ends with semicolor\n",
    "\n",
    "```\n",
    "\n",
    "### private:\n",
    "- by default all members of class are private\n",
    "- `private` members are accessible only from within other members of the same class (or from their \"friends\")\n",
    "\n",
    "### protected:\n",
    "- `protected` members are accessible from other members of the same class (or from their \"friends\")\n",
    "- and also from members of their children/derived classes\n",
    "\n",
    "### public:\n",
    "- `public` members are accessible from anywhere the object is visible"
   ]
  },
  {
   "cell_type": "markdown",
   "metadata": {},
   "source": [
    "### Declare objects\n",
    "```c++\n",
    "className objectName;\n",
    "```\n",
    "\n",
    "### Access members\n",
    "```c++\n",
    "objectName.memberName\n",
    "```\n",
    "\n",
    "- .(dot) member access operator is used to access members that are accessible\n"
   ]
  },
  {
   "cell_type": "code",
   "execution_count": null,
   "metadata": {},
   "outputs": [],
   "source": [
    "// Example 0\n",
    "class UselessClass {\n",
    "  int mem1;\n",
    "  string mem2;\n",
    "  void print() {\n",
    "      cout << mem1 << mem2 << endl;\n",
    "  }\n",
    "};"
   ]
  },
  {
   "cell_type": "code",
   "execution_count": null,
   "metadata": {},
   "outputs": [],
   "source": [
    "UselessClass uselessObject; // instantiate an object userlessObject of type UselessClass"
   ]
  },
  {
   "cell_type": "code",
   "execution_count": null,
   "metadata": {},
   "outputs": [],
   "source": [
    "uselessObject.mem1 = 100; // can't access any members as they're by default all private!!"
   ]
  },
  {
   "cell_type": "code",
   "execution_count": null,
   "metadata": {},
   "outputs": [],
   "source": [
    "// Example 1 - A class with no encapsulation\n",
    "class Rectangle {\n",
    "  public:\n",
    "    // member variables/attributes\n",
    "    float length;\n",
    "    float width;\n",
    "    \n",
    "    // member functions\n",
    "    float getArea() {\n",
    "        return length*width;\n",
    "    }\n",
    "    \n",
    "    float getPerimeter() {\n",
    "        return 2*(length+width);\n",
    "    }\n",
    "};"
   ]
  },
  {
   "cell_type": "code",
   "execution_count": null,
   "metadata": {},
   "outputs": [],
   "source": [
    "Rectangle r1; // instantiate an object r1 of type Rectangle"
   ]
  },
  {
   "cell_type": "code",
   "execution_count": null,
   "metadata": {},
   "outputs": [],
   "source": [
    "r1.length = 10;\n",
    "r1.width = -15;\n",
    "cout << \"area = \" << r1.getArea() << endl;\n",
    "cout << \"perimeter = \" << r1.getPerimeter() << endl;"
   ]
  },
  {
   "cell_type": "code",
   "execution_count": null,
   "metadata": {},
   "outputs": [],
   "source": [
    "// How about this? Nothing can prevent us from doing the following...\n",
    "// Can you tell what's wrong in the following code??\n",
    "Rectangle r2;\n",
    "r2.length = -20;\n",
    "r2.width = 0;\n",
    "cout << \"area = \" << r2.getArea() << endl;\n",
    "cout << \"perimeter = \" << r2.getPerimeter() << endl;"
   ]
  },
  {
   "cell_type": "code",
   "execution_count": null,
   "metadata": {},
   "outputs": [],
   "source": [
    "// Example 2 - another class with no encapsulation\n",
    "class BadBoyShipping {\n",
    "    public:\n",
    "        int weight;\n",
    "        string address;\n",
    "        /* remaining code ommitted... */\n",
    "}"
   ]
  },
  {
   "cell_type": "code",
   "execution_count": null,
   "metadata": {},
   "outputs": [],
   "source": [
    "BadBoyShipping *bad = new BadBoyShipping();\n",
    "bad->weight = -3;"
   ]
  },
  {
   "cell_type": "markdown",
   "metadata": {},
   "source": [
    "<a id=\"constructors\"></a>"
   ]
  },
  {
   "cell_type": "markdown",
   "metadata": {},
   "source": [
    "## Constructors\n",
    "- special methods that let you initialize member variables\n",
    "- lets you add code to do data validation; -ve or empty data may not be allowed, e.g.\n",
    "- they're invoked/called automatically based on how objects are initialized (based on parameters)\n",
    "- constructors have the same name as the class and no return type\n",
    "- can overload more than 1 constructors\n",
    "- C++ provides default constructor (constructor without arguments) if no constructor is provided\n",
    "    - if a constructor is provided, default constructor must be provided as well...\n",
    "   \n",
    "- Syntax:\n",
    "```c++\n",
    "    className(parameter list...) {\n",
    "       // code to initialize member variables   \n",
    "    }\n",
    "```\n",
    "\n",
    "## Destructors\n",
    "- special method which destructs or deletes and object\n",
    "- a destructor is called automatically when the object goes out of scope:\n",
    "    - the function ends\n",
    "    - the program terminates\n",
    "    - a block containing local variables ends\n",
    "    - a delete operator is called\n",
    "- like constructors, destructors are different from normal member functions\n",
    "- Syntax:\n",
    "```c++\n",
    "    ~ className() {\n",
    "       // code clean up\n",
    "       // delete dynamic variables\n",
    "       // send signals\n",
    "    }\n",
    "```"
   ]
  },
  {
   "cell_type": "markdown",
   "metadata": {},
   "source": [
    "## Getter and Setter methods\n",
    "- member functions or methods that get and set private and protected member variables\n",
    "- helps in data encapsulation by providing API (Application Programming Interface) to work with data variables"
   ]
  },
  {
   "cell_type": "markdown",
   "metadata": {},
   "source": [
    "## Keyword this\n",
    "- `this` represents a pointer to the object whose members are being accessed or executed\n",
    "- it is used within a class's member function to refer to the object itself"
   ]
  },
  {
   "cell_type": "code",
   "execution_count": 2,
   "metadata": {
    "code_folding": []
   },
   "outputs": [],
   "source": [
    "// Example 2\n",
    "class Person {\n",
    "  private:\n",
    "    // member variables/ attributes\n",
    "    string name; // some naming conventions use leading _ before attributes\n",
    "    int * _age; // int * _age; to distinguish from parameters and local variables\n",
    "    \n",
    "  public:\n",
    "    // member functions/methods\n",
    "    // default constructor\n",
    "    Person() {\n",
    "        name = \"AA BB\";\n",
    "        _age = new int; //dynamic variable\n",
    "        *_age = 0;\n",
    "    }\n",
    "    // overloaded constructor that takes arguments\n",
    "    Person(string name, int age) {\n",
    "        assert(name != \"\");\n",
    "        assert(age >= 0);\n",
    "        // if assertion passed, set the attributes\n",
    "        this->name = name; // this->name is member variable whereas name is local variable\n",
    "        _age = new int;\n",
    "        *_age = age;\n",
    "    }\n",
    "    \n",
    "    // getters\n",
    "    string getName() const { \n",
    "        //name = \"dsfdsaf\";\n",
    "        return name; \n",
    "    }\n",
    "    \n",
    "    int getAge() const { return *_age; }\n",
    "    \n",
    "    // setters\n",
    "    void setName(string name) {\n",
    "        assert(name != \"\");\n",
    "        this->name = name;\n",
    "    }\n",
    "    \n",
    "    void setAge(int age) {\n",
    "        assert (age >= 0);\n",
    "        *_age = age;\n",
    "    }\n",
    "    \n",
    "    void introduce() const {\n",
    "        cout << \"Hi, my name is \" << name << \".\\n\";\n",
    "        cout << \"I'm \" << *_age << \" years old. It's pleasure meeting you!\\n\";\n",
    "    }\n",
    "    \n",
    "    // destructor\n",
    "    /*\n",
    "    ~Person() {\n",
    "        delete _age; //delete dynamic variable to prevent memory leak\n",
    "        cout << \"I'm destroyed!\" << endl;\n",
    "    }\n",
    "    */\n",
    "};"
   ]
  },
  {
   "cell_type": "code",
   "execution_count": 4,
   "metadata": {},
   "outputs": [
    {
     "name": "stdout",
     "output_type": "stream",
     "text": [
      "Hi, my name is AA BB.\n",
      "I'm 0 years old. It's pleasure meeting you!\n"
     ]
    }
   ],
   "source": [
    "Person p1; // automatically calls default constructor\n",
    "p1.introduce();"
   ]
  },
  {
   "cell_type": "code",
   "execution_count": 5,
   "metadata": {},
   "outputs": [],
   "source": [
    "Person p2(\"John Smith\", 35); // functional form; very common way"
   ]
  },
  {
   "cell_type": "code",
   "execution_count": 6,
   "metadata": {},
   "outputs": [
    {
     "name": "stdout",
     "output_type": "stream",
     "text": [
      "Hi, my name is John Smith.\n",
      "I'm 35 years old. It's pleasure meeting you!\n"
     ]
    }
   ],
   "source": [
    "p2.introduce();"
   ]
  },
  {
   "cell_type": "code",
   "execution_count": 7,
   "metadata": {},
   "outputs": [],
   "source": [
    "// explictly using constructor\n",
    "Person p3 = Person(\"Jake Jones\", 45); // functional form init"
   ]
  },
  {
   "cell_type": "code",
   "execution_count": 8,
   "metadata": {},
   "outputs": [
    {
     "name": "stdout",
     "output_type": "stream",
     "text": [
      "Hi, my name is Jake Jones.\n",
      "I'm 45 years old. It's pleasure meeting you!\n"
     ]
    }
   ],
   "source": [
    "p3.introduce();"
   ]
  },
  {
   "cell_type": "code",
   "execution_count": 9,
   "metadata": {},
   "outputs": [
    {
     "name": "stdout",
     "output_type": "stream",
     "text": [
      "name = Jackson Jones\n"
     ]
    }
   ],
   "source": [
    "p3.setName(\"Jackson Jones\");\n",
    "cout << \"name = \" << p3.getName() << endl;"
   ]
  },
  {
   "cell_type": "code",
   "execution_count": 10,
   "metadata": {},
   "outputs": [
    {
     "name": "stdout",
     "output_type": "stream",
     "text": [
      "Hi, my name is Jackson Jones.\n",
      "I'm 45 years old. It's pleasure meeting you!\n"
     ]
    }
   ],
   "source": [
    "p3.introduce();"
   ]
  },
  {
   "cell_type": "code",
   "execution_count": 6,
   "metadata": {},
   "outputs": [],
   "source": [
    "// Uniform init\n",
    "Person p4 = {\"Jane Smith\", 29}; // not common"
   ]
  },
  {
   "cell_type": "code",
   "execution_count": 12,
   "metadata": {},
   "outputs": [
    {
     "name": "stdout",
     "output_type": "stream",
     "text": [
      "Hi, my name is Jane Smith.\n",
      "I'm 29 years old. It's pleasure meeting you!\n"
     ]
    }
   ],
   "source": [
    "p4.introduce();"
   ]
  },
  {
   "cell_type": "markdown",
   "metadata": {},
   "source": [
    "<a id=\"pointers\"></a>"
   ]
  },
  {
   "cell_type": "markdown",
   "metadata": {},
   "source": [
    "## Pointers to classes\n",
    "- objects can also be pointed to by pointers\n",
    "- Syntax:\n",
    "```c++\n",
    "    className * pointer;\n",
    "```\n",
    "- use -> (arrow) operator to access members of class pointers\n",
    "- allows to allocate memory dynamically"
   ]
  },
  {
   "cell_type": "code",
   "execution_count": 13,
   "metadata": {},
   "outputs": [],
   "source": [
    "Person * p5;"
   ]
  },
  {
   "cell_type": "code",
   "execution_count": 14,
   "metadata": {},
   "outputs": [
    {
     "name": "stdout",
     "output_type": "stream",
     "text": [
      "Hi, my name is Jane Smith.\n",
      "I'm 29 years old. It's pleasure meeting you!\n"
     ]
    }
   ],
   "source": [
    "p5 = &p4;\n",
    "p5->introduce();"
   ]
  },
  {
   "cell_type": "code",
   "execution_count": 15,
   "metadata": {},
   "outputs": [],
   "source": [
    "p5->setName(\"Jane Jackson\");"
   ]
  },
  {
   "cell_type": "code",
   "execution_count": 16,
   "metadata": {},
   "outputs": [
    {
     "name": "stdout",
     "output_type": "stream",
     "text": [
      "Hi, my name is Jane Jackson.\n",
      "I'm 29 years old. It's pleasure meeting you!\n",
      "Hi, my name is Jane Jackson.\n",
      "I'm 29 years old. It's pleasure meeting you!\n"
     ]
    }
   ],
   "source": [
    "p4.introduce();\n",
    "p5->introduce();"
   ]
  },
  {
   "cell_type": "code",
   "execution_count": 17,
   "metadata": {},
   "outputs": [],
   "source": [
    "Person * p6 = new Person(\"Bill Gates\", 60);"
   ]
  },
  {
   "cell_type": "code",
   "execution_count": 18,
   "metadata": {},
   "outputs": [
    {
     "name": "stdout",
     "output_type": "stream",
     "text": [
      "Hi, my name is Bill Gates.\n",
      "I'm 60 years old. It's pleasure meeting you!\n"
     ]
    }
   ],
   "source": [
    "p6->introduce();"
   ]
  },
  {
   "cell_type": "markdown",
   "metadata": {},
   "source": [
    "<a id=\"arrays\"></a>"
   ]
  },
  {
   "cell_type": "markdown",
   "metadata": {},
   "source": [
    "## Array of classes\n",
    "- very similar to array of built-in types or structs!"
   ]
  },
  {
   "cell_type": "code",
   "execution_count": 19,
   "metadata": {},
   "outputs": [],
   "source": [
    "// declare array of 10 Person players\n",
    "Person players[10];"
   ]
  },
  {
   "cell_type": "code",
   "execution_count": 20,
   "metadata": {},
   "outputs": [
    {
     "name": "stdout",
     "output_type": "stream",
     "text": [
      "I'm destroyed!\n",
      "I'm destroyed!\n"
     ]
    }
   ],
   "source": [
    "players[0] = {\"Michael Jordan\", 50};\n",
    "players[1] = {\"Magic Johnson\", 55};"
   ]
  },
  {
   "cell_type": "code",
   "execution_count": 21,
   "metadata": {},
   "outputs": [
    {
     "name": "stdout",
     "output_type": "stream",
     "text": [
      "Hi, my name is Michael Jordan.\n",
      "I'm -1467829325 years old. It's pleasure meeting you!\n",
      "Hi, my name is Magic Johnson.\n",
      "I'm -1467829325 years old. It's pleasure meeting you!\n"
     ]
    }
   ],
   "source": [
    "players[0].introduce();\n",
    "players[1].introduce();"
   ]
  },
  {
   "cell_type": "code",
   "execution_count": 22,
   "metadata": {},
   "outputs": [],
   "source": [
    "// access/update member variables of Player object stored at index 0 via setters\n",
    "players[0].setName(\"Mike Jordan\");\n",
    "players[0].setAge(51);"
   ]
  },
  {
   "cell_type": "code",
   "execution_count": 23,
   "metadata": {},
   "outputs": [
    {
     "name": "stdout",
     "output_type": "stream",
     "text": [
      "Hi, my name is Mike Jordan.\n",
      "I'm -1467996434 years old. It's pleasure meeting you!\n"
     ]
    }
   ],
   "source": [
    "players[0].introduce();"
   ]
  },
  {
   "cell_type": "code",
   "execution_count": 24,
   "metadata": {},
   "outputs": [],
   "source": [
    "// dynamic array of Person\n",
    "Person * people = new Person[2] {{\"Jeff Bezos\", 50}, {\"Warren Buffet\", 75}};"
   ]
  },
  {
   "cell_type": "code",
   "execution_count": 25,
   "metadata": {},
   "outputs": [
    {
     "name": "stdout",
     "output_type": "stream",
     "text": [
      "Hi, my name is Jeff Bezos.\n",
      "I'm 50 years old. It's pleasure meeting you!\n",
      "Hi, my name is Warren Buffet.\n",
      "I'm 75 years old. It's pleasure meeting you!\n"
     ]
    }
   ],
   "source": [
    "people[0].introduce();\n",
    "people[1].introduce();"
   ]
  },
  {
   "cell_type": "code",
   "execution_count": 4,
   "metadata": {},
   "outputs": [],
   "source": [
    "#include <vector>"
   ]
  },
  {
   "cell_type": "code",
   "execution_count": 5,
   "metadata": {},
   "outputs": [],
   "source": [
    "vector<Person> people;"
   ]
  },
  {
   "cell_type": "code",
   "execution_count": 6,
   "metadata": {},
   "outputs": [],
   "source": [
    "Person p;"
   ]
  },
  {
   "cell_type": "code",
   "execution_count": 7,
   "metadata": {},
   "outputs": [],
   "source": [
    "string name;\n",
    "int age;"
   ]
  },
  {
   "cell_type": "code",
   "execution_count": 8,
   "metadata": {},
   "outputs": [
    {
     "name": "stdout",
     "output_type": "stream",
     "text": [
      "enter name and age: John 35\n"
     ]
    }
   ],
   "source": [
    "cout << \"enter name and age: \";\n",
    "cin >> name >> age;"
   ]
  },
  {
   "cell_type": "markdown",
   "metadata": {},
   "source": [
    "<a id=\"aggregate\"></a>"
   ]
  },
  {
   "cell_type": "code",
   "execution_count": 9,
   "metadata": {},
   "outputs": [],
   "source": [
    "p.setName(name);\n",
    "p.setAge(age);"
   ]
  },
  {
   "cell_type": "code",
   "execution_count": 10,
   "metadata": {},
   "outputs": [
    {
     "name": "stdout",
     "output_type": "stream",
     "text": [
      "Hi, my name is John.\n",
      "I'm 35 years old. It's pleasure meeting you!\n"
     ]
    }
   ],
   "source": [
    "p.introduce();"
   ]
  },
  {
   "cell_type": "code",
   "execution_count": 11,
   "metadata": {},
   "outputs": [],
   "source": [
    "people.push_back(p);"
   ]
  },
  {
   "cell_type": "code",
   "execution_count": null,
   "metadata": {},
   "outputs": [],
   "source": [
    "for (auto p : people) {\n",
    "    p.introduce();\n",
    "}"
   ]
  },
  {
   "cell_type": "markdown",
   "metadata": {},
   "source": [
    "## Aggregate operations on class objects\n",
    "- by default only = (assignment) aggregate operation can be done on class objects\n",
    "- can't compare two objects even if they're of same type without overloading those comparison operators"
   ]
  },
  {
   "cell_type": "code",
   "execution_count": 14,
   "metadata": {},
   "outputs": [],
   "source": [
    "// can copy one object to another; becareful of dynamic members (shallow copy... more on this later)!!\n",
    "Person p7 = p;"
   ]
  },
  {
   "cell_type": "code",
   "execution_count": 16,
   "metadata": {},
   "outputs": [
    {
     "name": "stdout",
     "output_type": "stream",
     "text": [
      "Hi, my name is John.\n",
      "I'm 869321564 years old. It's pleasure meeting you!\n",
      "Hi, my name is John.\n",
      "I'm 869321564 years old. It's pleasure meeting you!\n"
     ]
    }
   ],
   "source": [
    "p7.introduce();\n",
    "p.introduce();"
   ]
  },
  {
   "cell_type": "code",
   "execution_count": null,
   "metadata": {},
   "outputs": [],
   "source": [
    "// no aggregate comaparisons (==, !=, <=, <, >, >=) are allowed unless overloaded\n",
    "if (p7 == p4) cout << \"same people!\";\n",
    "else cout << \"not the same people!\";"
   ]
  },
  {
   "cell_type": "markdown",
   "metadata": {},
   "source": [
    "<a id=\"passing\"></a>"
   ]
  },
  {
   "cell_type": "markdown",
   "metadata": {},
   "source": [
    "## Passing classes to functions\n",
    "- class objects can be passed to functions in two ways (by value and by reference)\n",
    "- by default, classes are passed by value\n",
    "- can be passed by reference using address of (&) operator"
   ]
  },
  {
   "cell_type": "code",
   "execution_count": 5,
   "metadata": {},
   "outputs": [],
   "source": [
    "// passed by value\n",
    "void printPerson(Person p) {\n",
    "    cout << \"name: \" << p.getName() << endl;\n",
    "    cout << \"age: \" << p.getAge() << endl;\n",
    "}"
   ]
  },
  {
   "cell_type": "code",
   "execution_count": 8,
   "metadata": {},
   "outputs": [
    {
     "name": "stdout",
     "output_type": "stream",
     "text": [
      "name: Jane Smith\n",
      "age: 29\n"
     ]
    }
   ],
   "source": [
    "printPerson(p4); // member variables of p4 are copied to p"
   ]
  },
  {
   "cell_type": "code",
   "execution_count": 11,
   "metadata": {},
   "outputs": [
    {
     "name": "stderr",
     "output_type": "stream",
     "text": [
      "\u001b[1minput_line_18:2:6: \u001b[0m\u001b[0;1;31merror: \u001b[0m\u001b[1mredefinition of 'printPerson1'\u001b[0m\n",
      "void printPerson1(Person &p) {\n",
      "\u001b[0;1;32m     ^\n",
      "\u001b[0m\u001b[1minput_line_16:2:6: \u001b[0m\u001b[0;1;30mnote: \u001b[0mprevious definition is here\u001b[0m\n",
      "void printPerson1(Person &p) {\n",
      "\u001b[0;1;32m     ^\n",
      "\u001b[0m"
     ]
    },
    {
     "ename": "Interpreter Error",
     "evalue": "",
     "output_type": "error",
     "traceback": [
      "Interpreter Error: "
     ]
    }
   ],
   "source": [
    "// passed by reference\n",
    "void printPerson1(const Person &p) {\n",
    "    cout << \"name = \" << p.getName() << endl; // read-only\n",
    "    cout << \"age = \" << p.getAge() << endl;\n",
    "    //p.setAge(10); // nothing can stop from doing this.. updating/writing data\n",
    "}"
   ]
  },
  {
   "cell_type": "code",
   "execution_count": 3,
   "metadata": {},
   "outputs": [],
   "source": [
    "// passed by reference\n",
    "void printPerson2(const Person &p) {\n",
    "    cout << \"name = \" << p.getName() << endl; // read-only\n",
    "    cout << \"age = \" << p.getAge() << endl;\n",
    "    //p.setAge(10); // nothing can stop from doing this.. updating/writing data\n",
    "}"
   ]
  },
  {
   "cell_type": "code",
   "execution_count": 12,
   "metadata": {},
   "outputs": [
    {
     "name": "stdout",
     "output_type": "stream",
     "text": [
      "name = Jane Smith\n",
      "age = 10\n"
     ]
    }
   ],
   "source": [
    "printPerson1(p4);"
   ]
  },
  {
   "cell_type": "code",
   "execution_count": 13,
   "metadata": {},
   "outputs": [
    {
     "name": "stdout",
     "output_type": "stream",
     "text": [
      "Hi, my name is Jane Smith.\n",
      "I'm 10 years old. It's pleasure meeting you!\n"
     ]
    }
   ],
   "source": [
    "p4.introduce(); // what do you think is now the age of p4"
   ]
  },
  {
   "cell_type": "code",
   "execution_count": null,
   "metadata": {},
   "outputs": [],
   "source": [
    "// How do we fix this problem? \n",
    "// pass reference as constant if the function is supposed to read-only the data!\n",
    "// demonstrate with an example...\n",
    "// getters must be marked const or read-only!!"
   ]
  },
  {
   "cell_type": "markdown",
   "metadata": {},
   "source": [
    "<a id=\"return\"></a>"
   ]
  },
  {
   "cell_type": "markdown",
   "metadata": {},
   "source": [
    "## Return classes from functions\n",
    "- class object can be returned from regular functions just like fundamental-types (int, float, char, etc.)"
   ]
  },
  {
   "cell_type": "code",
   "execution_count": 4,
   "metadata": {},
   "outputs": [],
   "source": [
    "Person createPerson() {\n",
    "    int age=0;\n",
    "    string name;\n",
    "    Person p;\n",
    "    cout << \"Enter new person's name: \";\n",
    "    getline(cin, name);\n",
    "    p.setName(name);\n",
    "    p.setAge(age);\n",
    "    return p;\n",
    "}"
   ]
  },
  {
   "cell_type": "code",
   "execution_count": 5,
   "metadata": {},
   "outputs": [
    {
     "name": "stdout",
     "output_type": "stream",
     "text": [
      "Enter new person's name: Baby John\n"
     ]
    }
   ],
   "source": [
    "Person newP = createPerson();"
   ]
  },
  {
   "cell_type": "code",
   "execution_count": 6,
   "metadata": {},
   "outputs": [
    {
     "name": "stdout",
     "output_type": "stream",
     "text": [
      "Hi, my name is Baby John.\n",
      "I'm 0 years old. It's pleasure meeting you!\n"
     ]
    }
   ],
   "source": [
    "newP.introduce();"
   ]
  },
  {
   "cell_type": "markdown",
   "metadata": {},
   "source": [
    "## Reading expressions\n",
    "|expression| can be read as|\n",
    "|----|------|\n",
    "|\\*x |pointed to by x |\n",
    "|&x | address of x |\n",
    "| x.y | member y of object x |\n",
    "| x->y | member y of object pointed to by x |\n",
    "| (\\*x).y | member y of object pointed to by x | \n",
    "| x[0] | first object pointed to by x|\n",
    "| x[1] | second object pointed to by x |\n",
    "| x[n] | (n+1)th object pointed to by x\n"
   ]
  },
  {
   "cell_type": "markdown",
   "metadata": {},
   "source": [
    "## Classes defined with struct and union\n",
    "- classes can be defined with keywords `struct` and `union`\n",
    "- **struct** is generally used to declare plain data structures (only member variables)\n",
    "    - struct can also include member functions just like class\n",
    "    - by default members of struct are `public`\n",
    "- **union** only stores one data member at a time, but can also hold member functions\n",
    "    - default access in union classes is `public`"
   ]
  },
  {
   "cell_type": "markdown",
   "metadata": {},
   "source": [
    "## OOP Paradigm - concept map\n",
    "<img src=\"./resources/OOPCM.png\">"
   ]
  },
  {
   "cell_type": "markdown",
   "metadata": {},
   "source": [
    "### Exercise\n",
    "Object-oriented programming is a programming paradigm based around ______.\n",
    "1. Abstraction\n",
    "2. Polymorphism\n",
    "- Inheritance\n",
    "- Objects\n",
    "\n",
    "Find area and circumference of a circle using OOD (Object Oriented Design)."
   ]
  },
  {
   "cell_type": "code",
   "execution_count": null,
   "metadata": {},
   "outputs": [],
   "source": []
  }
 ],
 "metadata": {
  "kernelspec": {
   "display_name": "C++14",
   "language": "C++14",
   "name": "xeus-cling-cpp14"
  },
  "language_info": {
   "codemirror_mode": "text/x-c++src",
   "file_extension": ".cpp",
   "mimetype": "text/x-c++src",
   "name": "c++",
   "version": "-std=c++14"
  }
 },
 "nbformat": 4,
 "nbformat_minor": 2
}
