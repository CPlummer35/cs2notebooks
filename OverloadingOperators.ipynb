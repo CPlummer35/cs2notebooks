{
 "cells": [
  {
   "cell_type": "markdown",
   "metadata": {},
   "source": [
    "# Overloading Operators & Templates\n",
    "http://www.cplusplus.com/doc/tutorial/templates/\n",
    "\n",
    "## Table of Contents\n",
    "- **[Overloading operators](#overloading)**<br>\n",
    "- **[Friend functions](#friend)**<br>\n"
   ]
  },
  {
   "cell_type": "markdown",
   "metadata": {},
   "source": [
    "<a id=\"overloading\">"
   ]
  },
  {
   "cell_type": "markdown",
   "metadata": {},
   "source": [
    "## Overloading operators\n",
    "- many operators such as +, -, <<, >>, ==, !=, etc. work on fundamental types such as int, float, char, etc.\n",
    "- classes help us define new types to be used in C++ code\n",
    "- few operators, by default work with classes (., ->, new, etc.) and others can be overloaded so new types behave similar to fundamental types for those operators\n",
    "    - e.g., we would want to be able to add two Rectangle objects and get a bigger Rectangle such as:\n",
    "    - `Rectangle r, r1, r2;`\n",
    "    - `r = r1 + r2;`\n",
    "- syntax:\n",
    "```cpp\n",
    "returnType operator#(parameters...) {\n",
    "    // # operator being overloaded\n",
    "    // code to work with #\n",
    "}\n",
    "```\n",
    "\n",
    "### Overloadable operators\n",
    "``` +    -    *    /    =    <    >    +=   -=   *=   /=   <<   >>\n",
    "<<=  >>=  ==   !=   <=   >=   ++   --   %    &    ^    !    |\n",
    "~    &=   ^=   |=   &&   ||   %=   []   ()   ,    ->*  ->   new \n",
    "delete    new[]     delete[]\n",
    "```"
   ]
  },
  {
   "cell_type": "code",
   "execution_count": 1,
   "metadata": {
    "code_folding": [
     11,
     20,
     24
    ]
   },
   "outputs": [],
   "source": [
    "// Example 1 - Overloading as member function\n",
    "#include <iostream>\n",
    "#include <string>\n",
    "\n",
    "using namespace std;\n",
    "\n",
    "class Rectangle {\n",
    "    private:\n",
    "        int length, width;\n",
    "    public:\n",
    "        // default and overloaded constructor\n",
    "        Rectangle(int length=0, int width=0) { \n",
    "            if (length < 0)\n",
    "                length = 0;\n",
    "            if (width == 0)\n",
    "                width = 0;\n",
    "            this->length = length;\n",
    "            this->width = width;\n",
    "        }; \n",
    "    \n",
    "        int getArea() const {\n",
    "            return this->length*this->width;\n",
    "        }\n",
    "    \n",
    "        int getPerimeter() const {\n",
    "            return 2*(this->length + this->width);\n",
    "        }\n",
    "    \n",
    "        // overload + operator\n",
    "        Rectangle operator+(const Rectangle& other) {\n",
    "            Rectangle temp;\n",
    "            temp.length = this->length + other.length;\n",
    "            temp.width = this->width + other.width;\n",
    "            return temp;\n",
    "        }\n",
    "        \n",
    "        // overload [] operator\n",
    "        int operator[](size_t index) {\n",
    "            if (index == 0)\n",
    "                return this->length;\n",
    "            else\n",
    "                return this->width;\n",
    "        }\n",
    "};\n"
   ]
  },
  {
   "cell_type": "code",
   "execution_count": 2,
   "metadata": {},
   "outputs": [],
   "source": [
    "Rectangle r1 = {10, 5};\n",
    "Rectangle r2 = {20, 10};\n",
    "Rectangle R;"
   ]
  },
  {
   "cell_type": "code",
   "execution_count": 3,
   "metadata": {},
   "outputs": [
    {
     "name": "stdout",
     "output_type": "stream",
     "text": [
      "length = 30 width = 15\n"
     ]
    },
    {
     "data": {
      "text/plain": [
       "@0x106484010"
      ]
     },
     "execution_count": 3,
     "metadata": {},
     "output_type": "execute_result"
    }
   ],
   "source": [
    "R = r1 + r2; // Rectangle r = operator+(r1, r2);\n",
    "cout << \"length = \" << R[0] << \" width = \" << R[1] << endl;\n",
    "// same as R.operator[](0) and R.operator[](1)"
   ]
  },
  {
   "cell_type": "markdown",
   "metadata": {},
   "source": [
    "<a id=\"friend\">"
   ]
  },
  {
   "cell_type": "markdown",
   "metadata": {},
   "source": [
    "## Friend functions\n",
    "- non-member friend function can access private and protected members of a class if it is declared `friend` of that class\n",
    "- friends are functions or classes declared with the `friend` keyword\n",
    "- class must declare functions as friends; functions can not declare themselves as friends to a class!\n",
    "- friends functions can be used to overload operators as they can access private members without having to use getters"
   ]
  },
  {
   "cell_type": "code",
   "execution_count": 6,
   "metadata": {},
   "outputs": [
    {
     "name": "stderr",
     "output_type": "stream",
     "text": [
      "\u001b[1minput_line_18:4:10: \u001b[0m\u001b[0;1;31merror: \u001b[0m\u001b[1m'length' is a private member of 'Rectangle'\u001b[0m\n",
      "    temp.length = r1.length + r2.length;\n",
      "\u001b[0;1;32m         ^\n",
      "\u001b[0m\u001b[1minput_line_10:5:15: \u001b[0m\u001b[0;1;30mnote: \u001b[0mdeclared private here\u001b[0m\n",
      "        float length, width;\n",
      "\u001b[0;1;32m              ^\n",
      "\u001b[0m\u001b[1minput_line_18:4:22: \u001b[0m\u001b[0;1;31merror: \u001b[0m\u001b[1m'length' is a private member of 'Rectangle'\u001b[0m\n",
      "    temp.length = r1.length + r2.length;\n",
      "\u001b[0;1;32m                     ^\n",
      "\u001b[0m\u001b[1minput_line_10:5:15: \u001b[0m\u001b[0;1;30mnote: \u001b[0mdeclared private here\u001b[0m\n",
      "        float length, width;\n",
      "\u001b[0;1;32m              ^\n",
      "\u001b[0m\u001b[1minput_line_18:4:34: \u001b[0m\u001b[0;1;31merror: \u001b[0m\u001b[1m'length' is a private member of 'Rectangle'\u001b[0m\n",
      "    temp.length = r1.length + r2.length;\n",
      "\u001b[0;1;32m                                 ^\n",
      "\u001b[0m\u001b[1minput_line_10:5:15: \u001b[0m\u001b[0;1;30mnote: \u001b[0mdeclared private here\u001b[0m\n",
      "        float length, width;\n",
      "\u001b[0;1;32m              ^\n",
      "\u001b[0m\u001b[1minput_line_18:5:10: \u001b[0m\u001b[0;1;31merror: \u001b[0m\u001b[1m'width' is a private member of 'Rectangle'\u001b[0m\n",
      "    temp.width = r1.width + r2.width;\n",
      "\u001b[0;1;32m         ^\n",
      "\u001b[0m\u001b[1minput_line_10:5:23: \u001b[0m\u001b[0;1;30mnote: \u001b[0mdeclared private here\u001b[0m\n",
      "        float length, width;\n",
      "\u001b[0;1;32m                      ^\n",
      "\u001b[0m\u001b[1minput_line_18:5:21: \u001b[0m\u001b[0;1;31merror: \u001b[0m\u001b[1m'width' is a private member of 'Rectangle'\u001b[0m\n",
      "    temp.width = r1.width + r2.width;\n",
      "\u001b[0;1;32m                    ^\n",
      "\u001b[0m\u001b[1minput_line_10:5:23: \u001b[0m\u001b[0;1;30mnote: \u001b[0mdeclared private here\u001b[0m\n",
      "        float length, width;\n",
      "\u001b[0;1;32m                      ^\n",
      "\u001b[0m\u001b[1minput_line_18:5:32: \u001b[0m\u001b[0;1;31merror: \u001b[0m\u001b[1m'width' is a private member of 'Rectangle'\u001b[0m\n",
      "    temp.width = r1.width + r2.width;\n",
      "\u001b[0;1;32m                               ^\n",
      "\u001b[0m\u001b[1minput_line_10:5:23: \u001b[0m\u001b[0;1;30mnote: \u001b[0mdeclared private here\u001b[0m\n",
      "        float length, width;\n",
      "\u001b[0;1;32m                      ^\n",
      "\u001b[0m"
     ]
    },
    {
     "ename": "Interpreter Error",
     "evalue": "",
     "output_type": "error",
     "traceback": [
      "Interpreter Error: "
     ]
    }
   ],
   "source": [
    "// how can we fix the following problem?\n",
    "Rectangle addRectangles(const Rectangle &r1, const Rectangle &r2) {\n",
    "    Rectangle temp;\n",
    "    temp.length = r1.length + r2.length;\n",
    "    temp.width = r1.width + r2.width;\n",
    "    return temp;\n",
    "}"
   ]
  },
  {
   "cell_type": "markdown",
   "metadata": {},
   "source": [
    "### See: demo-programs/operator-overloading/ folder for more examples"
   ]
  },
  {
   "cell_type": "markdown",
   "metadata": {},
   "source": [
    "<a id=\"template\"></a>"
   ]
  },
  {
   "cell_type": "markdown",
   "metadata": {},
   "source": [
    "## Class Templates\n",
    "- class templates let us define a different implementation for a template when a specific type is passed as template argument (template specialization)\n",
    "- e.g., Rectangle class above only works on length and with values of integer types!\n",
    "- what if we want to work with float and double types as well?"
   ]
  },
  {
   "cell_type": "code",
   "execution_count": 1,
   "metadata": {},
   "outputs": [],
   "source": [
    "// Class Template Example\n",
    "#include <iostream>\n",
    "#include <string>\n",
    "\n",
    "using namespace std;"
   ]
  },
  {
   "cell_type": "code",
   "execution_count": 2,
   "metadata": {},
   "outputs": [],
   "source": [
    "template<class T>\n",
    "class Rectangle {\n",
    "    private:\n",
    "        T length, width;\n",
    "    public:\n",
    "        // default and overloaded constructor\n",
    "        Rectangle(T length=0, T width=0) { \n",
    "            if (length < 0)\n",
    "                length = 0;\n",
    "            if (width < 0)\n",
    "                width = 0;\n",
    "            this->length = length;\n",
    "            this->width = width;\n",
    "        }; \n",
    "    \n",
    "        T getArea() const {\n",
    "            return this->length*this->width;\n",
    "        }\n",
    "    \n",
    "        T getPerimeter() const {\n",
    "            return 2*(this->length + this->width);\n",
    "        }\n",
    "    \n",
    "        // overload + operator\n",
    "        Rectangle<T> operator+(const Rectangle<T>& other) {\n",
    "            Rectangle<T> temp;\n",
    "            temp.length = this->length + other.length;\n",
    "            temp.width = this->width + other.width;\n",
    "            return temp;\n",
    "        }\n",
    "        \n",
    "        // overload [] operator\n",
    "        T operator[](size_t index) {\n",
    "            if (index == 0)\n",
    "                return this->length;\n",
    "            else\n",
    "                return this->width;\n",
    "        }\n",
    "};"
   ]
  },
  {
   "cell_type": "code",
   "execution_count": 3,
   "metadata": {},
   "outputs": [
    {
     "name": "stdout",
     "output_type": "stream",
     "text": [
      "length = 20.5 width = 10.6\n"
     ]
    }
   ],
   "source": [
    "Rectangle<float> r1(10.5, 5.6);\n",
    "Rectangle<float> r2(10, 5);\n",
    "Rectangle<float> R = r1 + r2;\n",
    "cout << \"length = \" << R[0] << \" width = \" << R[1] << endl;"
   ]
  },
  {
   "cell_type": "code",
   "execution_count": null,
   "metadata": {},
   "outputs": [],
   "source": []
  }
 ],
 "metadata": {
  "kernelspec": {
   "display_name": "C++14",
   "language": "C++14",
   "name": "xeus-cling-cpp14"
  },
  "language_info": {
   "codemirror_mode": "text/x-c++src",
   "file_extension": ".cpp",
   "mimetype": "text/x-c++src",
   "name": "c++",
   "version": "-std=c++14"
  }
 },
 "nbformat": 4,
 "nbformat_minor": 2
}
