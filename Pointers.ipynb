{
 "cells": [
  {
   "cell_type": "markdown",
   "metadata": {},
   "source": [
    "# Pointers\n",
    "http://www.cplusplus.com/doc/tutorial/pointers/\n",
    "\n",
    "## Table of Contents\n",
    "- [Pointers](#pointers)\n",
    "- [Memory segments](#segments)\n",
    "- [Address of operator](#addoperator)\n",
    "- [Dereference operator](#dereference)\n",
    "- [Declaring pointers](#pointers)\n",
    "- [Pointers and arrays](#arrays)\n",
    "- [Invalid pointers and null pointers](#invalid)\n",
    "- [Pointers to functions](#functions)\n",
    "- [Dynamic memory](#dynamic)\n"
   ]
  },
  {
   "cell_type": "markdown",
   "metadata": {},
   "source": [
    "<a id=\"pointers\"></a>\n",
    "## Pointers\n",
    "- special variables that store physical memory addresses of data or other variables\n",
    "- like any variable you must declare a pointer before you can work with it\n"
   ]
  },
  {
   "cell_type": "markdown",
   "metadata": {},
   "source": [
    "<a id=\"segments\"></a>\n",
    "## Memory segments in C/C++ programs\n",
    "- memory a program uses is typically divided into 2 main spaces:\n",
    "    1. kernel space - reserved for running the kernel (OS background processes, device drivers, etc.)\n",
    "    2. user space - user-mode applications are loaded\n",
    "    \n",
    "- in C/C++ programs, user space is dividied into 5 different areas, called segments:\n",
    "\n",
    "<img src=\"./resources/c_memorysegments.png\" align=\"left\"/>\n",
    "\n",
    "1. **Stack segment**, also called scratch pad\n",
    "    - function parameters, local variables, and other function-related register varialbes are stored\n",
    "    - grows and shrinks based on program needs\n",
    "2. **Heap segment**\n",
    "    - dynamically allocated variables (using pointers) are allocated from this segment\n",
    "    - Heap size is normally much larger compared to stack size\n",
    "    - size (acutal) grows and shrinks based on program needs\n",
    "3. **BSS segment** (Block Started by Symbol, also called the uninitialized data segment)\n",
    "    - zero-initialized or uninitialized global and static variables are stored\n",
    "4. **Data segment** (also called the initialized data segment)\n",
    "    - initialized global and static variables are stored\n",
    "5. **Text segment** (also called a code segment)\n",
    "    - compiled program/code is loaded\n",
    "    - code segment is typically read-only.\n",
    "\n",
    "Programmers primarily focus on the heap and the stack, as that is where most of the interesting stuff takes place."
   ]
  },
  {
   "cell_type": "markdown",
   "metadata": {},
   "source": [
    "### memory_segments.cpp\n",
    "    - compile and run memory_segments.cpp inside demo-programs folder to see various memory segements in use by a program"
   ]
  },
  {
   "cell_type": "markdown",
   "metadata": {},
   "source": [
    "<a id=\"addoperator\"></a>\n",
    "## address-of operator (&)\n",
    "- the address of a variable can be obtained by address-of-operator (&) infront of a variable name"
   ]
  },
  {
   "cell_type": "code",
   "execution_count": 1,
   "metadata": {},
   "outputs": [],
   "source": [
    "// include headers\n",
    "#include <iostream>\n",
    "\n",
    "using namespace std;"
   ]
  },
  {
   "cell_type": "code",
   "execution_count": 2,
   "metadata": {},
   "outputs": [],
   "source": [
    "int num = 100;"
   ]
  },
  {
   "cell_type": "code",
   "execution_count": 8,
   "metadata": {},
   "outputs": [
    {
     "name": "stdout",
     "output_type": "stream",
     "text": [
      "value of num = 100\n",
      "address of num = 0x10eab0830\n"
     ]
    }
   ],
   "source": [
    "cout << \"value of num = \" << num << endl;\n",
    "cout << \"address of num = \" << &num << endl;"
   ]
  },
  {
   "cell_type": "markdown",
   "metadata": {},
   "source": [
    "<a id=\"dereferece\"></a>\n",
    "## deference operator (\\*)\n",
    "- deference operator (\\*) can be used to read the \"value pointed to by\" some memory address"
   ]
  },
  {
   "cell_type": "code",
   "execution_count": 7,
   "metadata": {},
   "outputs": [
    {
     "name": "stdout",
     "output_type": "stream",
     "text": [
      "value pointed to by &num = 100\n"
     ]
    }
   ],
   "source": [
    "cout << \"value pointed to by &num = \" << *&num << endl;"
   ]
  },
  {
   "cell_type": "markdown",
   "metadata": {},
   "source": [
    "<a id=\"pointers\"></a>\n",
    "## declaring pointers\n",
    "- pointers can be declared using \\* de-reference/pointer operator\n",
    "- syntax:\n",
    "```c++\n",
    "    type * pointerVarName;\n",
    "```"
   ]
  },
  {
   "cell_type": "code",
   "execution_count": 9,
   "metadata": {},
   "outputs": [],
   "source": [
    "// declare pointers\n",
    "int num1; // variable NOT a pointer\n",
    "int * pNum1; // declare pNum1 of type int or pointer to int\n",
    "// declare and initialize pointers\n",
    "float * ptr = nullptr; // initialize with nullptr (pointing to no address)\n",
    "int * somePtr = &num1; // initialize somePtr with the address of num1"
   ]
  },
  {
   "cell_type": "code",
   "execution_count": 10,
   "metadata": {},
   "outputs": [
    {
     "name": "stdout",
     "output_type": "stream",
     "text": [
      "*pNum1 = 200\n",
      "pNum = 0x10eab0e00\n",
      "num1 = 200\n",
      "&num1 = 0x10eab0e00\n"
     ]
    }
   ],
   "source": [
    "pNum1 = &num1; // assiging value to a pointer\n",
    "*pNum1 = 200;\n",
    "cout << \"*pNum1 = \" << *pNum1 << endl;\n",
    "cout << \"pNum = \" << pNum1 << endl;\n",
    "cout << \"num1 = \" << num1 << endl;\n",
    "cout << \"&num1 = \" << &num1 << endl;"
   ]
  },
  {
   "cell_type": "markdown",
   "metadata": {},
   "source": [
    "<a id=\"arrays\"></a>\n",
    "## pointers and arrays\n",
    "- concept of arrays is related to that of pointers\n",
    "- arrays work very much like pointers where index is used to deference the address of each cell"
   ]
  },
  {
   "cell_type": "code",
   "execution_count": 2,
   "metadata": {
    "code_folding": []
   },
   "outputs": [],
   "source": [
    "// printArray helper function\n",
    "template<class T>\n",
    "void printArray(T v[], int len) {\n",
    "    char comma[3] = {'\\0', ' ', '\\0'};\n",
    "    cout << '[';\n",
    "    for (int i=0; i<len; i++) {\n",
    "        cout << comma << v[i];\n",
    "        comma[0] = ',';\n",
    "    }\n",
    "    cout << ']';\n",
    "}"
   ]
  },
  {
   "cell_type": "code",
   "execution_count": 3,
   "metadata": {},
   "outputs": [],
   "source": [
    "int intarray[5];\n",
    "int * ptr;\n",
    "int i;"
   ]
  },
  {
   "cell_type": "code",
   "execution_count": 5,
   "metadata": {},
   "outputs": [
    {
     "name": "stdout",
     "output_type": "stream",
     "text": [
      "[0, 0, 0, 0, 0]"
     ]
    }
   ],
   "source": [
    "printArray(intarray, 5);"
   ]
  },
  {
   "cell_type": "code",
   "execution_count": 6,
   "metadata": {},
   "outputs": [
    {
     "name": "stdout",
     "output_type": "stream",
     "text": [
      "0x10a296820 == 0x10a296820\n",
      "10 == 10\n"
     ]
    }
   ],
   "source": [
    "ptr = intarray; // copy base address of intarray to ptr\n",
    "i = 0;\n",
    "*ptr = 10; // same as intarray[i] = 10;\n",
    "cout << ptr << \" == \" << intarray << endl; \n",
    "cout << *ptr << \" == \" << intarray[i] << endl;"
   ]
  },
  {
   "cell_type": "code",
   "execution_count": 10,
   "metadata": {},
   "outputs": [
    {
     "name": "stdout",
     "output_type": "stream",
     "text": [
      "0x10a296824 == 0x10a296824\n",
      "20 == 20 == 20\n"
     ]
    }
   ],
   "source": [
    "// pointer arithmetic + and - (adds/subtracts size of pointer type)\n",
    "ptr++;\n",
    "i++;\n",
    "*ptr = 20; // same as intarray[i] = 20;\n",
    "cout << ptr << \" == \" << intarray+i << endl; \n",
    "cout << *ptr << \" == \" << intarray[i] << \" == \" << *(intarray+i) << endl;"
   ]
  },
  {
   "cell_type": "code",
   "execution_count": 11,
   "metadata": {},
   "outputs": [
    {
     "name": "stdout",
     "output_type": "stream",
     "text": [
      "0x10a296828 == 0x10a296828\n",
      "20 == 20 == 20\n"
     ]
    }
   ],
   "source": [
    "ptr++;\n",
    "i++;\n",
    "*ptr = 30; // same as intarray[i] = 30;\n",
    "cout << ptr << \" == \" << intarray+i << endl; \n",
    "cout << *ptr << \" == \" << intarray[i] << \" == \" << *(intarray+i) << endl;"
   ]
  },
  {
   "cell_type": "code",
   "execution_count": 12,
   "metadata": {},
   "outputs": [
    {
     "name": "stdout",
     "output_type": "stream",
     "text": [
      "0x10a29682c == 0x10a29682c\n",
      "40 == 40 == 40\n"
     ]
    }
   ],
   "source": [
    "ptr++;\n",
    "i++;\n",
    "*ptr = 40; // same as intarray[i] = 40;\n",
    "cout << ptr << \" == \" << intarray+i << endl; \n",
    "cout << *ptr << \" == \" << intarray[i] << \" == \" << *(intarray+i) << endl;"
   ]
  },
  {
   "cell_type": "code",
   "execution_count": 13,
   "metadata": {},
   "outputs": [
    {
     "name": "stdout",
     "output_type": "stream",
     "text": [
      "0x10a296830 == 0x10a296830\n",
      "50 == 50 == 50\n"
     ]
    }
   ],
   "source": [
    "ptr++;\n",
    "i++;\n",
    "*ptr = 50; // same as intarray[i] = 50;\n",
    "cout << ptr << \" == \" << intarray+i << endl; \n",
    "cout << *ptr << \" == \" << intarray[i] << \" == \" << *(intarray+i) << endl;"
   ]
  },
  {
   "cell_type": "code",
   "execution_count": 15,
   "metadata": {},
   "outputs": [
    {
     "name": "stdout",
     "output_type": "stream",
     "text": [
      "[10, 20, 20, 40, 50]"
     ]
    }
   ],
   "source": [
    "// look at all the elements of intarray\n",
    "printArray(intarray, 5)"
   ]
  },
  {
   "cell_type": "markdown",
   "metadata": {},
   "source": [
    "<a id=\"invalid\"></a>\n",
    "## invalid pointers and null pointers\n",
    "- pointers are meant to point to valid addresses, in principle\n",
    "- pointers can also point to any any address, including addresses that do not refer to any valid element\n",
    "    - e.g., uninitialized pointers and pointers to non-existent elements of an array\n",
    "- neighter p nor q point to addresses known to contain a value in the following cell\n",
    "- they do not cause error while declaring...\n",
    "- but can cause error/problem if dereferenced such pointers\n",
    "    - may crash program or point to a random data in memory"
   ]
  },
  {
   "cell_type": "code",
   "execution_count": 17,
   "metadata": {},
   "outputs": [
    {
     "name": "stderr",
     "output_type": "stream",
     "text": [
      "\u001b[1minput_line_25:3:7: \u001b[0m\u001b[0;1;31merror: \u001b[0m\u001b[1mredefinition of 'p'\u001b[0m\n",
      "int * p; // uninitialized pointer\n",
      "\u001b[0;1;32m      ^\n",
      "\u001b[0m\u001b[1minput_line_24:2:8: \u001b[0m\u001b[0;1;30mnote: \u001b[0mprevious definition is here\u001b[0m\n",
      " int * p; // uninitialized pointer\n",
      "\u001b[0;1;32m       ^\n",
      "\u001b[0m"
     ]
    },
    {
     "ename": "Interpreter Error",
     "evalue": "",
     "output_type": "error",
     "traceback": [
      "Interpreter Error: "
     ]
    }
   ],
   "source": [
    "// invalid pointers\n",
    "int * p; // uninitialized pointer\n",
    "int myarray[10];\n",
    "int * q = myarray+20; //element out of bounds"
   ]
  },
  {
   "cell_type": "code",
   "execution_count": 18,
   "metadata": {},
   "outputs": [
    {
     "name": "stderr",
     "output_type": "stream",
     "text": [
      "\u001b[1minput_line_26:2:11: \u001b[0m\u001b[0;1;35mwarning: \u001b[0m\u001b[1mnull passed to a callee that requires a non-null argument [-Wnonnull]\u001b[0m\n",
      " cout << *p << endl;\n",
      "\u001b[0;1;32m          ^\n",
      "\u001b[0m"
     ]
    },
    {
     "ename": "Interpreter Exception",
     "evalue": "",
     "output_type": "error",
     "traceback": [
      "Interpreter Exception: "
     ]
    }
   ],
   "source": [
    "cout << *p << endl;"
   ]
  },
  {
   "cell_type": "code",
   "execution_count": 19,
   "metadata": {},
   "outputs": [
    {
     "name": "stdout",
     "output_type": "stream",
     "text": [
      "0\n"
     ]
    }
   ],
   "source": [
    "cout << *q << endl;"
   ]
  },
  {
   "cell_type": "markdown",
   "metadata": {},
   "source": [
    "<a id=\"functions\"></a>\n",
    "## Pointer to functions\n",
    "- pointers can store addresses of functions as well called function pointers\n",
    "- used for passing a function as an argument to another function\n",
    "- declaring function pointer is very similar to declaring variable pointers\n",
    "- parenthesis around function ptr name is required!\n",
    "```c++\n",
    "    type (* functionPtrName) ( parameter list... );\n",
    "```"
   ]
  },
  {
   "cell_type": "code",
   "execution_count": 2,
   "metadata": {
    "code_folding": []
   },
   "outputs": [],
   "source": [
    "int addition (int a, int b) { \n",
    "    return (a + b); \n",
    "}"
   ]
  },
  {
   "cell_type": "code",
   "execution_count": 3,
   "metadata": {},
   "outputs": [],
   "source": [
    "\n",
    "int subtraction (int a, int b) {\n",
    "    return (a - b); \n",
    "}"
   ]
  },
  {
   "cell_type": "code",
   "execution_count": 4,
   "metadata": {},
   "outputs": [],
   "source": [
    "int operation (int x, int y, int (*func)(int, int)) {\n",
    "  int g;\n",
    "  g = (*func)(x, y); // dereferece func\n",
    "  return g;\n",
    "}"
   ]
  },
  {
   "cell_type": "code",
   "execution_count": 5,
   "metadata": {},
   "outputs": [],
   "source": [
    "int m, n;\n",
    "// function pointer\n",
    "int (*sub)(int, int) = subtraction;"
   ]
  },
  {
   "cell_type": "code",
   "execution_count": 6,
   "metadata": {},
   "outputs": [
    {
     "name": "stdout",
     "output_type": "stream",
     "text": [
      "n = 70\n"
     ]
    }
   ],
   "source": [
    "m = operation(10, 20, addition);\n",
    "n = operation(100, m, sub);\n",
    "cout << \"n = \" << n << endl;"
   ]
  },
  {
   "cell_type": "markdown",
   "metadata": {},
   "source": [
    "<a id=\"dynamic\"></a>\n",
    "## Dynamic memory\n",
    "- all auto/local variables by defaul allocate memory "
   ]
  }
 ],
 "metadata": {
  "kernelspec": {
   "display_name": "C++14",
   "language": "C++14",
   "name": "xeus-cling-cpp14"
  },
  "language_info": {
   "codemirror_mode": "text/x-c++src",
   "file_extension": ".cpp",
   "mimetype": "text/x-c++src",
   "name": "c++",
   "version": "-std=c++14"
  }
 },
 "nbformat": 4,
 "nbformat_minor": 2
}
