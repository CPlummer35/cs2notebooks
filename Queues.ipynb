{
 "cells": [
  {
   "cell_type": "markdown",
   "metadata": {},
   "source": [
    "# Queues\n",
    "- https://opendsa-server.cs.vt.edu/ODSA/Books/CS2/html/Queue.html\n",
    "- https://en.cppreference.com/w/cpp/container/queue\n",
    "\n",
    "\n",
    "## Table of Contents\n",
    "- **[Introduction](#intro)**<br>\n",
    "- **[Array-based Queue](#queue)**<br>\n",
    "- **[Linked Queue](#linked)**<br>"
   ]
  },
  {
   "cell_type": "markdown",
   "metadata": {},
   "source": [
    "<a id=\"intro\">"
   ]
  },
  {
   "cell_type": "markdown",
   "metadata": {},
   "source": [
    "## Introduction\n",
    "- queue is a list-like data structure in which elements are inserted at the back and removed from front\n",
    "    - less flexible than list\n",
    "    - more efficient and easier to implement\n",
    "- operates as **FIFO** (First-In, First-Out) data structure\n",
    "- many applications require the limited form of insert and remove operations that queue provides\n",
    "- mimics real-world queues (lines) e.g., line of customers at restaurants/banks, queue of cars in drive-through\n",
    "<img src=\"./resources/queue.png\" width=\"400px\">\n",
    "\n",
    "### Applications\n",
    "- in computers, CPU scheduling, disk scheduling, file IO, network IO, etc.\n",
    "- email queues, print queues\n",
    "\n",
    "### Operations\n",
    "- enqueue : insert element at the back of queue\n",
    "- dequeue : remove and return element from the front of the queue"
   ]
  },
  {
   "cell_type": "markdown",
   "metadata": {},
   "source": [
    "<a id=\"imp\">"
   ]
  },
  {
   "cell_type": "markdown",
   "metadata": {},
   "source": [
    "## Implementations of Queue as ADT\n",
    "- Stacks can be implemented using array or linked-list\n",
    "\n",
    "### Array implementation of Queue\n",
    "- implementing array-based queue is as simple as stack\n",
    "- below is the array-based queue\n",
    "\n",
    "### Visualization of Array-based Queue\n",
    "https://opendsa-server.cs.vt.edu/ODSA/Books/CS2/html/Queue.html"
   ]
  },
  {
   "cell_type": "code",
   "execution_count": 1,
   "metadata": {},
   "outputs": [],
   "source": [
    "#include <iostream>\n",
    "#include <cassert>\n",
    "\n",
    "using namespace std;"
   ]
  },
  {
   "cell_type": "code",
   "execution_count": 2,
   "metadata": {},
   "outputs": [],
   "source": [
    "template<class T>\n",
    "class ArrayQueue {\n",
    "  private:\n",
    "    size_t maxSize;\n",
    "    size_t front, back;\n",
    "    T * queue;\n",
    "    size_t count;\n",
    "    \n",
    "  public:\n",
    "    ArrayQueue(size_t mSize=100) { //constructor \n",
    "      assert(mSize > 0);\n",
    "      maxSize = mSize;\n",
    "      queue = new T[maxSize];\n",
    "      front = back = 0;\n",
    "    }\n",
    "    \n",
    "    // clear the queue\n",
    "    void clear() { front = back = 0; }\n",
    "    \n",
    "    // get the size of the queue\n",
    "    size_t size() { return count; }\n",
    "    \n",
    "    // check if queue is empty\n",
    "    bool empty() { return count == 0; };\n",
    "    \n",
    "    // check if queue is full\n",
    "    bool full() { return count == maxSize; }\n",
    "    \n",
    "    // return the max size\n",
    "    size_t max_size() { return maxSize; }\n",
    "    \n",
    "    // add element to the queue\n",
    "    void enqueue(T value) {\n",
    "        if (full()) return;\n",
    "        queue[back] = value;\n",
    "        // circular increment\n",
    "        back = (back+1)%maxSize;\n",
    "        count++;\n",
    "    }\n",
    "    \n",
    "    // remove and return the element from the top of the queue\n",
    "    T dequeue() { \n",
    "        T data = queue[front];\n",
    "        // circular increment\n",
    "        front = (front+1)%maxSize;\n",
    "        count--;\n",
    "        return data; \n",
    "    }\n",
    "};"
   ]
  },
  {
   "cell_type": "markdown",
   "metadata": {},
   "source": [
    "## Test ArrayQueue Implementation"
   ]
  },
  {
   "cell_type": "code",
   "execution_count": 3,
   "metadata": {},
   "outputs": [],
   "source": [
    "ArrayQueue<int> aQ(5);"
   ]
  },
  {
   "cell_type": "code",
   "execution_count": 13,
   "metadata": {},
   "outputs": [
    {
     "name": "stdout",
     "output_type": "stream",
     "text": [
      "size of aQ = 3"
     ]
    }
   ],
   "source": [
    "aQ.enqueue(10);\n",
    "aQ.enqueue(20);\n",
    "aQ.enqueue(30);\n",
    "cout << \"size of aQ = \" << aQ.size();"
   ]
  },
  {
   "cell_type": "code",
   "execution_count": 5,
   "metadata": {},
   "outputs": [
    {
     "name": "stdout",
     "output_type": "stream",
     "text": [
      "front of the queue is: 10\n",
      "now the aQ size = 2\n"
     ]
    }
   ],
   "source": [
    "cout << \"front of the queue is: \" << aQ.dequeue() << endl;\n",
    "cout << \"now the aQ size = \" << aQ.size() << endl;"
   ]
  },
  {
   "cell_type": "code",
   "execution_count": 6,
   "metadata": {},
   "outputs": [
    {
     "name": "stdout",
     "output_type": "stream",
     "text": [
      "size of aQ = 5"
     ]
    }
   ],
   "source": [
    "aQ.enqueue(40);\n",
    "aQ.enqueue(50);\n",
    "aQ.enqueue(60);\n",
    "cout << \"size of aQ = \" << aQ.size();"
   ]
  },
  {
   "cell_type": "code",
   "execution_count": 9,
   "metadata": {},
   "outputs": [
    {
     "name": "stdout",
     "output_type": "stream",
     "text": [
      "size of aQ = 5"
     ]
    }
   ],
   "source": [
    "aQ.enqueue(60);\n",
    "cout << \"size of aQ = \" << aQ.size();"
   ]
  },
  {
   "cell_type": "code",
   "execution_count": 10,
   "metadata": {},
   "outputs": [
    {
     "name": "stdout",
     "output_type": "stream",
     "text": [
      "max_size of aQ = 5"
     ]
    }
   ],
   "source": [
    "cout << \"max_size of aQ = \" << aQ.max_size();"
   ]
  },
  {
   "cell_type": "code",
   "execution_count": 12,
   "metadata": {},
   "outputs": [
    {
     "name": "stdout",
     "output_type": "stream",
     "text": [
      " next element = 20\n",
      " next element = 30\n",
      " next element = 40\n",
      " next element = 50\n",
      " next element = 60\n"
     ]
    }
   ],
   "source": [
    "while (!aQ.empty()) {\n",
    "    cout << \" next element = \" << aQ.dequeue() << endl; \n",
    "}"
   ]
  },
  {
   "cell_type": "markdown",
   "metadata": {},
   "source": [
    "<a id=\"linked\">"
   ]
  },
  {
   "cell_type": "markdown",
   "metadata": {},
   "source": [
    "## Linked Queue Implementation\n",
    "- https://opendsa-server.cs.vt.edu/ODSA/Books/CS2/html/QueueLinked.html\n",
    "- elements are inserted after the tail and removed only from the head of the list\n",
    "- header nodes are not required because no special-cases need to be handled\n",
    "- implementation and test is left as an assignment"
   ]
  },
  {
   "cell_type": "code",
   "execution_count": 1,
   "metadata": {},
   "outputs": [],
   "source": [
    "#include <iostream>\n",
    "#include <cassert>\n",
    "\n",
    "using namespace std;"
   ]
  },
  {
   "cell_type": "code",
   "execution_count": 2,
   "metadata": {},
   "outputs": [],
   "source": [
    "template<class T>\n",
    "struct Node {\n",
    "  T data;\n",
    "  Node<T> * next;\n",
    "};"
   ]
  },
  {
   "cell_type": "code",
   "execution_count": 3,
   "metadata": {},
   "outputs": [],
   "source": [
    "template<class T>\n",
    "class LinkedQueue{\n",
    "  private:\n",
    "    size_t nodeCount;\n",
    "    Node<T> * head;\n",
    "    Node<T> * tail;\n",
    "  public:\n",
    "    //constructor\n",
    "    LinkedQueue();\n",
    "    \n",
    "    // clear the Queue\n",
    "    void clear();\n",
    "    \n",
    "    // get the size of the Queue\n",
    "    size_t size();\n",
    "    \n",
    "    // check if Queue is empty\n",
    "    bool empty();\n",
    "    \n",
    "    //insert data at the end of the Queue\n",
    "    void enqueue(T value);\n",
    "    \n",
    "    // remove and return element from front of the Queue\n",
    "    T dequeue();\n",
    "};"
   ]
  },
  {
   "cell_type": "markdown",
   "metadata": {},
   "source": [
    "## Test Linked Queue Implementation"
   ]
  },
  {
   "cell_type": "code",
   "execution_count": 4,
   "metadata": {},
   "outputs": [],
   "source": [
    "LinkedQueue<int> lQ;"
   ]
  },
  {
   "cell_type": "code",
   "execution_count": null,
   "metadata": {},
   "outputs": [],
   "source": [
    "lQ.enqueue(10);\n",
    "lQ.enqueue(20);\n",
    "lQ.enqueue(30);\n",
    "cout << \"size of lQ = \" << lQ.size();"
   ]
  }
 ],
 "metadata": {
  "kernelspec": {
   "display_name": "C++14",
   "language": "C++14",
   "name": "xeus-cling-cpp14"
  },
  "language_info": {
   "codemirror_mode": "text/x-c++src",
   "file_extension": ".cpp",
   "mimetype": "text/x-c++src",
   "name": "c++",
   "version": "-std=c++14"
  }
 },
 "nbformat": 4,
 "nbformat_minor": 2
}
