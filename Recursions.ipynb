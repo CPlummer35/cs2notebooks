{
 "cells": [
  {
   "cell_type": "markdown",
   "metadata": {},
   "source": [
    "# Recursions\n",
    "https://opendsa-server.cs.vt.edu/ODSA/Books/CS2/html/RecIntro.html\n",
    "\n",
    "### Table of Contents\n",
    "- **[Introduction](#intro)**<br>\n",
    "- **[Writing Recursive Function](#writing)**<br>"
   ]
  },
  {
   "cell_type": "markdown",
   "metadata": {},
   "source": [
    "<a id=\"intro\"></a>"
   ]
  },
  {
   "cell_type": "markdown",
   "metadata": {},
   "source": [
    "## Recursion Introduction\n",
    "- an algorithm (or a function in a computer program) is recursive if it invokes itself to do part of its work\n",
    "- the process of solving a large problem by reducing it to one or more sub-problems which are identical in structure to the original problem and somewhat simpler to solve\n",
    "    - eventually sub-problems become so simple that they can be solved without further division\n",
    "- for a recursive approach to be successful, the recursive \"call to itself\" must be on a smaller problem than the one originally attempted\n",
    "- in general, recursive algorithm must have two parts:\n",
    "    1. **base case** - handles a simple input that has direct answer (stops recursion)\n",
    "    2. **general case** - recursive part that contains one or more recursive calls to the algorithm\n",
    "    \n",
    "## pros\n",
    "- makes it possible to solve complex problems with concise solutions that may directly map the recursive problem statement (Tower of Hanoii problem)\n",
    "- focus on base case and how to combine the sub-problems (process of delegating tasks)\n",
    "\n",
    "## cons\n",
    "- not intuitive to understand and may not have a counterpart in everyday problem solving\n",
    "    - must adopt the attitude that sub-problems take care of themselves (taking a leap of faith)\n",
    "- typically less efficient compared to iterative counterparts\n",
    "    - lots of function calls have computational and memory overhead\n",
    "- must be able to understand how to read and write recursive functions\n",
    "\n",
    "## Real-world example\n",
    "### example 1\n",
    "- a project manager divides a large project and delegates sub-tasks to many workers \n",
    "    - s/he simply uses the reports from each worker to submit a final report of completion\n",
    "    - assuming each sub-task is similar\n",
    "    \n",
    "### example 2\n",
    "- you're in the last row of a movie theater and want to know to the row number. How can you find out?"
   ]
  },
  {
   "cell_type": "markdown",
   "metadata": {},
   "source": [
    "## Writing a recursive function\n",
    "- think of the smallest version of the problem and solve it and expand it to the larger\n",
    "- steps:\n",
    "    1. write a function header in a way that you can call it to solve the smallest problem\n",
    "    - call the function with the smallest problem case\n",
    "        - mark this as your base case in function implementation\n",
    "    - expand the function header to solve a generic larger problem if necessary\n",
    "        - add this as the general case \n",
    "        - use the solution from the base case if necessary\n",
    "- example:\n",
    " \n",
    " ```cpp\n",
    " returnType functionName(inputData) {\n",
    "     if (base case) {\n",
    "         // answer directly found and return if necessary\n",
    "     }\n",
    "     else {\n",
    "         // call functionName(smallerInputData)\n",
    "         // use the result if functionName returns a value\n",
    "         // return your final answer\n",
    "     }\n",
    " }\n",
    "```"
   ]
  },
  {
   "cell_type": "markdown",
   "metadata": {},
   "source": [
    "## Exercise 1\n",
    "- Write a recursive solution to a countdown problem (countdown to \"Happy New Year!\", \"Blast Off!\", etc.)"
   ]
  },
  {
   "cell_type": "code",
   "execution_count": 2,
   "metadata": {},
   "outputs": [],
   "source": [
    "#include <iostream>\n",
    "using namespace std;"
   ]
  },
  {
   "cell_type": "code",
   "execution_count": 3,
   "metadata": {},
   "outputs": [],
   "source": [
    "void countDown(int n) {\n",
    "    // base case\n",
    "    if (n == 0)\n",
    "        cout << \"Blast Off!\" << endl;\n",
    "    // general case\n",
    "    else {\n",
    "        cout << n << endl;\n",
    "        countDown(n-1);\n",
    "    }\n",
    "}"
   ]
  },
  {
   "cell_type": "code",
   "execution_count": 10,
   "metadata": {},
   "outputs": [
    {
     "name": "stdout",
     "output_type": "stream",
     "text": [
      "10\n",
      "9\n",
      "8\n",
      "7\n",
      "6\n",
      "5\n",
      "4\n",
      "3\n",
      "2\n",
      "1\n",
      "Blast Off!\n"
     ]
    }
   ],
   "source": [
    "countDown(10);"
   ]
  },
  {
   "cell_type": "markdown",
   "metadata": {},
   "source": [
    "## visualize it at pythontutor.com: https://goo.gl/LB3ET6\n",
    "## Compile and run demo-programs/recursions/countDown.cpp"
   ]
  },
  {
   "cell_type": "markdown",
   "metadata": {},
   "source": [
    "## Exercise 2\n",
    "- Find sum of n elements stored in an array using recursive solution."
   ]
  },
  {
   "cell_type": "code",
   "execution_count": 3,
   "metadata": {},
   "outputs": [],
   "source": [
    "// demonstrate it in the class from scratch\n",
    "#include <iostream>\n",
    "using namespace std;"
   ]
  },
  {
   "cell_type": "code",
   "execution_count": 4,
   "metadata": {},
   "outputs": [],
   "source": [
    "int sum(int nums[], int startIndex, int endIndex) {\n",
    "    if (startIndex == endIndex)\n",
    "        return nums[startIndex];\n",
    "    else {\n",
    "        int s = nums[startIndex] + sum(nums, startIndex + 1, endIndex);\n",
    "        return s;\n",
    "    }\n",
    "}"
   ]
  },
  {
   "cell_type": "code",
   "execution_count": 5,
   "metadata": {},
   "outputs": [],
   "source": [
    "int s = 0;\n",
    "int nums[] = {100};"
   ]
  },
  {
   "cell_type": "code",
   "execution_count": 11,
   "metadata": {},
   "outputs": [],
   "source": [
    "int nums1[] = {10, 20, 30};"
   ]
  },
  {
   "cell_type": "code",
   "execution_count": 12,
   "metadata": {},
   "outputs": [
    {
     "name": "stdout",
     "output_type": "stream",
     "text": [
      "sum = 60\n"
     ]
    }
   ],
   "source": [
    "s = sum(nums1, 0, 2);\n",
    "cout << \"sum = \" << s << endl;"
   ]
  },
  {
   "cell_type": "markdown",
   "metadata": {},
   "source": [
    "## Exercise 3\n",
    "- Find maximum/minimum value in an array of n elements using recursive solution."
   ]
  },
  {
   "cell_type": "code",
   "execution_count": null,
   "metadata": {},
   "outputs": [],
   "source": []
  }
 ],
 "metadata": {
  "kernelspec": {
   "display_name": "C++14",
   "language": "C++14",
   "name": "xeus-cling-cpp14"
  },
  "language_info": {
   "codemirror_mode": "text/x-c++src",
   "file_extension": ".cpp",
   "mimetype": "text/x-c++src",
   "name": "c++",
   "version": "-std=c++14"
  }
 },
 "nbformat": 4,
 "nbformat_minor": 2
}
