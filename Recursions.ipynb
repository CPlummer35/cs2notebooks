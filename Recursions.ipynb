{
 "cells": [
  {
   "cell_type": "markdown",
   "metadata": {},
   "source": [
    "# Recursions\n",
    "https://opendsa-server.cs.vt.edu/ODSA/Books/CS2/html/RecIntro.html\n",
    "\n",
    "### Table of Contents\n",
    "- **[Introduction](#intro)**<br>\n",
    "- **[Writing Recursive Function](#writing)**<br>"
   ]
  },
  {
   "cell_type": "markdown",
   "metadata": {},
   "source": [
    "<a id=\"intro\"></a>"
   ]
  },
  {
   "cell_type": "markdown",
   "metadata": {},
   "source": [
    "## Recursion Introduction\n",
    "- an algorithm (or a function in a computer program) is recursive if it invokes itself to do part of its work\n",
    "- the process of solving a large problem by reducing it to one or more sub-problems which are identical in structure to the original problem and somewhat simpler to solve\n",
    "    - eventually sub-problems become so simple that they can be solved without further division\n",
    "- for a recursive approach to be successful, the recursive \"call to itself\" must be on a smaller problem than the one originally attempted\n",
    "- in general, recursive algorithm must have two parts:\n",
    "    1. **base case** - handles a simple input that has direct answer (stops recursion)\n",
    "    2. **general case** - recursive part that contains one or more recursive calls to the algorithm\n",
    "    \n",
    "## pros\n",
    "- makes it possible to solve complex problems with concise solutions that may directly map the recursive problem statement (Tower of Hanoii problem)\n",
    "- focus on base case and how to combine the sub-problems (process of delegating tasks)\n",
    "\n",
    "## cons\n",
    "- not intuitive to understand and may not have a counterpart in everyday problem solving\n",
    "    - must adopt the attitude that sub-problems take care of themselves (taking a leap of faith)\n",
    "- typically less efficient compared to iterative counterparts\n",
    "    - lots of function calls have computational and memory overhead\n",
    "- must be able to understand how to read and write recursive functions\n",
    "\n",
    "## Real-world example\n",
    "### example 1\n",
    "- a project manager divides a large project and delegates sub-tasks to many workers \n",
    "    - s/he simply uses the reports from each worker to submit a final report of completion\n",
    "    - assuming each sub-task is similar\n",
    "    \n",
    "### example 2\n",
    "- you're in the last row of a movie theater and want to know to the row number. How can you find out?"
   ]
  },
  {
   "cell_type": "markdown",
   "metadata": {},
   "source": [
    "## Writing a recursive function\n",
    "- think of the smallest version of the problem and solve it and expand it to the larger\n",
    "- steps:\n",
    "    1. write a function header in a way that you can call it to solve the smallest problem\n",
    "    - call the function with the smallest problem case\n",
    "        - mark this as your base case in function implementation\n",
    "    - expand the function header to solve a generic larger problem if necessary\n",
    "        - add this as the general case \n",
    "        - use the solution from the base case if necessary\n",
    "- example:\n",
    " \n",
    " ```cpp\n",
    " returnType functionName(inputData) {\n",
    "     if (base case) {\n",
    "         // answer directly found and return if necessary\n",
    "     }\n",
    "     else {\n",
    "         // call functionName(smallerInputData)\n",
    "         // use the result if functionName returns a value\n",
    "         // return your final answer\n",
    "     }\n",
    " }\n",
    "```"
   ]
  },
  {
   "cell_type": "markdown",
   "metadata": {},
   "source": [
    "## Exercise 1\n",
    "- Write a recursive solution to a countdown problem (countdown to \"Happy New Year!\", \"Blast Off!\", etc.)"
   ]
  },
  {
   "cell_type": "code",
   "execution_count": 2,
   "metadata": {},
   "outputs": [],
   "source": [
    "#include <iostream>\n",
    "using namespace std;"
   ]
  },
  {
   "cell_type": "code",
   "execution_count": 3,
   "metadata": {},
   "outputs": [],
   "source": [
    "void countDown(int n) {\n",
    "    // base case\n",
    "    if (n == 0)\n",
    "        cout << \"Blast Off!\" << endl;\n",
    "    // general case\n",
    "    else {\n",
    "        cout << n << endl;\n",
    "        countDown(n-1);\n",
    "    }\n",
    "}"
   ]
  },
  {
   "cell_type": "code",
   "execution_count": 10,
   "metadata": {},
   "outputs": [
    {
     "name": "stdout",
     "output_type": "stream",
     "text": [
      "10\n",
      "9\n",
      "8\n",
      "7\n",
      "6\n",
      "5\n",
      "4\n",
      "3\n",
      "2\n",
      "1\n",
      "Blast Off!\n"
     ]
    }
   ],
   "source": [
    "countDown(10);"
   ]
  },
  {
   "cell_type": "markdown",
   "metadata": {},
   "source": [
    "## visualize it at pythontutor.com: https://goo.gl/LB3ET6\n",
    "## Compile and run demo-programs/recursions/countDown.cpp"
   ]
  },
  {
   "cell_type": "markdown",
   "metadata": {},
   "source": [
    "### Exercise 2\n",
    "- Find sum of n elements stored in an array using recursive solution.\n",
    "    - using loop would be easier, right?"
   ]
  },
  {
   "cell_type": "code",
   "execution_count": 5,
   "metadata": {},
   "outputs": [],
   "source": [
    "// demonstrate it in the class from scratch\n",
    "#include <iostream>\n",
    "using namespace std;"
   ]
  },
  {
   "cell_type": "code",
   "execution_count": 1,
   "metadata": {},
   "outputs": [],
   "source": [
    "// sum of 1 number is that number\n",
    "// sum of n number is firstNumber + sum(remainingNumbers)\n",
    "// which one is base and which one is general?\n",
    "int sum(int nums[], int startIndex, int endIndex) {\n",
    "    if (startIndex == endIndex)\n",
    "        return nums[startIndex];\n",
    "    else {\n",
    "        int s = nums[startIndex] + sum(nums, startIndex + 1, endIndex);\n",
    "        return s;\n",
    "    }\n",
    "}"
   ]
  },
  {
   "cell_type": "code",
   "execution_count": 5,
   "metadata": {},
   "outputs": [],
   "source": [
    "int s = 0;\n",
    "int nums[] = {100};"
   ]
  },
  {
   "cell_type": "code",
   "execution_count": 11,
   "metadata": {},
   "outputs": [],
   "source": [
    "int nums1[] = {10, 20, 30};"
   ]
  },
  {
   "cell_type": "code",
   "execution_count": 12,
   "metadata": {},
   "outputs": [
    {
     "name": "stdout",
     "output_type": "stream",
     "text": [
      "sum = 60\n"
     ]
    }
   ],
   "source": [
    "s = sum(nums1, 0, 2);\n",
    "cout << \"sum = \" << s << endl;"
   ]
  },
  {
   "cell_type": "markdown",
   "metadata": {},
   "source": [
    "### Exercise 3\n",
    "- Find maximum/minimum value in an array of n elements using recursive solution\n",
    "- Practice it!!"
   ]
  },
  {
   "cell_type": "code",
   "execution_count": null,
   "metadata": {},
   "outputs": [],
   "source": [
    "int max(int nums[], int i, int j) {\n",
    "    // FIMXE: base case\n",
    "    // FIXME: general case\n",
    "}"
   ]
  },
  {
   "cell_type": "markdown",
   "metadata": {},
   "source": [
    "### Exercise 4\n",
    "- Find a factorial of n (n!) using recursive solution\n",
    "- Definition:\n",
    "    - 1! = 1\n",
    "    - n! = n * (n-1)!"
   ]
  },
  {
   "cell_type": "code",
   "execution_count": 2,
   "metadata": {},
   "outputs": [],
   "source": [
    "// solve exercise 4"
   ]
  },
  {
   "cell_type": "code",
   "execution_count": null,
   "metadata": {},
   "outputs": [],
   "source": [
    "long long int fact(int n) {\n",
    "    if (n == 1)\n",
    "        return 1;\n",
    "    else\n",
    "        return n*fact(n-1);\n",
    "}"
   ]
  },
  {
   "cell_type": "markdown",
   "metadata": {},
   "source": [
    "#### visualize it at pythontutor.com: https://goo.gl/qL17S8"
   ]
  },
  {
   "cell_type": "markdown",
   "metadata": {},
   "source": [
    "### Exercise 5\n",
    "- Compute the Fibonacci sequence for a given number. The Fibonacci Sequence is the series of numbers: 1, 1, 2, 3, 5, 8, 13, 21, ...\n",
    "- Definition:\n",
    "    - fib(1) = 1\n",
    "    - fib(2) = 1\n",
    "    - fib(n) = fin(n-1) + fib(n-2)"
   ]
  },
  {
   "cell_type": "code",
   "execution_count": 3,
   "metadata": {},
   "outputs": [],
   "source": [
    "// solve exercise 5\n",
    "int fib(int n) {\n",
    "    if (n == 1) //base case\n",
    "        return 1;\n",
    "    else if (n == 2) // base case\n",
    "        return 1;\n",
    "    else //general case\n",
    "        return fib(n-1) + fib(n-2);\n",
    "}"
   ]
  },
  {
   "cell_type": "code",
   "execution_count": 6,
   "metadata": {},
   "outputs": [
    {
     "name": "stdout",
     "output_type": "stream",
     "text": [
      "fib(10) = 55\n"
     ]
    }
   ],
   "source": [
    "cout << \"fib(10) = \" << fib(10) << endl;"
   ]
  },
  {
   "cell_type": "markdown",
   "metadata": {},
   "source": [
    "### how many time is the fib() called for fib(10)?\n",
    "- visualize it with pythontutor.com for answer: https://goo.gl/a6RrDW\n",
    "\n",
    "### better way... using memoization technique\n",
    "https://en.wikipedia.org/wiki/Memoization\n",
    "- optimization technique where you save/remember/cache the previously calculated answer to avoid recalculating for the same input"
   ]
  },
  {
   "cell_type": "code",
   "execution_count": 1,
   "metadata": {},
   "outputs": [],
   "source": [
    "#include <iostream>\n",
    "#include <unordered_map>\n",
    "\n",
    "using namespace std;"
   ]
  },
  {
   "cell_type": "code",
   "execution_count": 2,
   "metadata": {},
   "outputs": [],
   "source": [
    "unordered_map<int, int> FibDict;\n",
    "int call = 0;"
   ]
  },
  {
   "cell_type": "code",
   "execution_count": 3,
   "metadata": {},
   "outputs": [],
   "source": [
    "// solve exercise 5 using memoization technique\n",
    "int fibMemoized(int n) {\n",
    "    // check if fib of n is already calculated\n",
    "    call += 1;\n",
    "    if (n == 1) //base case\n",
    "        return 1;\n",
    "    else if (n == 2) // base case\n",
    "        return 1;\n",
    "    else {//general case \n",
    "        //auto search = FibDict.find(n);\n",
    "        //if (search != FibDict.end())\n",
    "        //    return search->second;\n",
    "        int ans = fibMemoized(n-1) + fibMemoized(n-2);\n",
    "        //FibDict[n] = ans;\n",
    "        return ans;\n",
    "    }\n",
    "}"
   ]
  },
  {
   "cell_type": "code",
   "execution_count": 4,
   "metadata": {},
   "outputs": [
    {
     "name": "stdout",
     "output_type": "stream",
     "text": [
      "fib(10) = 55\n",
      "total fibMemoized call = 109\n"
     ]
    }
   ],
   "source": [
    "cout << \"fib(10) = \" << fibMemoized(10) << endl;\n",
    "cout << \"total fibMemoized call = \" << call << endl;"
   ]
  },
  {
   "cell_type": "markdown",
   "metadata": {},
   "source": [
    "### Exercise 6\n",
    "- Use memoization technique to improve recursive factorial function.\n",
    "- Practice it!"
   ]
  },
  {
   "cell_type": "markdown",
   "metadata": {},
   "source": [
    "### Exercise 7\n",
    "- Find greatest common divisor (gcd) of a given two integers using recursive solution.\n",
    "- Definition:\n",
    "    - gcd(n, 0) = n\n",
    "    - gcd(n, m) = gcd(m, n%m)\n",
    "    \n",
    "- Solve it!"
   ]
  },
  {
   "cell_type": "markdown",
   "metadata": {},
   "source": [
    "### Exercise 8\n",
    "- Print the steps needed to solve Tower of Hanoi puzzle: https://www.khanacademy.org/computing/computer-science/algorithms/towers-of-hanoi/a/towers-of-hanoi\n",
    "- recursive algorithm:\n",
    "- let's say disks are numbered from 1 to n with (n the largest)\n",
    "    1. move n-1 disks from peg 1 to peg 2 with the help of peg 3\n",
    "    2. move disk n from peg 1 to peg 3\n",
    "    3. move n-1 disks from peg 2 to peg 3 with the help of peg 1"
   ]
  },
  {
   "cell_type": "code",
   "execution_count": 2,
   "metadata": {},
   "outputs": [],
   "source": [
    "void moveDisks(int n, int from, int helper, int dest)\n",
    "{\n",
    "    if (n >= 1)\n",
    "    {\n",
    "        moveDisks(n-1, from, dest, helper);\n",
    "        cout << \"Move disk #\" << n << \" from peg \" << from << \" to peg \" << dest << endl;\n",
    "        moveDisks(n-1, helper, from, dest);\n",
    "    }\n",
    "}"
   ]
  },
  {
   "cell_type": "code",
   "execution_count": 6,
   "metadata": {},
   "outputs": [
    {
     "name": "stdout",
     "output_type": "stream",
     "text": [
      "Move disk #1 from peg 1 to peg 2\n",
      "Move disk #2 from peg 1 to peg 3\n",
      "Move disk #1 from peg 2 to peg 3\n"
     ]
    }
   ],
   "source": [
    "moveDisks(2, 1, 2, 3);"
   ]
  },
  {
   "cell_type": "markdown",
   "metadata": {},
   "source": [
    "### How long will it take to move 64 golden disks?\n",
    "- total moves $\\approx$ $2^64 \\approx 1.8446744e+19$\n",
    "- if each monks work 24/7 moving 1 disk per second non-stop and not making a single mistake\n",
    "    - would take: 5,848,682,331 (> 5B centuries)\n",
    "- computer doing the same @ 1B moves/per second would take about 500 years!"
   ]
  },
  {
   "cell_type": "markdown",
   "metadata": {},
   "source": [
    "### Exercise 9 - Cumulative Sum\n",
    "- Write a recursive solution to find and return the sum of the values from 1 to n.\n",
    "- test cases:\n",
    "    - assert(sum(5) == 15);\n",
    "    - assert(sum(3) == 6);"
   ]
  },
  {
   "cell_type": "markdown",
   "metadata": {},
   "source": [
    "### Exercise 10 - Add Odd Values\n",
    "- Write a recursive solution to add and return the sum of the positive odd values from 1 to n given some positive integer n.\n",
    "- test cases:\n",
    "    - assert(addOdd(1) == 1);\n",
    "    - assert(addOdd(2) == 1);\n",
    "    - assert(addOdd(3) == 4);\n",
    "    - assert(addOdd(7) == 16);"
   ]
  },
  {
   "cell_type": "markdown",
   "metadata": {},
   "source": [
    "### Exercise 11 - Sum of the Digits\n",
    "- Write a recursive solution to add and return the sum of the digits in a given non-negative integer.\n",
    "- test cases:\n",
    "    - assert(sumOfDigits(1234) == 10);\n",
    "    - assert(sumOfDigits(999) == 27);"
   ]
  },
  {
   "cell_type": "markdown",
   "metadata": {},
   "source": [
    "### Exercise 12 - Count Characters\n",
    "- Write a recursive solution to count the number of times a letter 'A' appears in given string str.\n",
    "- test cases:\n",
    "    - assert(countChr(\"ctcowcAt\") == 1);\n",
    "    - assert(countChr(\"AAbAt\") == 3);"
   ]
  },
  {
   "cell_type": "code",
   "execution_count": null,
   "metadata": {},
   "outputs": [],
   "source": []
  }
 ],
 "metadata": {
  "kernelspec": {
   "display_name": "C++14",
   "language": "C++14",
   "name": "xeus-cling-cpp14"
  },
  "language_info": {
   "codemirror_mode": "text/x-c++src",
   "file_extension": ".cpp",
   "mimetype": "text/x-c++src",
   "name": "c++",
   "version": "-std=c++14"
  }
 },
 "nbformat": 4,
 "nbformat_minor": 2
}
