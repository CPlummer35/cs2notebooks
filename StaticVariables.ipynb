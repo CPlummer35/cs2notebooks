{
 "cells": [
  {
   "cell_type": "markdown",
   "metadata": {},
   "source": [
    "# Static Variables\n",
    "https://www.geeksforgeeks.org/static-variables-in-c/\n",
    "\n",
    "## Table of Contents\n",
    "- [Static variables](#static)\n"
   ]
  },
  {
   "cell_type": "markdown",
   "metadata": {},
   "source": [
    "## Headers and helper functions\n",
    "- run include headers and helper function cells if Kernel crashes or is restarted"
   ]
  },
  {
   "cell_type": "code",
   "execution_count": 4,
   "metadata": {},
   "outputs": [],
   "source": [
    "// headers required in this notebook demo codes\n",
    "#include <iostream>\n",
    "#include <string>\n",
    "\n",
    "using namespace std;"
   ]
  },
  {
   "cell_type": "markdown",
   "metadata": {},
   "source": [
    "<a id=\"static\"></a>"
   ]
  },
  {
   "cell_type": "markdown",
   "metadata": {},
   "source": [
    "# Static variables\n",
    "- as opposed to auto variables, static variables' value \"stick\" or preserve even after they're out of their scope\n",
    "- once the static variables are initialized, they're not reinitialized in the subsequent calls\n",
    "- static variables if initialized are stored in data segment (see [Memory Segments](./MemorySegments.ipynb))\n",
    "- it static variables are not explictly initialized, they're 0 initialized and stored in BSS segment\n",
    "- syntax:\n",
    "```c++\n",
    "    static type varName;\n",
    "```"
   ]
  },
  {
   "cell_type": "code",
   "execution_count": 2,
   "metadata": {},
   "outputs": [],
   "source": [
    "void someFunction() {\n",
    "    static int count = 0; // local scope; but store in BSS segment\n",
    "    int num = 0;\n",
    "    num++;\n",
    "    count++;\n",
    "    cout << \"num = \" << num << endl;\n",
    "    cout << \"count = \" << count << endl;\n",
    "}"
   ]
  },
  {
   "cell_type": "code",
   "execution_count": 8,
   "metadata": {},
   "outputs": [],
   "source": [
    "// can't access count from anywhere but from inside someFunction !\n",
    "//cout << count << endl;"
   ]
  },
  {
   "cell_type": "code",
   "execution_count": 3,
   "metadata": {},
   "outputs": [
    {
     "name": "stdout",
     "output_type": "stream",
     "text": [
      "num = 1\n",
      "count = 1\n"
     ]
    }
   ],
   "source": [
    "someFunction();"
   ]
  },
  {
   "cell_type": "code",
   "execution_count": null,
   "metadata": {},
   "outputs": [],
   "source": [
    "someFunction();"
   ]
  },
  {
   "cell_type": "markdown",
   "metadata": {},
   "source": [
    "### visualize using pythontutor.com\n",
    "https://goo.gl/p3YVGP"
   ]
  },
  {
   "cell_type": "code",
   "execution_count": null,
   "metadata": {},
   "outputs": [],
   "source": []
  }
 ],
 "metadata": {
  "kernelspec": {
   "display_name": "C++14",
   "language": "C++14",
   "name": "xeus-cling-cpp14"
  },
  "language_info": {
   "codemirror_mode": "text/x-c++src",
   "file_extension": ".cpp",
   "mimetype": "text/x-c++src",
   "name": "c++",
   "version": "-std=c++14"
  }
 },
 "nbformat": 4,
 "nbformat_minor": 2
}
